{
 "cells": [
  {
   "cell_type": "markdown",
   "id": "e4756300-2bd2-4fea-aff8-854af06ef804",
   "metadata": {
    "tags": []
   },
   "source": [
    "## Working with Keboola API\n",
    "\n",
    "This notebook demonstrates how to perform basic operations with Keboola's API using the `requests` library and the Keboola library. We'll cover tasks such as listing buckets and tables, listing configurations, fetching configuration details, and creating or updating objects.\n",
    "\n",
    "### Key Steps:\n",
    "\n",
    "1. **Setup and Authentication**: Set up the necessary authentication to interact with Keboola's API.\n",
    "2. **List Buckets and Tables**: Fetch and display the list of buckets and tables in your Keboola project.\n",
    "3. **List Configurations**: Retrieve and display the list of configurations.\n",
    "4. **Fetch Configuration Detail**: Fetch and display detailed information about a specific configuration.\n",
    "\n",
    "### API Base URLs\n",
    "\n",
    "Depending on your region and environment, use the appropriate base URL for Keboola's API:\n",
    "\n",
    "1. **Keboola Connection (AWS US)**\n",
    "   - Base URL: `https://connection.keboola.com`\n",
    "\n",
    "2. **Keboola Connection (AWS EU-Central)**\n",
    "   - Base URL: `https://connection.eu-central-1.keboola.com`\n",
    "\n",
    "3. **Keboola Connection (Azure North Europe)**\n",
    "   - Base URL: `https://connection.north-europe.azure.keboola.com`\n",
    "\n",
    "4. **Keboola Connection (GCP West Europe)**\n",
    "   - Base URL: `https://connection.europe-west3.gcp.keboola.com`\n",
    "   \n",
    "5. **Keboola Connection (GCP US)**\n",
    "   - Base URL: `https://connection.us-east4.gcp.keboola.com`"
   ]
  },
  {
   "cell_type": "code",
   "execution_count": null,
   "id": "cae39bf6-7318-43e4-8289-47b2517ff8c9",
   "metadata": {
    "tags": []
   },
   "outputs": [],
   "source": [
    "import requests\n",
    "from kbcstorage.client import Client\n",
    "import json\n",
    "import logging\n",
    "\n",
    "\n",
    "# Configure logging\n",
    "logging.basicConfig(level=logging.INFO)\n",
    "\n",
    "\n",
    "# Set up authentication\n",
    "# Replace 'your_token' with your actual Keboola token\n",
    "token = 'your_token'\n",
    "headers = {\n",
    "    'X-StorageApi-Token': token,\n",
    "    'Content-Type': 'application/json'\n",
    "}\n",
    "\n",
    "# Define the Keboola API URL\n",
    "base_url = 'https://connection.keboola.com/'\n",
    "\n",
    "# Initialize the Keboola Storage API client\n",
    "client = Client(base_url, token)\n"
   ]
  },
  {
   "cell_type": "markdown",
   "id": "308a3916-2e1d-4ade-a7b7-4d29ab1b5aa7",
   "metadata": {},
   "source": [
    "---\n",
    "### List Buckets and Tables\n",
    "\n",
    "In this section, we'll fetch and display the list of buckets and tables in your Keboola project using both the `kbcstorage` library and the `requests` library.\n"
   ]
  },
  {
   "cell_type": "code",
   "execution_count": null,
   "id": "1eb39bf0-0a5e-484e-aa4c-4799a8e377c6",
   "metadata": {
    "tags": []
   },
   "outputs": [],
   "source": [
    "# Using the kbcstorage client to list buckets and tables\n",
    "buckets = client.buckets.list()\n",
    "buckets_cnt = len(buckets)\n",
    "logging.info(f'{buckets_cnt} buckets fetched successfully using kbcstorage client.')\n",
    "tables = client.tables.list()\n",
    "tables_cnt = len(tables)\n",
    "logging.info(f'{tables_cnt} tables fetched successfully using kbcstorage client.')\n"
   ]
  },
  {
   "cell_type": "code",
   "execution_count": null,
   "id": "3be01e35-4ba1-4592-b291-a72d7022f813",
   "metadata": {
    "tags": []
   },
   "outputs": [],
   "source": [
    "# Using the requests library to list buckets and tables\n",
    "response = requests.get(f'{base_url}/v2/storage/buckets', headers={'X-StorageApi-Token': token})\n",
    "if response.status_code == 200:\n",
    "    buckets = response.json()\n",
    "    buckets_cnt = len(buckets)\n",
    "    logging.info(f'{buckets_cnt} buckets fetched successfully using Requests library.')\n",
    "else:\n",
    "    logging.error(f\"Failed to fetch buckets: {response.text}\")\n",
    "    \n",
    "tables = []    \n",
    "for bucket in buckets:\n",
    "    bucket_id = bucket['id']\n",
    "    tables_response = requests.get(f'{base_url}/v2/storage/buckets/{bucket_id}/tables', headers={'X-StorageApi-Token': token})\n",
    "    for table in tables_response.json():\n",
    "        tables.append(table)\n",
    "talbes_cnt = len(tables)\n",
    "logging.info(f'{talbes_cnt} tables fetched successfully using Requests library.')\n"
   ]
  },
  {
   "cell_type": "markdown",
   "id": "3774be01-e893-4934-8016-bcf740bba195",
   "metadata": {},
   "source": [
    "---\n",
    "### List Configurations\n",
    "\n",
    "Next, we'll retrieve and display the list of configurations.\n",
    "\n",
    "Note that `kbcstorage` library doesn't have any methods to work with Component Configurations, so we are using only Requests library.\n"
   ]
  },
  {
   "cell_type": "code",
   "execution_count": null,
   "id": "cc8c46f1-077d-42da-8a7a-1f31bd92ff64",
   "metadata": {
    "tags": []
   },
   "outputs": [],
   "source": [
    "# Enter a Component ID - you'll find it in URL when you access the component configuration in the UI\n",
    "component_id = 'your_component_id'\n",
    "\n",
    "# Using the requests library to list configurations\n",
    "response = requests.get(f'{base_url}/v2/storage/components/{component_id}/configs', headers={'X-StorageApi-Token': token})\n",
    "if response.status_code == 200:\n",
    "    components = response.json()\n",
    "    components_cnt = len(components)\n",
    "    logging.info(f\"{components_cnt} configuration of {component_id} component fetched successfully using requests library\")\n",
    "\n",
    "else:\n",
    "    logging.error(f\"Failed to fetch components: {response.text}\")\n"
   ]
  },
  {
   "cell_type": "markdown",
   "id": "27e11928-d627-4cca-8478-881684c180c9",
   "metadata": {},
   "source": [
    "---\n",
    "### Fetch Configuration Detail\n",
    "\n",
    "We'll fetch and display detailed information about a specific configuration. Replace `component_id` and `configuration_id` with the actual IDs from your project.\n"
   ]
  },
  {
   "cell_type": "code",
   "execution_count": null,
   "id": "2a04cdd0-4faa-48bb-a381-15f76b761e90",
   "metadata": {
    "tags": []
   },
   "outputs": [],
   "source": [
    "# Using the Requests library to fetch configuration detail\n",
    "component_id = 'your_component_id'  # Replace with your component ID\n",
    "configuration_id = 'your_configuration_id'  # Replace with your configuration ID\n",
    "\n",
    "response = requests.get(f'{base_url}/v2/storage/components/{component_id}/configs/{configuration_id}', headers={'X-StorageApi-Token': token})\n",
    "if response.status_code == 200:\n",
    "    configuration = response.json()\n",
    "    logging.info(f\"Configuration detail for {configuration_id} fetched successfully using requests library:\")\n",
    "    logging.info(json.dumps(configuration, indent=2))\n",
    "else:\n",
    "    logging.error(f\"Failed to fetch configuration detail: {response.text}\")\n"
   ]
  }
 ],
 "metadata": {
  "kernelspec": {
   "display_name": "Python3",
   "language": "python",
   "name": "python3"
  },
  "language_info": {
   "codemirror_mode": {
    "name": "ipython",
    "version": 3
   },
   "file_extension": ".py",
   "mimetype": "text/x-python",
   "name": "python",
   "nbconvert_exporter": "python",
   "pygments_lexer": "ipython3",
   "version": "3.10.10"
  }
 },
 "nbformat": 4,
 "nbformat_minor": 5
}
