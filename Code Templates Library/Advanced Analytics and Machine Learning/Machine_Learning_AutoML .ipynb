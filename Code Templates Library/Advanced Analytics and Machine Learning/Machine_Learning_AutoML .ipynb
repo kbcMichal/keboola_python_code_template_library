{
 "cells": [
  {
   "cell_type": "markdown",
   "id": "8072eddf-c934-4c2d-92af-596874660eee",
   "metadata": {},
   "source": [
    "# AutoML with H2O\n",
    "\n",
    "This notebook will guide you through the steps to use H2O AutoML for model training. Before starting, ensure that you have either gone through the Data_Preparation_for_ML notebook or have your datasets named `train_dataset.csv` and `test_dataset.csv` in the `/data/` folder.\n",
    "\n",
    "## Steps Included:\n",
    "1. Selecting and loading datasets\n",
    "2. Selecting the target variable\n",
    "3. Performance exploration (calculating GINI or IV)\n",
    "4. Feature importance analysis\n",
    "5. Correlation treatment\n",
    "6. H2O AutoML\n"
   ]
  },
  {
   "cell_type": "markdown",
   "id": "99eff431-8c9d-4abf-bb7b-d9ce1e05fdb1",
   "metadata": {},
   "source": [
    "---\n",
    "## Importing necessary libraries"
   ]
  },
  {
   "cell_type": "code",
   "execution_count": 1,
   "id": "7ca83ffb-c19e-4fa9-800c-27b8e109dc79",
   "metadata": {
    "tags": []
   },
   "outputs": [
    {
     "name": "stdout",
     "output_type": "stream",
     "text": [
      "Checking whether there is an H2O instance running at http://localhost:54321..... not found.\n",
      "Attempting to start a local H2O server...\n",
      "  Java Version: openjdk version \"13.0.2\" 2020-01-14; OpenJDK Runtime Environment (build 13.0.2+8); OpenJDK 64-Bit Server VM (build 13.0.2+8, mixed mode, sharing)\n",
      "  Starting server from /home/default/lib/python3.10/site-packages/h2o/backend/bin/h2o.jar\n",
      "  Ice root: /tmp/tmplvktwbdb\n",
      "  JVM stdout: /tmp/tmplvktwbdb/h2o_python_75198895_started_from_python.out\n",
      "  JVM stderr: /tmp/tmplvktwbdb/h2o_python_75198895_started_from_python.err\n",
      "  Server is running at http://127.0.0.1:54321\n",
      "Connecting to H2O server at http://127.0.0.1:54321 ... successful.\n",
      "Warning: Your H2O cluster version is (10 months and 10 days) old.  There may be a newer version available.\n",
      "Please download and install the latest version from: https://h2o-release.s3.amazonaws.com/h2o/latest_stable.html\n"
     ]
    },
    {
     "data": {
      "text/html": [
       "\n",
       "<style>\n",
       "\n",
       "#h2o-table-1.h2o-container {\n",
       "  overflow-x: auto;\n",
       "}\n",
       "#h2o-table-1 .h2o-table {\n",
       "  /* width: 100%; */\n",
       "  margin-top: 1em;\n",
       "  margin-bottom: 1em;\n",
       "}\n",
       "#h2o-table-1 .h2o-table caption {\n",
       "  white-space: nowrap;\n",
       "  caption-side: top;\n",
       "  text-align: left;\n",
       "  /* margin-left: 1em; */\n",
       "  margin: 0;\n",
       "  font-size: larger;\n",
       "}\n",
       "#h2o-table-1 .h2o-table thead {\n",
       "  white-space: nowrap; \n",
       "  position: sticky;\n",
       "  top: 0;\n",
       "  box-shadow: 0 -1px inset;\n",
       "}\n",
       "#h2o-table-1 .h2o-table tbody {\n",
       "  overflow: auto;\n",
       "}\n",
       "#h2o-table-1 .h2o-table th,\n",
       "#h2o-table-1 .h2o-table td {\n",
       "  text-align: right;\n",
       "  /* border: 1px solid; */\n",
       "}\n",
       "#h2o-table-1 .h2o-table tr:nth-child(even) {\n",
       "  /* background: #F5F5F5 */\n",
       "}\n",
       "\n",
       "</style>      \n",
       "<div id=\"h2o-table-1\" class=\"h2o-container\">\n",
       "  <table class=\"h2o-table\">\n",
       "    <caption></caption>\n",
       "    <thead></thead>\n",
       "    <tbody><tr><td>H2O_cluster_uptime:</td>\n",
       "<td>02 secs</td></tr>\n",
       "<tr><td>H2O_cluster_timezone:</td>\n",
       "<td>Etc/UTC</td></tr>\n",
       "<tr><td>H2O_data_parsing_timezone:</td>\n",
       "<td>UTC</td></tr>\n",
       "<tr><td>H2O_cluster_version:</td>\n",
       "<td>3.42.0.2</td></tr>\n",
       "<tr><td>H2O_cluster_version_age:</td>\n",
       "<td>10 months and 10 days</td></tr>\n",
       "<tr><td>H2O_cluster_name:</td>\n",
       "<td>H2O_from_python_python_75198895_jsar0h</td></tr>\n",
       "<tr><td>H2O_cluster_total_nodes:</td>\n",
       "<td>1</td></tr>\n",
       "<tr><td>H2O_cluster_free_memory:</td>\n",
       "<td>29.97 Gb</td></tr>\n",
       "<tr><td>H2O_cluster_total_cores:</td>\n",
       "<td>20</td></tr>\n",
       "<tr><td>H2O_cluster_allowed_cores:</td>\n",
       "<td>20</td></tr>\n",
       "<tr><td>H2O_cluster_status:</td>\n",
       "<td>locked, healthy</td></tr>\n",
       "<tr><td>H2O_connection_url:</td>\n",
       "<td>http://127.0.0.1:54321</td></tr>\n",
       "<tr><td>H2O_connection_proxy:</td>\n",
       "<td>{\"http\": null, \"https\": null}</td></tr>\n",
       "<tr><td>H2O_internal_security:</td>\n",
       "<td>False</td></tr>\n",
       "<tr><td>Python_version:</td>\n",
       "<td>3.10.10 final</td></tr></tbody>\n",
       "  </table>\n",
       "</div>\n"
      ],
      "text/plain": [
       "--------------------------  --------------------------------------\n",
       "H2O_cluster_uptime:         02 secs\n",
       "H2O_cluster_timezone:       Etc/UTC\n",
       "H2O_data_parsing_timezone:  UTC\n",
       "H2O_cluster_version:        3.42.0.2\n",
       "H2O_cluster_version_age:    10 months and 10 days\n",
       "H2O_cluster_name:           H2O_from_python_python_75198895_jsar0h\n",
       "H2O_cluster_total_nodes:    1\n",
       "H2O_cluster_free_memory:    29.97 Gb\n",
       "H2O_cluster_total_cores:    20\n",
       "H2O_cluster_allowed_cores:  20\n",
       "H2O_cluster_status:         locked, healthy\n",
       "H2O_connection_url:         http://127.0.0.1:54321\n",
       "H2O_connection_proxy:       {\"http\": null, \"https\": null}\n",
       "H2O_internal_security:      False\n",
       "Python_version:             3.10.10 final\n",
       "--------------------------  --------------------------------------"
      ]
     },
     "metadata": {},
     "output_type": "display_data"
    },
    {
     "name": "stdout",
     "output_type": "stream",
     "text": [
      "Packages imported and H2O initialized.\n"
     ]
    }
   ],
   "source": [
    "# Import necessary packages\n",
    "import pandas as pd\n",
    "import numpy as np\n",
    "import matplotlib.pyplot as plt\n",
    "import seaborn as sns\n",
    "import h2o\n",
    "from h2o.automl import H2OAutoML\n",
    "import xgboost as xgb\n",
    "from sklearn.linear_model import LogisticRegression\n",
    "from sklearn.preprocessing import StandardScaler\n",
    "from sklearn.metrics import roc_auc_score, roc_curve\n",
    "import ipywidgets as widgets\n",
    "from IPython.display import display\n",
    "\n",
    "# Initialize H2O\n",
    "h2o.init()\n",
    "\n",
    "print(\"Packages imported and H2O initialized.\")\n"
   ]
  },
  {
   "cell_type": "markdown",
   "id": "6d171fc9-814d-4f16-88f5-ffd03b9c491b",
   "metadata": {},
   "source": [
    "---\n",
    "## Selecting and Loading Datasets\n",
    "\n",
    "Please select your train and test datasets.\n"
   ]
  },
  {
   "cell_type": "code",
   "execution_count": 4,
   "id": "0019b236-7876-4c09-ae4d-4446cdac455e",
   "metadata": {
    "tags": []
   },
   "outputs": [
    {
     "data": {
      "application/vnd.jupyter.widget-view+json": {
       "model_id": "4855e56e2853442cb2c4c367de840d1a",
       "version_major": 2,
       "version_minor": 0
      },
      "text/plain": [
       "Text(value='/data/train_dataset.csv', description='Train Dataset:')"
      ]
     },
     "metadata": {},
     "output_type": "display_data"
    },
    {
     "data": {
      "application/vnd.jupyter.widget-view+json": {
       "model_id": "62a93617a4ee4ab0a44f83fdce807da8",
       "version_major": 2,
       "version_minor": 0
      },
      "text/plain": [
       "Text(value='/data/test_dataset.csv', description='Test Dataset:')"
      ]
     },
     "metadata": {},
     "output_type": "display_data"
    }
   ],
   "source": [
    "# Widget to select train and test datasets\n",
    "train_file_widget = widgets.Text(\n",
    "    value='/data/train_dataset.csv',\n",
    "    description='Train Dataset:',\n",
    "    disabled=False\n",
    ")\n",
    "display(train_file_widget)\n",
    "\n",
    "test_file_widget = widgets.Text(\n",
    "    value='/data/test_dataset.csv',\n",
    "    description='Test Dataset:',\n",
    "    disabled=False\n",
    ")\n",
    "display(test_file_widget)\n"
   ]
  },
  {
   "cell_type": "code",
   "execution_count": 5,
   "id": "86debc79-4ca8-47a1-a712-e8f321b2e729",
   "metadata": {
    "tags": []
   },
   "outputs": [
    {
     "name": "stdout",
     "output_type": "stream",
     "text": [
      "Train and test datasets loaded.\n"
     ]
    },
    {
     "data": {
      "text/html": [
       "<div>\n",
       "<style scoped>\n",
       "    .dataframe tbody tr th:only-of-type {\n",
       "        vertical-align: middle;\n",
       "    }\n",
       "\n",
       "    .dataframe tbody tr th {\n",
       "        vertical-align: top;\n",
       "    }\n",
       "\n",
       "    .dataframe thead th {\n",
       "        text-align: right;\n",
       "    }\n",
       "</style>\n",
       "<table border=\"1\" class=\"dataframe\">\n",
       "  <thead>\n",
       "    <tr style=\"text-align: right;\">\n",
       "      <th></th>\n",
       "      <th>PC1</th>\n",
       "      <th>PC2</th>\n",
       "      <th>PC3</th>\n",
       "      <th>PC4</th>\n",
       "      <th>PC5</th>\n",
       "      <th>PC6</th>\n",
       "      <th>PC7</th>\n",
       "      <th>PC8</th>\n",
       "      <th>PC9</th>\n",
       "      <th>PC10</th>\n",
       "      <th>Survived</th>\n",
       "    </tr>\n",
       "  </thead>\n",
       "  <tbody>\n",
       "    <tr>\n",
       "      <th>0</th>\n",
       "      <td>2.310969</td>\n",
       "      <td>-1.664466</td>\n",
       "      <td>-0.597000</td>\n",
       "      <td>1.558939</td>\n",
       "      <td>-0.904751</td>\n",
       "      <td>-0.076090</td>\n",
       "      <td>-0.615833</td>\n",
       "      <td>0.082718</td>\n",
       "      <td>0.104453</td>\n",
       "      <td>-0.856158</td>\n",
       "      <td>0</td>\n",
       "    </tr>\n",
       "    <tr>\n",
       "      <th>1</th>\n",
       "      <td>-0.324932</td>\n",
       "      <td>-0.750348</td>\n",
       "      <td>-1.847883</td>\n",
       "      <td>-0.872708</td>\n",
       "      <td>0.358119</td>\n",
       "      <td>-0.345926</td>\n",
       "      <td>-0.246340</td>\n",
       "      <td>-0.352741</td>\n",
       "      <td>-0.014974</td>\n",
       "      <td>0.291970</td>\n",
       "      <td>0</td>\n",
       "    </tr>\n",
       "    <tr>\n",
       "      <th>2</th>\n",
       "      <td>-1.609571</td>\n",
       "      <td>-0.803272</td>\n",
       "      <td>1.228848</td>\n",
       "      <td>1.114457</td>\n",
       "      <td>0.816196</td>\n",
       "      <td>-0.009331</td>\n",
       "      <td>0.241954</td>\n",
       "      <td>-0.612879</td>\n",
       "      <td>0.249480</td>\n",
       "      <td>-0.290291</td>\n",
       "      <td>0</td>\n",
       "    </tr>\n",
       "    <tr>\n",
       "      <th>3</th>\n",
       "      <td>-1.275964</td>\n",
       "      <td>-0.229808</td>\n",
       "      <td>-0.943715</td>\n",
       "      <td>-0.141607</td>\n",
       "      <td>0.918611</td>\n",
       "      <td>-0.119819</td>\n",
       "      <td>-0.241904</td>\n",
       "      <td>-0.087031</td>\n",
       "      <td>-0.516926</td>\n",
       "      <td>-0.062049</td>\n",
       "      <td>0</td>\n",
       "    </tr>\n",
       "    <tr>\n",
       "      <th>4</th>\n",
       "      <td>-0.896649</td>\n",
       "      <td>4.165155</td>\n",
       "      <td>-2.127456</td>\n",
       "      <td>-0.790586</td>\n",
       "      <td>0.634079</td>\n",
       "      <td>0.302518</td>\n",
       "      <td>0.021939</td>\n",
       "      <td>0.340533</td>\n",
       "      <td>-1.047267</td>\n",
       "      <td>-0.367064</td>\n",
       "      <td>0</td>\n",
       "    </tr>\n",
       "  </tbody>\n",
       "</table>\n",
       "</div>"
      ],
      "text/plain": [
       "        PC1       PC2       PC3       PC4       PC5       PC6       PC7  \\\n",
       "0  2.310969 -1.664466 -0.597000  1.558939 -0.904751 -0.076090 -0.615833   \n",
       "1 -0.324932 -0.750348 -1.847883 -0.872708  0.358119 -0.345926 -0.246340   \n",
       "2 -1.609571 -0.803272  1.228848  1.114457  0.816196 -0.009331  0.241954   \n",
       "3 -1.275964 -0.229808 -0.943715 -0.141607  0.918611 -0.119819 -0.241904   \n",
       "4 -0.896649  4.165155 -2.127456 -0.790586  0.634079  0.302518  0.021939   \n",
       "\n",
       "        PC8       PC9      PC10  Survived  \n",
       "0  0.082718  0.104453 -0.856158         0  \n",
       "1 -0.352741 -0.014974  0.291970         0  \n",
       "2 -0.612879  0.249480 -0.290291         0  \n",
       "3 -0.087031 -0.516926 -0.062049         0  \n",
       "4  0.340533 -1.047267 -0.367064         0  "
      ]
     },
     "metadata": {},
     "output_type": "display_data"
    },
    {
     "data": {
      "text/html": [
       "<div>\n",
       "<style scoped>\n",
       "    .dataframe tbody tr th:only-of-type {\n",
       "        vertical-align: middle;\n",
       "    }\n",
       "\n",
       "    .dataframe tbody tr th {\n",
       "        vertical-align: top;\n",
       "    }\n",
       "\n",
       "    .dataframe thead th {\n",
       "        text-align: right;\n",
       "    }\n",
       "</style>\n",
       "<table border=\"1\" class=\"dataframe\">\n",
       "  <thead>\n",
       "    <tr style=\"text-align: right;\">\n",
       "      <th></th>\n",
       "      <th>PC1</th>\n",
       "      <th>PC2</th>\n",
       "      <th>PC3</th>\n",
       "      <th>PC4</th>\n",
       "      <th>PC5</th>\n",
       "      <th>PC6</th>\n",
       "      <th>PC7</th>\n",
       "      <th>PC8</th>\n",
       "      <th>PC9</th>\n",
       "      <th>PC10</th>\n",
       "      <th>Survived</th>\n",
       "    </tr>\n",
       "  </thead>\n",
       "  <tbody>\n",
       "    <tr>\n",
       "      <th>0</th>\n",
       "      <td>-0.396290</td>\n",
       "      <td>0.207673</td>\n",
       "      <td>0.132268</td>\n",
       "      <td>-0.721755</td>\n",
       "      <td>0.675525</td>\n",
       "      <td>1.258544</td>\n",
       "      <td>-1.284308</td>\n",
       "      <td>1.709685</td>\n",
       "      <td>0.380903</td>\n",
       "      <td>0.126862</td>\n",
       "      <td>1</td>\n",
       "    </tr>\n",
       "    <tr>\n",
       "      <th>1</th>\n",
       "      <td>-0.702403</td>\n",
       "      <td>-0.826772</td>\n",
       "      <td>0.125794</td>\n",
       "      <td>0.355610</td>\n",
       "      <td>0.591617</td>\n",
       "      <td>-0.641283</td>\n",
       "      <td>0.274460</td>\n",
       "      <td>-0.519303</td>\n",
       "      <td>0.101023</td>\n",
       "      <td>-0.104779</td>\n",
       "      <td>0</td>\n",
       "    </tr>\n",
       "    <tr>\n",
       "      <th>2</th>\n",
       "      <td>-1.555742</td>\n",
       "      <td>-0.358339</td>\n",
       "      <td>-1.126078</td>\n",
       "      <td>-1.370477</td>\n",
       "      <td>1.813102</td>\n",
       "      <td>-0.811142</td>\n",
       "      <td>0.448751</td>\n",
       "      <td>-0.818909</td>\n",
       "      <td>0.031103</td>\n",
       "      <td>-0.311042</td>\n",
       "      <td>0</td>\n",
       "    </tr>\n",
       "    <tr>\n",
       "      <th>3</th>\n",
       "      <td>-0.034517</td>\n",
       "      <td>1.162510</td>\n",
       "      <td>-1.506031</td>\n",
       "      <td>-0.980642</td>\n",
       "      <td>-0.648214</td>\n",
       "      <td>1.301233</td>\n",
       "      <td>0.238183</td>\n",
       "      <td>-1.207968</td>\n",
       "      <td>0.522121</td>\n",
       "      <td>0.320525</td>\n",
       "      <td>1</td>\n",
       "    </tr>\n",
       "    <tr>\n",
       "      <th>4</th>\n",
       "      <td>-0.565579</td>\n",
       "      <td>0.859583</td>\n",
       "      <td>1.709824</td>\n",
       "      <td>-1.246519</td>\n",
       "      <td>-2.059776</td>\n",
       "      <td>0.762434</td>\n",
       "      <td>-0.815891</td>\n",
       "      <td>0.291687</td>\n",
       "      <td>-0.618300</td>\n",
       "      <td>0.053933</td>\n",
       "      <td>1</td>\n",
       "    </tr>\n",
       "  </tbody>\n",
       "</table>\n",
       "</div>"
      ],
      "text/plain": [
       "        PC1       PC2       PC3       PC4       PC5       PC6       PC7  \\\n",
       "0 -0.396290  0.207673  0.132268 -0.721755  0.675525  1.258544 -1.284308   \n",
       "1 -0.702403 -0.826772  0.125794  0.355610  0.591617 -0.641283  0.274460   \n",
       "2 -1.555742 -0.358339 -1.126078 -1.370477  1.813102 -0.811142  0.448751   \n",
       "3 -0.034517  1.162510 -1.506031 -0.980642 -0.648214  1.301233  0.238183   \n",
       "4 -0.565579  0.859583  1.709824 -1.246519 -2.059776  0.762434 -0.815891   \n",
       "\n",
       "        PC8       PC9      PC10  Survived  \n",
       "0  1.709685  0.380903  0.126862         1  \n",
       "1 -0.519303  0.101023 -0.104779         0  \n",
       "2 -0.818909  0.031103 -0.311042         0  \n",
       "3 -1.207968  0.522121  0.320525         1  \n",
       "4  0.291687 -0.618300  0.053933         1  "
      ]
     },
     "metadata": {},
     "output_type": "display_data"
    }
   ],
   "source": [
    "# Load datasets\n",
    "train_file = train_file_widget.value\n",
    "test_file = test_file_widget.value\n",
    "\n",
    "train_data = pd.read_csv(train_file)\n",
    "test_data = pd.read_csv(test_file)\n",
    "\n",
    "print(\"Train and test datasets loaded.\")\n",
    "display(train_data.head())\n",
    "display(test_data.head())\n"
   ]
  },
  {
   "cell_type": "markdown",
   "id": "5206da40-c82d-40b6-b0cb-0344aa5d73a6",
   "metadata": {},
   "source": [
    "---\n",
    "## Selecting the Target Variable\n",
    "\n",
    "Please select the target variable from the dataset.\n"
   ]
  },
  {
   "cell_type": "code",
   "execution_count": 6,
   "id": "1c0a5d8e-442f-4cfc-82aa-5dfc0aa8f002",
   "metadata": {
    "tags": []
   },
   "outputs": [
    {
     "data": {
      "application/vnd.jupyter.widget-view+json": {
       "model_id": "f6ca86a1234f4f15a183dcd1791b3bc5",
       "version_major": 2,
       "version_minor": 0
      },
      "text/plain": [
       "Dropdown(description='Target Column:', options=('PC1', 'PC2', 'PC3', 'PC4', 'PC5', 'PC6', 'PC7', 'PC8', 'PC9',…"
      ]
     },
     "metadata": {},
     "output_type": "display_data"
    }
   ],
   "source": [
    "# Widget to select target variable\n",
    "target_column_widget = widgets.Dropdown(\n",
    "    options=train_data.columns.tolist(),\n",
    "    description='Target Column:',\n",
    "    disabled=False\n",
    ")\n",
    "display(target_column_widget)\n"
   ]
  },
  {
   "cell_type": "code",
   "execution_count": 7,
   "id": "4446e008-a48e-40fe-8ca4-22f8178c6017",
   "metadata": {
    "tags": []
   },
   "outputs": [
    {
     "name": "stdout",
     "output_type": "stream",
     "text": [
      "Target column selected: Survived\n"
     ]
    }
   ],
   "source": [
    "# Select target column\n",
    "target_column = target_column_widget.value\n",
    "print(f\"Target column selected: {target_column}\")\n"
   ]
  },
  {
   "cell_type": "markdown",
   "id": "8bf6e3ad-2bf4-443c-8531-52f1525e5973",
   "metadata": {},
   "source": [
    "---\n",
    "## Performance Exploration\n",
    "\n",
    "Calculating GINI on train and test datasets.\n"
   ]
  },
  {
   "cell_type": "code",
   "execution_count": 8,
   "id": "32321b07-e8aa-4a53-976c-3076c7250e8f",
   "metadata": {
    "tags": []
   },
   "outputs": [
    {
     "name": "stderr",
     "output_type": "stream",
     "text": [
      "/home/default/lib/python3.10/site-packages/xgboost/sklearn.py:1395: UserWarning: `use_label_encoder` is deprecated in 1.7.0.\n",
      "  warnings.warn(\"`use_label_encoder` is deprecated in 1.7.0.\")\n"
     ]
    },
    {
     "name": "stdout",
     "output_type": "stream",
     "text": [
      "Train GINI: 1.0\n",
      "Test GINI: 0.7359073359073358\n"
     ]
    }
   ],
   "source": [
    "# Function to calculate GINI coefficient\n",
    "def gini_coefficient(y_true, y_prob):\n",
    "    fpr, tpr, _ = roc_curve(y_true, y_prob)\n",
    "    gini = 2 * roc_auc_score(y_true, y_prob) - 1\n",
    "    return gini\n",
    "\n",
    "# Calculate GINI on train and test datasets\n",
    "model = xgb.XGBClassifier(use_label_encoder=False, eval_metric='logloss')\n",
    "model.fit(train_data.drop(columns=[target_column]), train_data[target_column])\n",
    "\n",
    "train_pred = model.predict_proba(train_data.drop(columns=[target_column]))[:, 1]\n",
    "test_pred = model.predict_proba(test_data.drop(columns=[target_column]))[:, 1]\n",
    "\n",
    "train_gini = gini_coefficient(train_data[target_column], train_pred)\n",
    "test_gini = gini_coefficient(test_data[target_column], test_pred)\n",
    "\n",
    "print(f\"Train GINI: {train_gini}\")\n",
    "print(f\"Test GINI: {test_gini}\")\n"
   ]
  },
  {
   "cell_type": "markdown",
   "id": "360e36bf-84de-4da2-93d3-028add424593",
   "metadata": {},
   "source": [
    "---\n",
    "## Feature Importance Analysis\n",
    "\n",
    "Calculating feature importance using XGBoost and L1 regularized logistic regression.\n"
   ]
  },
  {
   "cell_type": "code",
   "execution_count": 9,
   "id": "0c585178-8a27-4723-8e6c-f0f33695e026",
   "metadata": {
    "tags": []
   },
   "outputs": [
    {
     "name": "stderr",
     "output_type": "stream",
     "text": [
      "/home/default/lib/python3.10/site-packages/xgboost/sklearn.py:1395: UserWarning: `use_label_encoder` is deprecated in 1.7.0.\n",
      "  warnings.warn(\"`use_label_encoder` is deprecated in 1.7.0.\")\n"
     ]
    },
    {
     "name": "stdout",
     "output_type": "stream",
     "text": [
      "XGBoost Feature Importance:\n"
     ]
    },
    {
     "data": {
      "text/plain": [
       "PC2     0.178369\n",
       "PC1     0.153187\n",
       "PC4     0.094098\n",
       "PC8     0.093857\n",
       "PC7     0.093557\n",
       "PC5     0.088732\n",
       "PC6     0.079109\n",
       "PC9     0.076733\n",
       "PC10    0.072368\n",
       "PC3     0.069990\n",
       "dtype: float32"
      ]
     },
     "metadata": {},
     "output_type": "display_data"
    },
    {
     "name": "stdout",
     "output_type": "stream",
     "text": [
      "L1 Regularized Logistic Regression Feature Importance:\n"
     ]
    },
    {
     "data": {
      "text/plain": [
       "PC1     1.041824\n",
       "PC4     0.627449\n",
       "PC7     0.546009\n",
       "PC5     0.516006\n",
       "PC6     0.505490\n",
       "PC8     0.493831\n",
       "PC2     0.418723\n",
       "PC9     0.131494\n",
       "PC3     0.093078\n",
       "PC10    0.050084\n",
       "dtype: float64"
      ]
     },
     "metadata": {},
     "output_type": "display_data"
    }
   ],
   "source": [
    "# Feature importance using XGBoost\n",
    "xgb_model = xgb.XGBClassifier(use_label_encoder=False, eval_metric='logloss')\n",
    "xgb_model.fit(train_data.drop(columns=[target_column]), train_data[target_column])\n",
    "xgb_feature_importance = pd.Series(xgb_model.feature_importances_, index=train_data.drop(columns=[target_column]).columns)\n",
    "\n",
    "# Feature importance using L1 regularized logistic regression\n",
    "scaler = StandardScaler()\n",
    "X_scaled = scaler.fit_transform(train_data.drop(columns=[target_column]))\n",
    "\n",
    "l1_model = LogisticRegression(penalty='l1', solver='liblinear')\n",
    "l1_model.fit(X_scaled, train_data[target_column])\n",
    "l1_feature_importance = pd.Series(np.abs(l1_model.coef_[0]), index=train_data.drop(columns=[target_column]).columns)\n",
    "\n",
    "# Display feature importance\n",
    "print(\"XGBoost Feature Importance:\")\n",
    "display(xgb_feature_importance.sort_values(ascending=False).head(10))\n",
    "\n",
    "print(\"L1 Regularized Logistic Regression Feature Importance:\")\n",
    "display(l1_feature_importance.sort_values(ascending=False).head(10))\n"
   ]
  },
  {
   "cell_type": "markdown",
   "id": "30551145-2d9f-4c28-ae57-d22880cf379f",
   "metadata": {},
   "source": [
    "---\n",
    "## Correlation Treatment\n",
    "\n",
    "Identifying and handling highly correlated features. Please select the correlation threshold.\n"
   ]
  },
  {
   "cell_type": "code",
   "execution_count": 10,
   "id": "f297f326-fbf9-4891-9533-b089fdea4cc7",
   "metadata": {
    "tags": []
   },
   "outputs": [
    {
     "data": {
      "application/vnd.jupyter.widget-view+json": {
       "model_id": "87b1246f8aba44688433c08c6725d512",
       "version_major": 2,
       "version_minor": 0
      },
      "text/plain": [
       "FloatSlider(value=0.9, continuous_update=False, description='Corr Threshold:', max=1.0, min=0.5, step=0.05)"
      ]
     },
     "metadata": {},
     "output_type": "display_data"
    }
   ],
   "source": [
    "# Widget to select correlation threshold\n",
    "correlation_threshold_widget = widgets.FloatSlider(\n",
    "    value=0.9,\n",
    "    min=0.5,\n",
    "    max=1.0,\n",
    "    step=0.05,\n",
    "    description='Corr Threshold:',\n",
    "    continuous_update=False,\n",
    "    orientation='horizontal'\n",
    ")\n",
    "display(correlation_threshold_widget)\n"
   ]
  },
  {
   "cell_type": "code",
   "execution_count": 12,
   "id": "fc0110be-2d7b-4221-93ee-a19603a5ab10",
   "metadata": {
    "tags": []
   },
   "outputs": [
    {
     "name": "stdout",
     "output_type": "stream",
     "text": [
      "Highly correlated features (threshold = 0.7): []\n"
     ]
    },
    {
     "data": {
      "application/vnd.jupyter.widget-view+json": {
       "model_id": "d24852272964422a82343c1c6a510ed7",
       "version_major": 2,
       "version_minor": 0
      },
      "text/plain": [
       "ToggleButtons(description='Drop Features?', options=('Yes', 'No'), value='Yes')"
      ]
     },
     "metadata": {},
     "output_type": "display_data"
    }
   ],
   "source": [
    "# Identify highly correlated features\n",
    "correlation_threshold = correlation_threshold_widget.value\n",
    "corr_matrix = train_data.corr().abs()\n",
    "upper = corr_matrix.where(np.triu(np.ones(corr_matrix.shape), k=1).astype(bool))\n",
    "\n",
    "# Find features with correlation greater than the threshold\n",
    "to_drop = [column for column in upper.columns if any(upper[column] > correlation_threshold)]\n",
    "print(f\"Highly correlated features (threshold = {correlation_threshold}): {to_drop}\")\n",
    "\n",
    "# Widget to confirm dropping highly correlated features\n",
    "drop_corr_features_widget = widgets.ToggleButtons(\n",
    "    options=['Yes', 'No'],\n",
    "    description='Drop Features?',\n",
    "    disabled=False,\n",
    "    button_style=''\n",
    ")\n",
    "display(drop_corr_features_widget)\n"
   ]
  },
  {
   "cell_type": "code",
   "execution_count": 13,
   "id": "3d4d8242-134b-4e20-82c0-2172f99efbb5",
   "metadata": {
    "tags": []
   },
   "outputs": [
    {
     "name": "stdout",
     "output_type": "stream",
     "text": [
      "Dropped features: []\n"
     ]
    }
   ],
   "source": [
    "# Drop highly correlated features if confirmed\n",
    "if drop_corr_features_widget.value == 'Yes':\n",
    "    train_data.drop(columns=to_drop, inplace=True)\n",
    "    test_data.drop(columns=to_drop, inplace=True)\n",
    "    print(f\"Dropped features: {to_drop}\")\n",
    "else:\n",
    "    print(\"No features were dropped.\")\n"
   ]
  },
  {
   "cell_type": "markdown",
   "id": "a4413472-9c57-4154-b89d-b9cd5f552adc",
   "metadata": {},
   "source": [
    "---\n",
    "## Feature Selection\n",
    "\n",
    "Based on the feature importance analysis, you may choose to use all features or select a subset of important features. Please make your selection below.\n"
   ]
  },
  {
   "cell_type": "code",
   "execution_count": 14,
   "id": "202da471-5a41-40f7-8a21-7c30e8ca21b0",
   "metadata": {
    "tags": []
   },
   "outputs": [
    {
     "name": "stdout",
     "output_type": "stream",
     "text": [
      "Suggested important features based on analysis: ['PC8', 'PC6', 'PC9', 'PC7', 'PC3', 'PC10', 'PC1', 'PC2', 'PC4', 'PC5']\n"
     ]
    },
    {
     "data": {
      "application/vnd.jupyter.widget-view+json": {
       "model_id": "75cf0fe5022949b3a3a42e8409fc397d",
       "version_major": 2,
       "version_minor": 0
      },
      "text/plain": [
       "ToggleButtons(description='Feature Selection:', options=('All Features', 'Important Features'), value='All Fea…"
      ]
     },
     "metadata": {},
     "output_type": "display_data"
    }
   ],
   "source": [
    "# Suggest features to use based on feature importance analysis\n",
    "important_features_xgb = xgb_feature_importance.sort_values(ascending=False).head(10).index.tolist()\n",
    "important_features_l1 = l1_feature_importance.sort_values(ascending=False).head(10).index.tolist()\n",
    "\n",
    "suggested_features = list(set(important_features_xgb + important_features_l1))\n",
    "\n",
    "print(f\"Suggested important features based on analysis: {suggested_features}\")\n",
    "\n",
    "# Widget to select whether to use all features or only important features\n",
    "use_important_features_widget = widgets.ToggleButtons(\n",
    "    options=['All Features', 'Important Features'],\n",
    "    description='Feature Selection:',\n",
    "    disabled=False,\n",
    "    button_style=''\n",
    ")\n",
    "display(use_important_features_widget)\n"
   ]
  },
  {
   "cell_type": "code",
   "execution_count": 15,
   "id": "fe862930-30ef-4159-ba28-7f93961eae03",
   "metadata": {
    "tags": []
   },
   "outputs": [
    {
     "name": "stdout",
     "output_type": "stream",
     "text": [
      "Using only important features for training.\n"
     ]
    }
   ],
   "source": [
    "# Adjust dataset based on user selection\n",
    "if use_important_features_widget.value == 'Important Features':\n",
    "    train_data = train_data[suggested_features + [target_column]]\n",
    "    test_data = test_data[suggested_features + [target_column]]\n",
    "    print(\"Using only important features for training.\")\n",
    "else:\n",
    "    print(\"Using all features for training.\")\n"
   ]
  },
  {
   "cell_type": "markdown",
   "id": "9f446744-b5bb-4306-9205-faf4f654b043",
   "metadata": {},
   "source": [
    "---\n",
    "## H2O AutoML\n",
    "\n",
    "Now we will proceed with H2O AutoML to train models on the prepared dataset.\n"
   ]
  },
  {
   "cell_type": "code",
   "execution_count": 17,
   "id": "5b2d6581-f1a3-4398-9c93-5d947b31d77c",
   "metadata": {
    "tags": []
   },
   "outputs": [
    {
     "name": "stdout",
     "output_type": "stream",
     "text": [
      "Parse progress: |████████████████████████████████████████████████████████████████| (done) 100%\n",
      "Parse progress: |████████████████████████████████████████████████████████████████| (done) 100%\n",
      "Target variable 'Survived' converted to categorical for binary classification.\n",
      "AutoML progress: |███████████████████████████████████████████████████████████████| (done) 100%\n",
      "H2O AutoML Leaderboard:\n"
     ]
    },
    {
     "data": {
      "text/html": [
       "<table class='dataframe'>\n",
       "<thead>\n",
       "<tr><th>model_id                                              </th><th style=\"text-align: right;\">     auc</th><th style=\"text-align: right;\">  logloss</th><th style=\"text-align: right;\">   aucpr</th><th style=\"text-align: right;\">  mean_per_class_error</th><th style=\"text-align: right;\">    rmse</th><th style=\"text-align: right;\">     mse</th></tr>\n",
       "</thead>\n",
       "<tbody>\n",
       "<tr><td>DeepLearning_grid_1_AutoML_2_20240605_92810_model_1   </td><td style=\"text-align: right;\">0.845763</td><td style=\"text-align: right;\"> 0.476767</td><td style=\"text-align: right;\">0.788465</td><td style=\"text-align: right;\">              0.176869</td><td style=\"text-align: right;\">0.368668</td><td style=\"text-align: right;\">0.135916</td></tr>\n",
       "<tr><td>StackedEnsemble_BestOfFamily_1_AutoML_2_20240605_92810</td><td style=\"text-align: right;\">0.842943</td><td style=\"text-align: right;\"> 0.451653</td><td style=\"text-align: right;\">0.785457</td><td style=\"text-align: right;\">              0.183239</td><td style=\"text-align: right;\">0.372913</td><td style=\"text-align: right;\">0.139064</td></tr>\n",
       "<tr><td>StackedEnsemble_AllModels_1_AutoML_2_20240605_92810   </td><td style=\"text-align: right;\">0.84117 </td><td style=\"text-align: right;\"> 0.448532</td><td style=\"text-align: right;\">0.793814</td><td style=\"text-align: right;\">              0.186618</td><td style=\"text-align: right;\">0.370431</td><td style=\"text-align: right;\">0.137219</td></tr>\n",
       "<tr><td>DeepLearning_grid_2_AutoML_2_20240605_92810_model_1   </td><td style=\"text-align: right;\">0.839725</td><td style=\"text-align: right;\"> 0.525613</td><td style=\"text-align: right;\">0.78391 </td><td style=\"text-align: right;\">              0.209359</td><td style=\"text-align: right;\">0.388044</td><td style=\"text-align: right;\">0.150578</td></tr>\n",
       "<tr><td>GLM_1_AutoML_2_20240605_92810                         </td><td style=\"text-align: right;\">0.836792</td><td style=\"text-align: right;\"> 0.466872</td><td style=\"text-align: right;\">0.785564</td><td style=\"text-align: right;\">              0.22378 </td><td style=\"text-align: right;\">0.38575 </td><td style=\"text-align: right;\">0.148803</td></tr>\n",
       "<tr><td>DeepLearning_grid_3_AutoML_2_20240605_92810_model_1   </td><td style=\"text-align: right;\">0.835476</td><td style=\"text-align: right;\"> 0.563024</td><td style=\"text-align: right;\">0.802568</td><td style=\"text-align: right;\">              0.204568</td><td style=\"text-align: right;\">0.386621</td><td style=\"text-align: right;\">0.149476</td></tr>\n",
       "<tr><td>DRF_1_AutoML_2_20240605_92810                         </td><td style=\"text-align: right;\">0.827707</td><td style=\"text-align: right;\"> 0.581636</td><td style=\"text-align: right;\">0.761793</td><td style=\"text-align: right;\">              0.232822</td><td style=\"text-align: right;\">0.395776</td><td style=\"text-align: right;\">0.156639</td></tr>\n",
       "<tr><td>XGBoost_grid_1_AutoML_2_20240605_92810_model_2        </td><td style=\"text-align: right;\">0.827535</td><td style=\"text-align: right;\"> 0.489446</td><td style=\"text-align: right;\">0.783441</td><td style=\"text-align: right;\">              0.228788</td><td style=\"text-align: right;\">0.394078</td><td style=\"text-align: right;\">0.155297</td></tr>\n",
       "<tr><td>GBM_grid_1_AutoML_2_20240605_92810_model_2            </td><td style=\"text-align: right;\">0.827472</td><td style=\"text-align: right;\"> 0.479921</td><td style=\"text-align: right;\">0.785956</td><td style=\"text-align: right;\">              0.229814</td><td style=\"text-align: right;\">0.393576</td><td style=\"text-align: right;\">0.154902</td></tr>\n",
       "<tr><td>XRT_1_AutoML_2_20240605_92810                         </td><td style=\"text-align: right;\">0.827215</td><td style=\"text-align: right;\"> 0.578214</td><td style=\"text-align: right;\">0.778665</td><td style=\"text-align: right;\">              0.219914</td><td style=\"text-align: right;\">0.39351 </td><td style=\"text-align: right;\">0.15485 </td></tr>\n",
       "<tr><td>GBM_2_AutoML_2_20240605_92810                         </td><td style=\"text-align: right;\">0.822963</td><td style=\"text-align: right;\"> 0.485152</td><td style=\"text-align: right;\">0.780009</td><td style=\"text-align: right;\">              0.230015</td><td style=\"text-align: right;\">0.395347</td><td style=\"text-align: right;\">0.1563  </td></tr>\n",
       "<tr><td>GBM_3_AutoML_2_20240605_92810                         </td><td style=\"text-align: right;\">0.821047</td><td style=\"text-align: right;\"> 0.489123</td><td style=\"text-align: right;\">0.776675</td><td style=\"text-align: right;\">              0.223578</td><td style=\"text-align: right;\">0.394871</td><td style=\"text-align: right;\">0.155923</td></tr>\n",
       "<tr><td>GBM_5_AutoML_2_20240605_92810                         </td><td style=\"text-align: right;\">0.82008 </td><td style=\"text-align: right;\"> 0.489288</td><td style=\"text-align: right;\">0.771205</td><td style=\"text-align: right;\">              0.229864</td><td style=\"text-align: right;\">0.397794</td><td style=\"text-align: right;\">0.15824 </td></tr>\n",
       "<tr><td>GBM_grid_1_AutoML_2_20240605_92810_model_1            </td><td style=\"text-align: right;\">0.819891</td><td style=\"text-align: right;\"> 0.492444</td><td style=\"text-align: right;\">0.767992</td><td style=\"text-align: right;\">              0.235965</td><td style=\"text-align: right;\">0.398098</td><td style=\"text-align: right;\">0.158482</td></tr>\n",
       "<tr><td>XGBoost_1_AutoML_2_20240605_92810                     </td><td style=\"text-align: right;\">0.817227</td><td style=\"text-align: right;\"> 0.503181</td><td style=\"text-align: right;\">0.757207</td><td style=\"text-align: right;\">              0.230889</td><td style=\"text-align: right;\">0.4029  </td><td style=\"text-align: right;\">0.162329</td></tr>\n",
       "<tr><td>GBM_1_AutoML_2_20240605_92810                         </td><td style=\"text-align: right;\">0.817219</td><td style=\"text-align: right;\"> 0.497252</td><td style=\"text-align: right;\">0.763192</td><td style=\"text-align: right;\">              0.226351</td><td style=\"text-align: right;\">0.400945</td><td style=\"text-align: right;\">0.160757</td></tr>\n",
       "<tr><td>GBM_4_AutoML_2_20240605_92810                         </td><td style=\"text-align: right;\">0.814294</td><td style=\"text-align: right;\"> 0.492182</td><td style=\"text-align: right;\">0.779128</td><td style=\"text-align: right;\">              0.229881</td><td style=\"text-align: right;\">0.397362</td><td style=\"text-align: right;\">0.157897</td></tr>\n",
       "<tr><td>DeepLearning_1_AutoML_2_20240605_92810                </td><td style=\"text-align: right;\">0.811571</td><td style=\"text-align: right;\"> 0.523542</td><td style=\"text-align: right;\">0.761476</td><td style=\"text-align: right;\">              0.251479</td><td style=\"text-align: right;\">0.408865</td><td style=\"text-align: right;\">0.167171</td></tr>\n",
       "<tr><td>XGBoost_3_AutoML_2_20240605_92810                     </td><td style=\"text-align: right;\">0.811286</td><td style=\"text-align: right;\"> 0.536802</td><td style=\"text-align: right;\">0.767215</td><td style=\"text-align: right;\">              0.234806</td><td style=\"text-align: right;\">0.406281</td><td style=\"text-align: right;\">0.165064</td></tr>\n",
       "<tr><td>XGBoost_grid_1_AutoML_2_20240605_92810_model_1        </td><td style=\"text-align: right;\">0.810332</td><td style=\"text-align: right;\"> 0.517516</td><td style=\"text-align: right;\">0.749585</td><td style=\"text-align: right;\">              0.224704</td><td style=\"text-align: right;\">0.40321 </td><td style=\"text-align: right;\">0.162578</td></tr>\n",
       "<tr><td>XGBoost_grid_1_AutoML_2_20240605_92810_model_3        </td><td style=\"text-align: right;\">0.803357</td><td style=\"text-align: right;\"> 0.549781</td><td style=\"text-align: right;\">0.768771</td><td style=\"text-align: right;\">              0.257564</td><td style=\"text-align: right;\">0.411912</td><td style=\"text-align: right;\">0.169672</td></tr>\n",
       "<tr><td>XGBoost_2_AutoML_2_20240605_92810                     </td><td style=\"text-align: right;\">0.800108</td><td style=\"text-align: right;\"> 0.539551</td><td style=\"text-align: right;\">0.755309</td><td style=\"text-align: right;\">              0.252219</td><td style=\"text-align: right;\">0.412877</td><td style=\"text-align: right;\">0.170467</td></tr>\n",
       "</tbody>\n",
       "</table><pre style='font-size: smaller; margin-bottom: 1em;'>[22 rows x 7 columns]</pre>"
      ],
      "text/plain": [
       "model_id                                                     auc    logloss     aucpr    mean_per_class_error      rmse       mse\n",
       "------------------------------------------------------  --------  ---------  --------  ----------------------  --------  --------\n",
       "DeepLearning_grid_1_AutoML_2_20240605_92810_model_1     0.845763   0.476767  0.788465                0.176869  0.368668  0.135916\n",
       "StackedEnsemble_BestOfFamily_1_AutoML_2_20240605_92810  0.842943   0.451653  0.785457                0.183239  0.372913  0.139064\n",
       "StackedEnsemble_AllModels_1_AutoML_2_20240605_92810     0.84117    0.448532  0.793814                0.186618  0.370431  0.137219\n",
       "DeepLearning_grid_2_AutoML_2_20240605_92810_model_1     0.839725   0.525613  0.78391                 0.209359  0.388044  0.150578\n",
       "GLM_1_AutoML_2_20240605_92810                           0.836792   0.466872  0.785564                0.22378   0.38575   0.148803\n",
       "DeepLearning_grid_3_AutoML_2_20240605_92810_model_1     0.835476   0.563024  0.802568                0.204568  0.386621  0.149476\n",
       "DRF_1_AutoML_2_20240605_92810                           0.827707   0.581636  0.761793                0.232822  0.395776  0.156639\n",
       "XGBoost_grid_1_AutoML_2_20240605_92810_model_2          0.827535   0.489446  0.783441                0.228788  0.394078  0.155297\n",
       "GBM_grid_1_AutoML_2_20240605_92810_model_2              0.827472   0.479921  0.785956                0.229814  0.393576  0.154902\n",
       "XRT_1_AutoML_2_20240605_92810                           0.827215   0.578214  0.778665                0.219914  0.39351   0.15485\n",
       "GBM_2_AutoML_2_20240605_92810                           0.822963   0.485152  0.780009                0.230015  0.395347  0.1563\n",
       "GBM_3_AutoML_2_20240605_92810                           0.821047   0.489123  0.776675                0.223578  0.394871  0.155923\n",
       "GBM_5_AutoML_2_20240605_92810                           0.82008    0.489288  0.771205                0.229864  0.397794  0.15824\n",
       "GBM_grid_1_AutoML_2_20240605_92810_model_1              0.819891   0.492444  0.767992                0.235965  0.398098  0.158482\n",
       "XGBoost_1_AutoML_2_20240605_92810                       0.817227   0.503181  0.757207                0.230889  0.4029    0.162329\n",
       "GBM_1_AutoML_2_20240605_92810                           0.817219   0.497252  0.763192                0.226351  0.400945  0.160757\n",
       "GBM_4_AutoML_2_20240605_92810                           0.814294   0.492182  0.779128                0.229881  0.397362  0.157897\n",
       "DeepLearning_1_AutoML_2_20240605_92810                  0.811571   0.523542  0.761476                0.251479  0.408865  0.167171\n",
       "XGBoost_3_AutoML_2_20240605_92810                       0.811286   0.536802  0.767215                0.234806  0.406281  0.165064\n",
       "XGBoost_grid_1_AutoML_2_20240605_92810_model_1          0.810332   0.517516  0.749585                0.224704  0.40321   0.162578\n",
       "XGBoost_grid_1_AutoML_2_20240605_92810_model_3          0.803357   0.549781  0.768771                0.257564  0.411912  0.169672\n",
       "XGBoost_2_AutoML_2_20240605_92810                       0.800108   0.539551  0.755309                0.252219  0.412877  0.170467\n",
       "[22 rows x 7 columns]\n"
      ]
     },
     "execution_count": 17,
     "metadata": {},
     "output_type": "execute_result"
    }
   ],
   "source": [
    "# Convert Pandas dataframes to H2O frames\n",
    "h2o_train = h2o.H2OFrame(train_data)\n",
    "h2o_test = h2o.H2OFrame(test_data)\n",
    "\n",
    "# Convert target to categorical if it is binary\n",
    "if train_data[target_column].nunique() == 2:\n",
    "    h2o_train[target_column] = h2o_train[target_column].asfactor()\n",
    "    h2o_test[target_column] = h2o_test[target_column].asfactor()\n",
    "    print(f\"Target variable '{target_column}' converted to categorical for binary classification.\")\n",
    "\n",
    "# Define the features and target\n",
    "x = h2o_train.columns\n",
    "y = target_column\n",
    "x.remove(y)\n",
    "\n",
    "# Initialize and train H2O AutoML\n",
    "aml = H2OAutoML(max_models=20, seed=1)\n",
    "aml.train(x=x, y=y, training_frame=h2o_train)\n",
    "\n",
    "# View the AutoML Leaderboard\n",
    "lb = aml.leaderboard\n",
    "print(\"H2O AutoML Leaderboard:\")\n",
    "lb.head(rows=lb.nrows)\n"
   ]
  },
  {
   "cell_type": "markdown",
   "id": "cdabee49-2132-4c70-8d3a-0a319f32f1c3",
   "metadata": {},
   "source": [
    "---\n",
    "# Next Steps\n",
    "\n",
    "You can now proceed to evaluate the models and select the best one for your use case. The H2O AutoML Leaderboard provides a comprehensive comparison of the models trained.\n",
    "\n",
    "See our **Getting Started** - **Working_With_MLFlow_in_Keboola** notebook to see how you could register and deploy your model in Keboola to later use it for Batch or real-time scoring.\n"
   ]
  },
  {
   "cell_type": "code",
   "execution_count": null,
   "id": "c6a1ac31-7670-426c-bbc4-cd0a598fec95",
   "metadata": {},
   "outputs": [],
   "source": [
    "h2o.shutdown(prompt=False)"
   ]
  }
 ],
 "metadata": {
  "kernelspec": {
   "display_name": "Python3",
   "language": "python",
   "name": "python3"
  },
  "language_info": {
   "codemirror_mode": {
    "name": "ipython",
    "version": 3
   },
   "file_extension": ".py",
   "mimetype": "text/x-python",
   "name": "python",
   "nbconvert_exporter": "python",
   "pygments_lexer": "ipython3",
   "version": "3.10.10"
  }
 },
 "nbformat": 4,
 "nbformat_minor": 5
}
