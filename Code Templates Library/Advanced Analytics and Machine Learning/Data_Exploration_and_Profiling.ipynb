{
 "cells": [
  {
   "cell_type": "markdown",
   "metadata": {},
   "source": [
    "# Data Exploration and Profiling Notebook\n",
    "\n",
    "## Introduction\n",
    "This notebook is designed to help users perform data exploration and profiling with ease. By following the steps provided, you can load a dataset, generate detailed reports, and visualize your data. This process will help you understand the structure, relationships, and key characteristics of your data, facilitating better decision-making for further analysis or modeling.\n",
    "\n",
    "Let's get started!\n"
   ]
  },
  {
   "cell_type": "markdown",
   "metadata": {
    "jp-MarkdownHeadingCollapsed": true,
    "tags": []
   },
   "source": [
    "### Install Required Package\n",
    "In this step, we will install the `ydata-profiling` package, which is essential for generating data profiles.\n"
   ]
  },
  {
   "cell_type": "code",
   "execution_count": 51,
   "metadata": {
    "tags": []
   },
   "outputs": [
    {
     "name": "stdout",
     "output_type": "stream",
     "text": [
      "Requirement already satisfied: ydata-profiling in /home/jupyter/.local/lib/python3.10/site-packages (4.8.3)\n",
      "Requirement already satisfied: phik<0.13,>=0.11.1 in /home/jupyter/.local/lib/python3.10/site-packages (from ydata-profiling) (0.12.4)\n",
      "Requirement already satisfied: numpy<2,>=1.16.0 in /usr/local/lib/python3.10/site-packages (from ydata-profiling) (1.26.3)\n",
      "Requirement already satisfied: imagehash==4.3.1 in /home/jupyter/.local/lib/python3.10/site-packages (from ydata-profiling) (4.3.1)\n",
      "Requirement already satisfied: multimethod<2,>=1.4 in /home/jupyter/.local/lib/python3.10/site-packages (from ydata-profiling) (1.11.2)\n",
      "Requirement already satisfied: wordcloud>=1.9.1 in /home/jupyter/.local/lib/python3.10/site-packages (from ydata-profiling) (1.9.3)\n",
      "Requirement already satisfied: dacite>=1.8 in /home/jupyter/.local/lib/python3.10/site-packages (from ydata-profiling) (1.8.1)\n",
      "Requirement already satisfied: pydantic>=2 in /home/jupyter/.local/lib/python3.10/site-packages (from ydata-profiling) (2.7.2)\n",
      "Requirement already satisfied: tqdm<5,>=4.48.2 in /home/jupyter/.local/lib/python3.10/site-packages (from ydata-profiling) (4.66.4)\n",
      "Requirement already satisfied: requests<3,>=2.24.0 in /usr/local/lib/python3.10/site-packages (from ydata-profiling) (2.31.0)\n",
      "Requirement already satisfied: typeguard<5,>=3 in /home/jupyter/.local/lib/python3.10/site-packages (from ydata-profiling) (4.3.0)\n",
      "Requirement already satisfied: statsmodels<1,>=0.13.2 in /home/jupyter/.local/lib/python3.10/site-packages (from ydata-profiling) (0.14.2)\n",
      "Requirement already satisfied: seaborn<0.14,>=0.10.1 in /home/jupyter/.local/lib/python3.10/site-packages (from ydata-profiling) (0.13.2)\n",
      "Requirement already satisfied: scipy<1.14,>=1.4.1 in /home/jupyter/.local/lib/python3.10/site-packages (from ydata-profiling) (1.13.1)\n",
      "Requirement already satisfied: visions[type_image_path]<0.7.7,>=0.7.5 in /home/jupyter/.local/lib/python3.10/site-packages (from ydata-profiling) (0.7.6)\n",
      "Requirement already satisfied: jinja2<3.2,>=2.11.1 in /usr/local/lib/python3.10/site-packages (from ydata-profiling) (3.1.2)\n",
      "Requirement already satisfied: numba<1,>=0.56.0 in /home/jupyter/.local/lib/python3.10/site-packages (from ydata-profiling) (0.59.1)\n",
      "Requirement already satisfied: htmlmin==0.1.12 in /home/jupyter/.local/lib/python3.10/site-packages (from ydata-profiling) (0.1.12)\n",
      "Requirement already satisfied: pandas!=1.4.0,<3,>1.1 in /usr/local/lib/python3.10/site-packages (from ydata-profiling) (2.1.4)\n",
      "Requirement already satisfied: PyYAML<6.1,>=5.0.0 in /usr/local/lib/python3.10/site-packages (from ydata-profiling) (6.0.1)\n",
      "Requirement already satisfied: matplotlib<3.9,>=3.2 in /usr/local/lib/python3.10/site-packages (from ydata-profiling) (3.8.2)\n",
      "Requirement already satisfied: PyWavelets in /home/jupyter/.local/lib/python3.10/site-packages (from imagehash==4.3.1->ydata-profiling) (1.6.0)\n",
      "Requirement already satisfied: pillow in /usr/local/lib/python3.10/site-packages (from imagehash==4.3.1->ydata-profiling) (10.2.0)\n",
      "Requirement already satisfied: MarkupSafe>=2.0 in /usr/local/lib/python3.10/site-packages (from jinja2<3.2,>=2.11.1->ydata-profiling) (2.1.3)\n",
      "Requirement already satisfied: packaging>=20.0 in /usr/local/lib/python3.10/site-packages (from matplotlib<3.9,>=3.2->ydata-profiling) (23.2)\n",
      "Requirement already satisfied: contourpy>=1.0.1 in /usr/local/lib/python3.10/site-packages (from matplotlib<3.9,>=3.2->ydata-profiling) (1.2.0)\n",
      "Requirement already satisfied: pyparsing>=2.3.1 in /usr/local/lib/python3.10/site-packages (from matplotlib<3.9,>=3.2->ydata-profiling) (3.1.1)\n",
      "Requirement already satisfied: fonttools>=4.22.0 in /usr/local/lib/python3.10/site-packages (from matplotlib<3.9,>=3.2->ydata-profiling) (4.47.0)\n",
      "Requirement already satisfied: cycler>=0.10 in /usr/local/lib/python3.10/site-packages (from matplotlib<3.9,>=3.2->ydata-profiling) (0.12.1)\n",
      "Requirement already satisfied: kiwisolver>=1.3.1 in /usr/local/lib/python3.10/site-packages (from matplotlib<3.9,>=3.2->ydata-profiling) (1.4.5)\n",
      "Requirement already satisfied: python-dateutil>=2.7 in /usr/local/lib/python3.10/site-packages (from matplotlib<3.9,>=3.2->ydata-profiling) (2.8.2)\n",
      "Requirement already satisfied: llvmlite<0.43,>=0.42.0dev0 in /home/jupyter/.local/lib/python3.10/site-packages (from numba<1,>=0.56.0->ydata-profiling) (0.42.0)\n",
      "Requirement already satisfied: pytz>=2020.1 in /usr/local/lib/python3.10/site-packages (from pandas!=1.4.0,<3,>1.1->ydata-profiling) (2023.3.post1)\n",
      "Requirement already satisfied: tzdata>=2022.1 in /usr/local/lib/python3.10/site-packages (from pandas!=1.4.0,<3,>1.1->ydata-profiling) (2023.4)\n",
      "Requirement already satisfied: joblib>=0.14.1 in /home/jupyter/.local/lib/python3.10/site-packages (from phik<0.13,>=0.11.1->ydata-profiling) (1.4.2)\n",
      "Requirement already satisfied: pydantic-core==2.18.3 in /home/jupyter/.local/lib/python3.10/site-packages (from pydantic>=2->ydata-profiling) (2.18.3)\n",
      "Requirement already satisfied: annotated-types>=0.4.0 in /home/jupyter/.local/lib/python3.10/site-packages (from pydantic>=2->ydata-profiling) (0.7.0)\n",
      "Requirement already satisfied: typing-extensions>=4.6.1 in /home/jupyter/.local/lib/python3.10/site-packages (from pydantic>=2->ydata-profiling) (4.12.0)\n",
      "Requirement already satisfied: certifi>=2017.4.17 in /usr/local/lib/python3.10/site-packages (from requests<3,>=2.24.0->ydata-profiling) (2023.11.17)\n",
      "Requirement already satisfied: charset-normalizer<4,>=2 in /usr/local/lib/python3.10/site-packages (from requests<3,>=2.24.0->ydata-profiling) (3.3.2)\n",
      "Requirement already satisfied: urllib3<3,>=1.21.1 in /usr/local/lib/python3.10/site-packages (from requests<3,>=2.24.0->ydata-profiling) (2.1.0)\n",
      "Requirement already satisfied: idna<4,>=2.5 in /usr/local/lib/python3.10/site-packages (from requests<3,>=2.24.0->ydata-profiling) (3.6)\n",
      "Requirement already satisfied: patsy>=0.5.6 in /home/jupyter/.local/lib/python3.10/site-packages (from statsmodels<1,>=0.13.2->ydata-profiling) (0.5.6)\n",
      "Requirement already satisfied: networkx>=2.4 in /home/jupyter/.local/lib/python3.10/site-packages (from visions[type_image_path]<0.7.7,>=0.7.5->ydata-profiling) (3.3)\n",
      "Requirement already satisfied: attrs>=19.3.0 in /usr/local/lib/python3.10/site-packages (from visions[type_image_path]<0.7.7,>=0.7.5->ydata-profiling) (23.2.0)\n",
      "Requirement already satisfied: six in /usr/local/lib/python3.10/site-packages (from patsy>=0.5.6->statsmodels<1,>=0.13.2->ydata-profiling) (1.16.0)\n",
      "\n",
      "\u001b[1m[\u001b[0m\u001b[34;49mnotice\u001b[0m\u001b[1;39;49m]\u001b[0m\u001b[39;49m A new release of pip available: \u001b[0m\u001b[31;49m22.3.1\u001b[0m\u001b[39;49m -> \u001b[0m\u001b[32;49m24.0\u001b[0m\n",
      "\u001b[1m[\u001b[0m\u001b[34;49mnotice\u001b[0m\u001b[1;39;49m]\u001b[0m\u001b[39;49m To update, run: \u001b[0m\u001b[32;49mpip install --upgrade pip\u001b[0m\n",
      "Collecting pyod\n",
      "  Downloading pyod-1.1.3.tar.gz (160 kB)\n",
      "\u001b[2K     \u001b[90m━━━━━━━━━━━━━━━━━━━━━━━━━━━━━━━━━━━━━━━\u001b[0m \u001b[32m160.5/160.5 kB\u001b[0m \u001b[31m5.3 MB/s\u001b[0m eta \u001b[36m0:00:00\u001b[0m\n",
      "\u001b[?25h  Preparing metadata (setup.py) ... \u001b[?25ldone\n",
      "\u001b[?25hRequirement already satisfied: joblib in /home/jupyter/.local/lib/python3.10/site-packages (from pyod) (1.4.2)\n",
      "Requirement already satisfied: matplotlib in /usr/local/lib/python3.10/site-packages (from pyod) (3.8.2)\n",
      "Requirement already satisfied: numpy>=1.19 in /usr/local/lib/python3.10/site-packages (from pyod) (1.26.3)\n",
      "Requirement already satisfied: numba>=0.51 in /home/jupyter/.local/lib/python3.10/site-packages (from pyod) (0.59.1)\n",
      "Requirement already satisfied: scipy>=1.5.1 in /home/jupyter/.local/lib/python3.10/site-packages (from pyod) (1.13.1)\n",
      "Collecting scikit_learn>=0.22.0\n",
      "  Downloading scikit_learn-1.5.0-cp310-cp310-manylinux_2_17_x86_64.manylinux2014_x86_64.whl (13.3 MB)\n",
      "\u001b[2K     \u001b[90m━━━━━━━━━━━━━━━━━━━━━━━━━━━━━━━━━━━━━━━━\u001b[0m \u001b[32m13.3/13.3 MB\u001b[0m \u001b[31m77.9 MB/s\u001b[0m eta \u001b[36m0:00:00\u001b[0m00:01\u001b[0m00:01\u001b[0m\n",
      "\u001b[?25hRequirement already satisfied: six in /usr/local/lib/python3.10/site-packages (from pyod) (1.16.0)\n",
      "Requirement already satisfied: llvmlite<0.43,>=0.42.0dev0 in /home/jupyter/.local/lib/python3.10/site-packages (from numba>=0.51->pyod) (0.42.0)\n",
      "Collecting threadpoolctl>=3.1.0\n",
      "  Downloading threadpoolctl-3.5.0-py3-none-any.whl (18 kB)\n",
      "Requirement already satisfied: kiwisolver>=1.3.1 in /usr/local/lib/python3.10/site-packages (from matplotlib->pyod) (1.4.5)\n",
      "Requirement already satisfied: python-dateutil>=2.7 in /usr/local/lib/python3.10/site-packages (from matplotlib->pyod) (2.8.2)\n",
      "Requirement already satisfied: pyparsing>=2.3.1 in /usr/local/lib/python3.10/site-packages (from matplotlib->pyod) (3.1.1)\n",
      "Requirement already satisfied: cycler>=0.10 in /usr/local/lib/python3.10/site-packages (from matplotlib->pyod) (0.12.1)\n",
      "Requirement already satisfied: pillow>=8 in /usr/local/lib/python3.10/site-packages (from matplotlib->pyod) (10.2.0)\n",
      "Requirement already satisfied: packaging>=20.0 in /usr/local/lib/python3.10/site-packages (from matplotlib->pyod) (23.2)\n",
      "Requirement already satisfied: fonttools>=4.22.0 in /usr/local/lib/python3.10/site-packages (from matplotlib->pyod) (4.47.0)\n",
      "Requirement already satisfied: contourpy>=1.0.1 in /usr/local/lib/python3.10/site-packages (from matplotlib->pyod) (1.2.0)\n",
      "Building wheels for collected packages: pyod\n",
      "  Building wheel for pyod (setup.py) ... \u001b[?25ldone\n",
      "\u001b[?25h  Created wheel for pyod: filename=pyod-1.1.3-py3-none-any.whl size=190251 sha256=d854932c35aa3ef43211c8ec2ec44f0e1aef2b9b5a7f094b511460168bbed563\n",
      "  Stored in directory: /tmp/pip/wheels/0e/11/e3/9ceec265e8aed33fede556a3ec9f6fec373776d2c3a6e56f06\n",
      "Successfully built pyod\n",
      "Installing collected packages: threadpoolctl, scikit_learn, pyod\n",
      "Successfully installed pyod-1.1.3 scikit_learn-1.5.0 threadpoolctl-3.5.0\n",
      "\n",
      "\u001b[1m[\u001b[0m\u001b[34;49mnotice\u001b[0m\u001b[1;39;49m]\u001b[0m\u001b[39;49m A new release of pip available: \u001b[0m\u001b[31;49m22.3.1\u001b[0m\u001b[39;49m -> \u001b[0m\u001b[32;49m24.0\u001b[0m\n",
      "\u001b[1m[\u001b[0m\u001b[34;49mnotice\u001b[0m\u001b[1;39;49m]\u001b[0m\u001b[39;49m To update, run: \u001b[0m\u001b[32;49mpip install --upgrade pip\u001b[0m\n"
     ]
    }
   ],
   "source": [
    "!pip install --user ydata-profiling\n",
    "!pip install --user pyod"
   ]
  },
  {
   "cell_type": "markdown",
   "metadata": {
    "jp-MarkdownHeadingCollapsed": true,
    "tags": []
   },
   "source": [
    "---\n",
    "### Import Libraries\n",
    "Here, we import all the necessary libraries for data analysis and visualization. This includes pandas for data manipulation, matplotlib and seaborn for plotting, and other utility libraries.\n"
   ]
  },
  {
   "cell_type": "code",
   "execution_count": 11,
   "metadata": {
    "tags": []
   },
   "outputs": [],
   "source": [
    "import pandas as pd\n",
    "import matplotlib.pyplot as plt\n",
    "import seaborn as sns\n",
    "import numpy as np\n",
    "import warnings\n",
    "import os\n",
    "import matplotlib\n",
    "import sys\n",
    "import site\n",
    "import logging\n",
    "\n",
    "%matplotlib inline\n",
    "sys.path.append(site.getusersitepackages())\n",
    "\n",
    "from ydata_profiling import ProfileReport\n",
    "from scipy.stats import norm\n",
    "from scipy import stats\n",
    "from ipywidgets import widgets, Layout\n",
    "from keboola.component import CommonInterface\n",
    "\n",
    "warnings.filterwarnings('ignore')"
   ]
  },
  {
   "cell_type": "markdown",
   "metadata": {
    "jp-MarkdownHeadingCollapsed": true,
    "tags": []
   },
   "source": [
    "---\n",
    "### Selecting a Dataset\n",
    "\n",
    "In this step, we will list the tables that users have loaded into the workspace using the table input mapping. Users can then select the dataset they want to use for data profiling and exploration.\n",
    "\n",
    "The input datasets are loaded using the Keboola Common Interface, which allows seamless interaction with the data tables defined in the workspace.\n"
   ]
  },
  {
   "cell_type": "code",
   "execution_count": 17,
   "metadata": {
    "tags": []
   },
   "outputs": [
    {
     "name": "stdout",
     "output_type": "stream",
     "text": [
      "Select the dataset you want to use from the dropdown.\n",
      "Select the dataset you want to use from the dropdown.\n"
     ]
    },
    {
     "data": {
      "application/vnd.jupyter.widget-view+json": {
       "model_id": "ffb91bc913f8435c8fc5ab39b0e04d17",
       "version_major": 2,
       "version_minor": 0
      },
      "text/plain": [
       "Dropdown(description='Table:', options=('/data/in/tables/configData.csv', '/data/in/tables/TITANIC.csv'), valu…"
      ]
     },
     "metadata": {},
     "output_type": "display_data"
    }
   ],
   "source": [
    "# Initialize CommonInterface\n",
    "ci = CommonInterface()\n",
    "\n",
    "# Load input tables\n",
    "input_tables = ci.get_input_tables_definitions()\n",
    "\n",
    "# List all CSV files in the input tables directory\n",
    "table_list = []\n",
    "for table in input_tables:\n",
    "    table_list.append(table.full_path)\n",
    "\n",
    "# Create a dropdown widget for selecting a table\n",
    "if table_list:\n",
    "    logging.info(\"Select the dataset you want to use from the dropdown.\")\n",
    "    tables = widgets.Dropdown(options=table_list, value=table_list[0],\n",
    "                              description='Table:', disabled=False)\n",
    "    display(tables)\n",
    "else:\n",
    "    logging.warning(\"No tables found. Please ensure you have loaded tables into the workspace using the table input mapping.\")\n"
   ]
  },
  {
   "cell_type": "markdown",
   "metadata": {
    "jp-MarkdownHeadingCollapsed": true,
    "tags": []
   },
   "source": [
    "### Load Selected Dataset\n",
    "Once you have selected a dataset from the dropdown, this cell reads the CSV file into a pandas DataFrame and generates a profile report using the `ydata-profiling` package.\n"
   ]
  },
  {
   "cell_type": "code",
   "execution_count": 31,
   "metadata": {
    "tags": []
   },
   "outputs": [
    {
     "data": {
      "text/html": [
       "<div>\n",
       "<style scoped>\n",
       "    .dataframe tbody tr th:only-of-type {\n",
       "        vertical-align: middle;\n",
       "    }\n",
       "\n",
       "    .dataframe tbody tr th {\n",
       "        vertical-align: top;\n",
       "    }\n",
       "\n",
       "    .dataframe thead th {\n",
       "        text-align: right;\n",
       "    }\n",
       "</style>\n",
       "<table border=\"1\" class=\"dataframe\">\n",
       "  <thead>\n",
       "    <tr style=\"text-align: right;\">\n",
       "      <th></th>\n",
       "      <th>PassengerId</th>\n",
       "      <th>Survived</th>\n",
       "      <th>Pclass</th>\n",
       "      <th>Name</th>\n",
       "      <th>Sex</th>\n",
       "      <th>Age</th>\n",
       "      <th>SibSp</th>\n",
       "      <th>Parch</th>\n",
       "      <th>Ticket</th>\n",
       "      <th>Fare</th>\n",
       "      <th>Cabin</th>\n",
       "      <th>Embarked</th>\n",
       "    </tr>\n",
       "  </thead>\n",
       "  <tbody>\n",
       "    <tr>\n",
       "      <th>0</th>\n",
       "      <td>1</td>\n",
       "      <td>0</td>\n",
       "      <td>3</td>\n",
       "      <td>Braund, Mr. Owen Harris</td>\n",
       "      <td>male</td>\n",
       "      <td>22.0</td>\n",
       "      <td>1</td>\n",
       "      <td>0</td>\n",
       "      <td>A/5 21171</td>\n",
       "      <td>7.2500</td>\n",
       "      <td>NaN</td>\n",
       "      <td>S</td>\n",
       "    </tr>\n",
       "    <tr>\n",
       "      <th>1</th>\n",
       "      <td>2</td>\n",
       "      <td>1</td>\n",
       "      <td>1</td>\n",
       "      <td>Cumings, Mrs. John Bradley (Florence Briggs Th...</td>\n",
       "      <td>female</td>\n",
       "      <td>38.0</td>\n",
       "      <td>1</td>\n",
       "      <td>0</td>\n",
       "      <td>PC 17599</td>\n",
       "      <td>71.2833</td>\n",
       "      <td>C85</td>\n",
       "      <td>C</td>\n",
       "    </tr>\n",
       "    <tr>\n",
       "      <th>2</th>\n",
       "      <td>3</td>\n",
       "      <td>1</td>\n",
       "      <td>3</td>\n",
       "      <td>Heikkinen, Miss. Laina</td>\n",
       "      <td>female</td>\n",
       "      <td>26.0</td>\n",
       "      <td>0</td>\n",
       "      <td>0</td>\n",
       "      <td>STON/O2. 3101282</td>\n",
       "      <td>7.9250</td>\n",
       "      <td>NaN</td>\n",
       "      <td>S</td>\n",
       "    </tr>\n",
       "    <tr>\n",
       "      <th>3</th>\n",
       "      <td>4</td>\n",
       "      <td>1</td>\n",
       "      <td>1</td>\n",
       "      <td>Futrelle, Mrs. Jacques Heath (Lily May Peel)</td>\n",
       "      <td>female</td>\n",
       "      <td>35.0</td>\n",
       "      <td>1</td>\n",
       "      <td>0</td>\n",
       "      <td>113803</td>\n",
       "      <td>53.1000</td>\n",
       "      <td>C123</td>\n",
       "      <td>S</td>\n",
       "    </tr>\n",
       "    <tr>\n",
       "      <th>4</th>\n",
       "      <td>5</td>\n",
       "      <td>0</td>\n",
       "      <td>3</td>\n",
       "      <td>Allen, Mr. William Henry</td>\n",
       "      <td>male</td>\n",
       "      <td>35.0</td>\n",
       "      <td>0</td>\n",
       "      <td>0</td>\n",
       "      <td>373450</td>\n",
       "      <td>8.0500</td>\n",
       "      <td>NaN</td>\n",
       "      <td>S</td>\n",
       "    </tr>\n",
       "  </tbody>\n",
       "</table>\n",
       "</div>"
      ],
      "text/plain": [
       "   PassengerId  Survived  Pclass  \\\n",
       "0            1         0       3   \n",
       "1            2         1       1   \n",
       "2            3         1       3   \n",
       "3            4         1       1   \n",
       "4            5         0       3   \n",
       "\n",
       "                                                Name     Sex   Age  SibSp  \\\n",
       "0                            Braund, Mr. Owen Harris    male  22.0      1   \n",
       "1  Cumings, Mrs. John Bradley (Florence Briggs Th...  female  38.0      1   \n",
       "2                             Heikkinen, Miss. Laina  female  26.0      0   \n",
       "3       Futrelle, Mrs. Jacques Heath (Lily May Peel)  female  35.0      1   \n",
       "4                           Allen, Mr. William Henry    male  35.0      0   \n",
       "\n",
       "   Parch            Ticket     Fare Cabin Embarked  \n",
       "0      0         A/5 21171   7.2500   NaN        S  \n",
       "1      0          PC 17599  71.2833   C85        C  \n",
       "2      0  STON/O2. 3101282   7.9250   NaN        S  \n",
       "3      0            113803  53.1000  C123        S  \n",
       "4      0            373450   8.0500   NaN        S  "
      ]
     },
     "metadata": {},
     "output_type": "display_data"
    }
   ],
   "source": [
    "data = pd.read_csv(tables.value)\n",
    "profile = ProfileReport(data)\n",
    "display(data.head())"
   ]
  },
  {
   "cell_type": "markdown",
   "metadata": {
    "jp-MarkdownHeadingCollapsed": true,
    "tags": []
   },
   "source": [
    "---\n",
    "## Generate Profile Report\n",
    "This cell generates a comprehensive HTML report of the selected dataset. \n",
    "\n",
    "**Warning**: For large datasets, this process may consume a significant amount of memory and might fail. Ensure your dataset is of a manageable size.\n"
   ]
  },
  {
   "cell_type": "code",
   "execution_count": 19,
   "metadata": {
    "tags": []
   },
   "outputs": [
    {
     "data": {
      "application/vnd.jupyter.widget-view+json": {
       "model_id": "afe174649bf14048b58117f18f71b4b8",
       "version_major": 2,
       "version_minor": 0
      },
      "text/plain": [
       "Summarize dataset:   0%|          | 0/5 [00:00<?, ?it/s]"
      ]
     },
     "metadata": {},
     "output_type": "display_data"
    },
    {
     "data": {
      "application/vnd.jupyter.widget-view+json": {
       "model_id": "d714a6271c36437081043797fb501c5c",
       "version_major": 2,
       "version_minor": 0
      },
      "text/plain": [
       "Generate report structure:   0%|          | 0/1 [00:00<?, ?it/s]"
      ]
     },
     "metadata": {},
     "output_type": "display_data"
    },
    {
     "data": {
      "application/vnd.jupyter.widget-view+json": {
       "model_id": "6378c7fd65a24d18846f9b882eec4032",
       "version_major": 2,
       "version_minor": 0
      },
      "text/plain": [
       "Render HTML:   0%|          | 0/1 [00:00<?, ?it/s]"
      ]
     },
     "metadata": {},
     "output_type": "display_data"
    },
    {
     "data": {
      "application/vnd.jupyter.widget-view+json": {
       "model_id": "2eac863680e3481783e8df4489140da3",
       "version_major": 2,
       "version_minor": 0
      },
      "text/plain": [
       "Export report to file:   0%|          | 0/1 [00:00<?, ?it/s]"
      ]
     },
     "metadata": {},
     "output_type": "display_data"
    },
    {
     "data": {
      "application/vnd.jupyter.widget-view+json": {
       "model_id": "",
       "version_major": 2,
       "version_minor": 0
      },
      "text/plain": [
       "Render widgets:   0%|          | 0/1 [00:00<?, ?it/s]"
      ]
     },
     "metadata": {},
     "output_type": "display_data"
    },
    {
     "data": {
      "application/vnd.jupyter.widget-view+json": {
       "model_id": "476e2acace1d47408f66d70d0072651e",
       "version_major": 2,
       "version_minor": 0
      },
      "text/plain": [
       "VBox(children=(Tab(children=(Tab(children=(GridBox(children=(VBox(children=(GridspecLayout(children=(HTML(valu…"
      ]
     },
     "metadata": {},
     "output_type": "display_data"
    }
   ],
   "source": [
    "profile.to_file(output_file ='/data/profile.html')\n",
    "profile.to_widgets()"
   ]
  },
  {
   "cell_type": "markdown",
   "metadata": {
    "jp-MarkdownHeadingCollapsed": true,
    "tags": []
   },
   "source": [
    "---\n",
    "## Remove Redundant Columns\n",
    "\n",
    "### Identify Columns with Only Unique Values\n",
    "**NOTE:** Such columns are not useful for binary classification models.\n",
    "\n",
    "In this section, we will identify columns that contain only unique values. These columns are not helpful for binary classification as they do not provide any discriminative power.\n"
   ]
  },
  {
   "cell_type": "code",
   "execution_count": 16,
   "metadata": {
    "tags": []
   },
   "outputs": [
    {
     "name": "stdout",
     "output_type": "stream",
     "text": [
      "[WARNING] Columns ['parameters_size', 'parameters_task_u0', 'parameters_type', 'parameters_expirationAfterHours', 'JSON_parentId'] contain only unique values, consider editting/grouping the data before using in binary classification model.\n"
     ]
    }
   ],
   "source": [
    "uniqueCols = []\n",
    "for col in data.columns:\n",
    "    if len(data[col].unique()) == len(data[col]):\n",
    "        uniqueCols.append(col)\n",
    "if len(uniqueCols) > 0:\n",
    "    print('[WARNING]', 'Columns', uniqueCols, 'contain only unique values, consider editting/grouping the data before using in binary classification model.')\n",
    "    "
   ]
  },
  {
   "cell_type": "code",
   "execution_count": 24,
   "metadata": {
    "tags": []
   },
   "outputs": [
    {
     "name": "stdout",
     "output_type": "stream",
     "text": [
      "[WARNING] Columns ['PassengerId', 'Name'] contain only unique values. Consider editing/grouping the data before using in a binary classification model.\n",
      "[WARNING] Columns ['PassengerId', 'Name'] contain only unique values. Consider editing/grouping the data before using in a binary classification model.\n"
     ]
    }
   ],
   "source": [
    "# Identify columns with only unique values\n",
    "unique_cols = [col for col in data.columns if data[col].nunique() == len(data)]\n",
    "if unique_cols:\n",
    "    logging.info(f'[WARNING] Columns {unique_cols} contain only unique values. Consider editing/grouping the data before using in a binary classification model.')\n",
    "else:\n",
    "    logging.info('[INFO] No columns with only unique values found.')\n"
   ]
  },
  {
   "cell_type": "markdown",
   "metadata": {},
   "source": [
    "### Drop Columns You Don't Want to Use\n",
    "**NOTE:** You can select multiple columns.\n",
    "\n",
    "Below is an interactive widget that allows you to select and drop columns that you do not wish to use in your analysis.\n"
   ]
  },
  {
   "cell_type": "code",
   "execution_count": 26,
   "metadata": {},
   "outputs": [
    {
     "name": "stdout",
     "output_type": "stream",
     "text": [
      "Select columns you want to drop:\n"
     ]
    },
    {
     "data": {
      "application/vnd.jupyter.widget-view+json": {
       "model_id": "9c5c86fc1b964ee698ee89ac8702fa1f",
       "version_major": 2,
       "version_minor": 0
      },
      "text/plain": [
       "SelectMultiple(description='Columns:', options=('PassengerId', 'Survived', 'Pclass', 'Name', 'Sex', 'Age', 'Si…"
      ]
     },
     "metadata": {},
     "output_type": "display_data"
    }
   ],
   "source": [
    "# Create a dropdown widget for selecting columns to drop\n",
    "print(\"Select columns you want to drop:\")\n",
    "cols_to_drop = widgets.SelectMultiple(\n",
    "    options=data.columns,\n",
    "    rows=10,\n",
    "    description='Columns:',\n",
    "    disabled=False\n",
    ")\n",
    "display(cols_to_drop)"
   ]
  },
  {
   "cell_type": "markdown",
   "metadata": {},
   "source": [
    "### Apply Column Drop\n",
    "Execute the cell below to drop the selected columns from the dataset.\n"
   ]
  },
  {
   "cell_type": "code",
   "execution_count": 32,
   "metadata": {},
   "outputs": [
    {
     "name": "stdout",
     "output_type": "stream",
     "text": [
      "[INFO] Column PassengerId dropped.\n",
      "[INFO] Column PassengerId dropped.\n"
     ]
    }
   ],
   "source": [
    "# Function to drop selected columns\n",
    "def drop_selected_columns(df, cols):\n",
    "    cols_to_drop_list = list(cols.get_interact_value())\n",
    "    if not cols_to_drop_list:\n",
    "        logging.info('[INFO] All columns will be kept in the data-frame for further exploration.')\n",
    "    else:\n",
    "        df.drop(columns=cols_to_drop_list, inplace=True)\n",
    "        for col in cols_to_drop_list:\n",
    "            logging.info(f'[INFO] Column {col} dropped.')\n",
    "\n",
    "# Apply the function with the selected columns\n",
    "drop_selected_columns(data, cols_to_drop)\n"
   ]
  },
  {
   "cell_type": "markdown",
   "metadata": {
    "jp-MarkdownHeadingCollapsed": true,
    "tags": []
   },
   "source": [
    "---\n",
    "## Solve Duplicates\n",
    "**Drop:** Will drop the duplicate rows.  \n",
    "**Keep:** Will keep the duplicate rows in the dataset.\n",
    "\n",
    "In this section, we will identify duplicate rows in the dataset and provide an option to either drop or keep them.\n"
   ]
  },
  {
   "cell_type": "code",
   "execution_count": 34,
   "metadata": {},
   "outputs": [
    {
     "name": "stdout",
     "output_type": "stream",
     "text": [
      "[INFO] There are [5] duplicates in the dataset...\n",
      "[INFO] There are [5] duplicates in the dataset...\n"
     ]
    },
    {
     "data": {
      "application/vnd.jupyter.widget-view+json": {
       "model_id": "52367b12aa4c4b05b5e734a34e8d031f",
       "version_major": 2,
       "version_minor": 0
      },
      "text/plain": [
       "ToggleButtons(button_style='info', description='Duplicates:', index=1, options=('Drop', 'Keep'), tooltips=('Du…"
      ]
     },
     "metadata": {},
     "output_type": "display_data"
    }
   ],
   "source": [
    "# Count the number of duplicate rows\n",
    "duplicates_cnt = len(data) - len(data.drop_duplicates())\n",
    "logging.info(f'[INFO] There are [{duplicates_cnt}] duplicates in the dataset...')\n",
    "\n",
    "# Create a toggle button for dropping or keeping duplicates\n",
    "drop_duplicates = 'Keep'\n",
    "if duplicates_cnt > 0:\n",
    "    drop_duplicates = widgets.ToggleButtons(\n",
    "        options=['Drop', 'Keep'],\n",
    "        description='Duplicates:',\n",
    "        disabled=False,\n",
    "        button_style='info',  # 'success', 'info', 'warning', 'danger' or ''\n",
    "        tooltips=['Duplicate rows will be dropped', 'Duplicate rows will be kept'],\n",
    "        value='Keep'\n",
    "    )\n",
    "    display(drop_duplicates)\n",
    "else:\n",
    "    logging.info('[INFO] No duplicates found in the dataset.')"
   ]
  },
  {
   "cell_type": "markdown",
   "metadata": {},
   "source": [
    "### Apply Duplicate Handling\n",
    "Execute the cell below to apply the chosen option for handling duplicates.\n"
   ]
  },
  {
   "cell_type": "code",
   "execution_count": 35,
   "metadata": {},
   "outputs": [
    {
     "name": "stdout",
     "output_type": "stream",
     "text": [
      "[INFO] Duplicate rows have been dropped.\n",
      "[INFO] Duplicate rows have been dropped.\n",
      "[DONE] There are [0] duplicates remaining in the dataset.\n",
      "[DONE] There are [0] duplicates remaining in the dataset.\n"
     ]
    }
   ],
   "source": [
    "# Apply the chosen option for handling duplicates\n",
    "if drop_duplicates.value == 'Drop':\n",
    "    data = data.drop_duplicates()\n",
    "    logging.info('[INFO] Duplicate rows have been dropped.')\n",
    "else:\n",
    "    logging.info('[INFO] Duplicate rows have been kept.')\n",
    "\n",
    "# Re-check the number of duplicate rows\n",
    "duplicates_cnt = len(data) - len(data.drop_duplicates())\n",
    "logging.info(f'[DONE] There are [{duplicates_cnt}] duplicates remaining in the dataset.')\n"
   ]
  },
  {
   "cell_type": "markdown",
   "metadata": {
    "jp-MarkdownHeadingCollapsed": true,
    "tags": []
   },
   "source": [
    "---\n",
    "## Encoding of Categorical Variables\n",
    "\n",
    "Label encoding has the advantage that it is straightforward but it has the disadvantage that the numeric values can be “misinterpreted” by the algorithms. For example, the value of 0 is obviously less than the value of 4 but does that really correspond to the data set in real life?\n",
    "\n",
    "In this section, we will:\n",
    "1. Identify different types of columns in the dataset (date, categorical, numeric).\n",
    "2. Handle missing values.\n",
    "3. Apply one-hot encoding to categorical columns.\n",
    "4. Apply label encoding to selected categorical columns.\n",
    "\n",
    "Let's start by identifying the column types.\n"
   ]
  },
  {
   "cell_type": "code",
   "execution_count": 36,
   "metadata": {
    "tags": []
   },
   "outputs": [],
   "source": [
    "# Function to identify data types\n",
    "def getDataTypes(data):\n",
    "    allColumns = list(data.columns)\n",
    "    datePreds = []\n",
    "    categoricalPreds = []\n",
    "    numericPreds = []\n",
    "    \n",
    "    for predictor in allColumns:\n",
    "        if data[predictor].dtype == 'object':\n",
    "            try:\n",
    "                pd.to_datetime(data[predictor])\n",
    "                datePreds.append(predictor)\n",
    "            except:\n",
    "                categoricalPreds.append(predictor) \n",
    "        elif 'datetime' in str(data[predictor].dtype):\n",
    "            datePreds.append(predictor)\n",
    "        else:\n",
    "            numericPreds.append(predictor)\n",
    "    \n",
    "    print('=====================================')\n",
    "    print('Dataset contains the following data types:')\n",
    "    print('Date variables:', '[', len(datePreds), ']', datePreds)\n",
    "    print('-------------------------------------')\n",
    "    print('Categorical variables:', '[', len(categoricalPreds), ']', categoricalPreds)\n",
    "    print('-------------------------------------')\n",
    "    print('Numeric variables:', '[', len(numericPreds), ']', numericPreds)\n",
    "    print('=====================================')\n",
    "\n",
    "    return datePreds, categoricalPreds, numericPreds\n"
   ]
  },
  {
   "cell_type": "code",
   "execution_count": 37,
   "metadata": {},
   "outputs": [
    {
     "name": "stdout",
     "output_type": "stream",
     "text": [
      "=====================================\n",
      "Dataset contains the following data types:\n",
      "Date variables: [ 0 ] []\n",
      "-------------------------------------\n",
      "Categorical variables: [ 5 ] ['Name', 'Sex', 'Ticket', 'Cabin', 'Embarked']\n",
      "-------------------------------------\n",
      "Numeric variables: [ 6 ] ['Survived', 'Pclass', 'Age', 'SibSp', 'Parch', 'Fare']\n",
      "=====================================\n"
     ]
    }
   ],
   "source": [
    "datePreds, categoricalPreds, numericPreds = getDataTypes(data)"
   ]
  },
  {
   "cell_type": "markdown",
   "metadata": {},
   "source": [
    "### One-Hot Encoding\n",
    "\n",
    "A common approach to encode categorical variables is called one-hot encoding. This method converts each category value into a new column and assigns a 1 or 0 (True/False) value to the column. This prevents misinterpretation of values by the algorithm but adds more columns to the dataset.\n",
    "\n",
    "Select the categorical columns you want to one-hot encode.\n"
   ]
  },
  {
   "cell_type": "code",
   "execution_count": 38,
   "metadata": {},
   "outputs": [
    {
     "data": {
      "application/vnd.jupyter.widget-view+json": {
       "model_id": "a64d45722e3846b0884541025589259d",
       "version_major": 2,
       "version_minor": 0
      },
      "text/plain": [
       "SelectMultiple(description='Columns:', options=('Name', 'Sex', 'Ticket', 'Cabin', 'Embarked'), rows=10, value=…"
      ]
     },
     "metadata": {},
     "output_type": "display_data"
    }
   ],
   "source": [
    "# Widget for selecting columns for one-hot encoding\n",
    "cols_to_ohe = widgets.SelectMultiple(\n",
    "    options=categoricalPreds,\n",
    "    rows=10,\n",
    "    description='Columns:',\n",
    "    disabled=False\n",
    ")\n",
    "display(cols_to_ohe)"
   ]
  },
  {
   "cell_type": "markdown",
   "metadata": {},
   "source": [
    "#### Apply One-Hot Encoding\n",
    "Execute the cell below to apply one-hot encoding to the selected columns.\n"
   ]
  },
  {
   "cell_type": "code",
   "execution_count": 39,
   "metadata": {},
   "outputs": [
    {
     "name": "stdout",
     "output_type": "stream",
     "text": [
      "[INFO] One-hot encoding applied to selected columns.\n",
      "[INFO] One-hot encoding applied to selected columns.\n",
      "=====================================\n",
      "Dataset contains the following data types:\n",
      "Date variables: [ 0 ] []\n",
      "-------------------------------------\n",
      "Categorical variables: [ 4 ] ['Name', 'Ticket', 'Cabin', 'Embarked']\n",
      "-------------------------------------\n",
      "Numeric variables: [ 8 ] ['Survived', 'Pclass', 'Age', 'SibSp', 'Parch', 'Fare', 'Sex_female', 'Sex_male']\n",
      "=====================================\n"
     ]
    }
   ],
   "source": [
    "# Apply one-hot encoding\n",
    "data = pd.get_dummies(data, columns=list(cols_to_ohe.value))\n",
    "logging.info('[INFO] One-hot encoding applied to selected columns.')\n",
    "datePreds, categoricalPreds, numericPreds = getDataTypes(data)\n"
   ]
  },
  {
   "cell_type": "markdown",
   "metadata": {},
   "source": [
    "### Label Encoding\n",
    "\n",
    "Label encoding converts each value in a column to a number. While straightforward, it can cause the numeric values to be misinterpreted as having an inherent order.\n",
    "\n",
    "Select the categorical columns you want to label encode.\n"
   ]
  },
  {
   "cell_type": "code",
   "execution_count": 40,
   "metadata": {},
   "outputs": [
    {
     "data": {
      "application/vnd.jupyter.widget-view+json": {
       "model_id": "290e9f2e863a44ed9b2c1a6860b95a5a",
       "version_major": 2,
       "version_minor": 0
      },
      "text/plain": [
       "SelectMultiple(description='Columns:', options=('Name', 'Ticket', 'Cabin', 'Embarked'), rows=10, value=())"
      ]
     },
     "metadata": {},
     "output_type": "display_data"
    }
   ],
   "source": [
    "# Widget for selecting columns for label encoding\n",
    "cols_to_le = widgets.SelectMultiple(\n",
    "    options=categoricalPreds,\n",
    "    rows=10,\n",
    "    description='Columns:',\n",
    "    disabled=False\n",
    ")\n",
    "display(cols_to_le)\n"
   ]
  },
  {
   "cell_type": "markdown",
   "metadata": {},
   "source": [
    "#### Apply Label Encoding\n",
    "Execute the cell below to apply label encoding to the selected columns.\n"
   ]
  },
  {
   "cell_type": "code",
   "execution_count": 41,
   "metadata": {},
   "outputs": [
    {
     "name": "stdout",
     "output_type": "stream",
     "text": [
      "[INFO] Label encoding applied to selected columns.\n",
      "[INFO] Label encoding applied to selected columns.\n",
      "=====================================\n",
      "Dataset contains the following data types:\n",
      "Date variables: [ 0 ] []\n",
      "-------------------------------------\n",
      "Categorical variables: [ 0 ] []\n",
      "-------------------------------------\n",
      "Numeric variables: [ 12 ] ['Survived', 'Pclass', 'Age', 'SibSp', 'Parch', 'Fare', 'Sex_female', 'Sex_male', 'Name_code', 'Ticket_code', 'Cabin_code', 'Embarked_code']\n",
      "=====================================\n"
     ]
    },
    {
     "data": {
      "text/html": [
       "<div>\n",
       "<style scoped>\n",
       "    .dataframe tbody tr th:only-of-type {\n",
       "        vertical-align: middle;\n",
       "    }\n",
       "\n",
       "    .dataframe tbody tr th {\n",
       "        vertical-align: top;\n",
       "    }\n",
       "\n",
       "    .dataframe thead th {\n",
       "        text-align: right;\n",
       "    }\n",
       "</style>\n",
       "<table border=\"1\" class=\"dataframe\">\n",
       "  <thead>\n",
       "    <tr style=\"text-align: right;\">\n",
       "      <th></th>\n",
       "      <th>Survived</th>\n",
       "      <th>Pclass</th>\n",
       "      <th>Age</th>\n",
       "      <th>SibSp</th>\n",
       "      <th>Parch</th>\n",
       "      <th>Fare</th>\n",
       "      <th>Sex_female</th>\n",
       "      <th>Sex_male</th>\n",
       "      <th>Name_code</th>\n",
       "      <th>Ticket_code</th>\n",
       "      <th>Cabin_code</th>\n",
       "      <th>Embarked_code</th>\n",
       "    </tr>\n",
       "  </thead>\n",
       "  <tbody>\n",
       "    <tr>\n",
       "      <th>0</th>\n",
       "      <td>0</td>\n",
       "      <td>3</td>\n",
       "      <td>22.0</td>\n",
       "      <td>1</td>\n",
       "      <td>0</td>\n",
       "      <td>7.2500</td>\n",
       "      <td>0</td>\n",
       "      <td>1</td>\n",
       "      <td>108</td>\n",
       "      <td>523</td>\n",
       "      <td>147</td>\n",
       "      <td>2</td>\n",
       "    </tr>\n",
       "    <tr>\n",
       "      <th>1</th>\n",
       "      <td>1</td>\n",
       "      <td>1</td>\n",
       "      <td>38.0</td>\n",
       "      <td>1</td>\n",
       "      <td>0</td>\n",
       "      <td>71.2833</td>\n",
       "      <td>1</td>\n",
       "      <td>0</td>\n",
       "      <td>190</td>\n",
       "      <td>596</td>\n",
       "      <td>81</td>\n",
       "      <td>0</td>\n",
       "    </tr>\n",
       "    <tr>\n",
       "      <th>2</th>\n",
       "      <td>1</td>\n",
       "      <td>3</td>\n",
       "      <td>26.0</td>\n",
       "      <td>0</td>\n",
       "      <td>0</td>\n",
       "      <td>7.9250</td>\n",
       "      <td>1</td>\n",
       "      <td>0</td>\n",
       "      <td>353</td>\n",
       "      <td>669</td>\n",
       "      <td>147</td>\n",
       "      <td>2</td>\n",
       "    </tr>\n",
       "    <tr>\n",
       "      <th>3</th>\n",
       "      <td>1</td>\n",
       "      <td>1</td>\n",
       "      <td>35.0</td>\n",
       "      <td>1</td>\n",
       "      <td>0</td>\n",
       "      <td>53.1000</td>\n",
       "      <td>1</td>\n",
       "      <td>0</td>\n",
       "      <td>272</td>\n",
       "      <td>49</td>\n",
       "      <td>55</td>\n",
       "      <td>2</td>\n",
       "    </tr>\n",
       "    <tr>\n",
       "      <th>4</th>\n",
       "      <td>0</td>\n",
       "      <td>3</td>\n",
       "      <td>35.0</td>\n",
       "      <td>0</td>\n",
       "      <td>0</td>\n",
       "      <td>8.0500</td>\n",
       "      <td>0</td>\n",
       "      <td>1</td>\n",
       "      <td>15</td>\n",
       "      <td>472</td>\n",
       "      <td>147</td>\n",
       "      <td>2</td>\n",
       "    </tr>\n",
       "  </tbody>\n",
       "</table>\n",
       "</div>"
      ],
      "text/plain": [
       "   Survived  Pclass   Age  SibSp  Parch     Fare  Sex_female  Sex_male  \\\n",
       "0         0       3  22.0      1      0   7.2500           0         1   \n",
       "1         1       1  38.0      1      0  71.2833           1         0   \n",
       "2         1       3  26.0      0      0   7.9250           1         0   \n",
       "3         1       1  35.0      1      0  53.1000           1         0   \n",
       "4         0       3  35.0      0      0   8.0500           0         1   \n",
       "\n",
       "   Name_code  Ticket_code  Cabin_code  Embarked_code  \n",
       "0        108          523         147              2  \n",
       "1        190          596          81              0  \n",
       "2        353          669         147              2  \n",
       "3        272           49          55              2  \n",
       "4         15          472         147              2  "
      ]
     },
     "execution_count": 41,
     "metadata": {},
     "output_type": "execute_result"
    }
   ],
   "source": [
    "from sklearn.preprocessing import LabelEncoder\n",
    "\n",
    "# Apply label encoding\n",
    "for col in list(cols_to_le.value):\n",
    "    lb_make = LabelEncoder()\n",
    "    data[col + '_code'] = lb_make.fit_transform(data[col])\n",
    "    data.drop(col, axis=1, inplace=True)\n",
    "\n",
    "logging.info('[INFO] Label encoding applied to selected columns.')\n",
    "\n",
    "datePreds, categoricalPreds, numericPreds = getDataTypes(data)\n",
    "data.head()\n"
   ]
  },
  {
   "cell_type": "markdown",
   "metadata": {
    "jp-MarkdownHeadingCollapsed": true,
    "tags": []
   },
   "source": [
    "---\n",
    "## Solve Missing Values\n",
    "\n",
    "### Identify Missing Values\n",
    "\n",
    "In this section, we will identify the missing values in the dataset. This will help us understand the extent of missing data and decide on an appropriate action to handle it.\n"
   ]
  },
  {
   "cell_type": "code",
   "execution_count": 42,
   "metadata": {
    "tags": []
   },
   "outputs": [
    {
     "name": "stdout",
     "output_type": "stream",
     "text": [
      "=====================================\n",
      "Total missing cells: [177]\n",
      "Percentage of missing cells: [1.66%]\n",
      "=====================================\n",
      "Count of missing cells per column:\n",
      "Survived           0\n",
      "Pclass             0\n",
      "Age              177\n",
      "SibSp              0\n",
      "Parch              0\n",
      "Fare               0\n",
      "Sex_female         0\n",
      "Sex_male           0\n",
      "Name_code          0\n",
      "Ticket_code        0\n",
      "Cabin_code         0\n",
      "Embarked_code      0\n",
      "dtype: int64\n",
      "=====================================\n",
      "-------------------------------------\n"
     ]
    }
   ],
   "source": [
    "# Function to identify missing values\n",
    "def getMissing(data):\n",
    "    missing_cnt = data.isna().sum().sum()\n",
    "    missing_pct = missing_cnt / (len(data.columns) * len(data))     \n",
    "    missing_out = data.isna().sum()\n",
    "    \n",
    "    print('=====================================')\n",
    "    print(f'Total missing cells: [{missing_cnt}]')\n",
    "    print(f'Percentage of missing cells: [{missing_pct:.2%}]')\n",
    "    print('=====================================')\n",
    "    print('Count of missing cells per column:')\n",
    "    print(missing_out)\n",
    "    print('=====================================')\n",
    "    print('-------------------------------------')\n",
    "\n",
    "# Identify missing values in the dataset\n",
    "getMissing(data)\n"
   ]
  },
  {
   "cell_type": "markdown",
   "metadata": {
    "jp-MarkdownHeadingCollapsed": true,
    "tags": []
   },
   "source": [
    "### Decide How to Handle Missing Values\n",
    "\n",
    "Choose a missing action from the following options:\n",
    "- **\"drop\"**: Drop rows with missing values in the selected column(s).\n",
    "- **\"replace\"**: Replace missing numeric values with the MEAN and missing categorical values with a new category named \"Undefined\" for the selected columns.\n",
    "- **\"replaceNumeric\"**: Replace missing numeric values with the MEAN value for the selected columns.\n",
    "- **\"replaceCategorical\"**: Replace missing categorical values with a new category named \"Undefined\" for the selected columns.\n",
    "- **\"None\"**: Ignore missing values.\n",
    "\n",
    "<h3><font color=\"red\">↓↓↓ Execute the cell below and choose how to solve missing values ↓↓↓</font></h3>\n"
   ]
  },
  {
   "cell_type": "code",
   "execution_count": 43,
   "metadata": {},
   "outputs": [
    {
     "data": {
      "application/vnd.jupyter.widget-view+json": {
       "model_id": "9b8e3feb49a848838fe491066e7ff827",
       "version_major": 2,
       "version_minor": 0
      },
      "text/plain": [
       "ToggleButtons(button_style='info', description='Action:', options=('None', 'drop', 'replace', 'replaceNumeric'…"
      ]
     },
     "metadata": {},
     "output_type": "display_data"
    },
    {
     "data": {
      "application/vnd.jupyter.widget-view+json": {
       "model_id": "6d90ac7f14d8437e9b354cd57a41936b",
       "version_major": 2,
       "version_minor": 0
      },
      "text/plain": [
       "SelectMultiple(description='Columns:', options=('ALL COLUMNS', 'Survived', 'Pclass', 'Age', 'SibSp', 'Parch', …"
      ]
     },
     "metadata": {},
     "output_type": "display_data"
    }
   ],
   "source": [
    "# Display widgets to choose how to handle missing values\n",
    "if data.isna().sum().sum() > 0:\n",
    "    MISSING_ACTION = widgets.ToggleButtons(\n",
    "        options=['None', 'drop', 'replace', 'replaceNumeric', 'replaceCategorical'],\n",
    "        description='Action:',\n",
    "        disabled=False,\n",
    "        button_style='info',  # 'success', 'info', 'warning', 'danger' or ''\n",
    "        value='None'\n",
    "    )\n",
    "    COLUMNS_ACTION = widgets.SelectMultiple(\n",
    "        options=['ALL COLUMNS'] + list(data.columns),\n",
    "        description='Columns:',\n",
    "        ensure_option=True,\n",
    "        disabled=False,\n",
    "        rows=15\n",
    "    )\n",
    "\n",
    "    display(MISSING_ACTION)\n",
    "    display(COLUMNS_ACTION)\n",
    "else:\n",
    "    logging.info('[INFO] There are no missing values in your dataset.')"
   ]
  },
  {
   "cell_type": "markdown",
   "metadata": {
    "jp-MarkdownHeadingCollapsed": true,
    "tags": []
   },
   "source": [
    "### Apply Missing Values Action\n",
    "\n",
    "Execute the cell below to apply the chosen action for handling missing values.\n",
    "\n",
    "<i><b>NOTE:</b> You can select and execute the missing action multiple times.</i><br>\n",
    "<i>For example, you can first select 'drop' for a specific column and then 'replaceNumeric' for numeric columns you prefer not to drop.</i>\n"
   ]
  },
  {
   "cell_type": "code",
   "execution_count": 44,
   "metadata": {},
   "outputs": [
    {
     "name": "stdout",
     "output_type": "stream",
     "text": [
      "['Replacing missing values in NUMERIC columns:', 'Age']\n"
     ]
    }
   ],
   "source": [
    "import ast\n",
    "\n",
    "# Function to handle missing values based on selected action\n",
    "def solveMissing(data, MISSING_ACTION):\n",
    "    messageOut = []\n",
    "    allColumns = list(data.columns)\n",
    "    datePreds = []\n",
    "    categoricalPreds = []\n",
    "    numericPreds = []\n",
    "    \n",
    "    for predictor in allColumns:\n",
    "        if data[predictor].dtype == 'object':\n",
    "            try:\n",
    "                pd.to_datetime(data[predictor])\n",
    "                datePreds.append(predictor)\n",
    "            except:\n",
    "                categoricalPreds.append(predictor) \n",
    "        elif 'datetime' in str(data[predictor].dtype):\n",
    "            datePreds.append(predictor)\n",
    "        else:\n",
    "            numericPreds.append(predictor)\n",
    "    \n",
    "    if 'None' in MISSING_ACTION[:4]:\n",
    "        messageOut.append('Not solving any columns.')\n",
    "        \n",
    "    if MISSING_ACTION == \"replaceAll\":\n",
    "        messageOut.append('Replacing missing values in all columns:')\n",
    "        for col in allColumns:\n",
    "            if data[col].isna().sum() > 0:\n",
    "                if col in numericPreds:\n",
    "                    data[col].fillna(data[col].mean(), inplace=True)\n",
    "                else:\n",
    "                    data[col].fillna('REPLACED-Undefined', inplace=True)\n",
    "                messageOut.append(col)\n",
    "            \n",
    "    elif \"replaceNumeric\" in MISSING_ACTION:\n",
    "        messageOut.append('Replacing missing values in NUMERIC columns:')\n",
    "        for col in numericPreds:\n",
    "            if data[col].isna().sum() > 0:\n",
    "                data[col].fillna(data[col].mean(), inplace=True)            \n",
    "                messageOut.append(col)\n",
    "            \n",
    "    elif \"replaceCategorical\" in MISSING_ACTION:\n",
    "        messageOut.append('Replacing missing values in CATEGORICAL columns:')\n",
    "        for col in categoricalPreds:\n",
    "            if data[col].isna().sum() > 0:\n",
    "                data[col].fillna('REPLACED-Undefined', inplace=True)\n",
    "                messageOut.append(col)\n",
    "    \n",
    "    elif \"replace\" in MISSING_ACTION:\n",
    "        messageOut.append('Replacing missing values in selected columns.')\n",
    "        colsToReplace = ast.literal_eval(MISSING_ACTION.replace(\"replace\", \"\"))\n",
    "        for col in colsToReplace:\n",
    "            if col in categoricalPreds:\n",
    "                if data[col].isna().sum() > 0:\n",
    "                    data[col].fillna('REPLACED-Undefined', inplace=True)\n",
    "                    messageOut.append(col)\n",
    "            else:\n",
    "                if data[col].isna().sum() > 0:\n",
    "                    data[col].fillna(data[col].mean(), inplace=True)            \n",
    "                    messageOut.append(col)\n",
    "                        \n",
    "    if MISSING_ACTION == 'dropAll':\n",
    "        messageOut.append('Dropping missing values in all columns.')\n",
    "        data.dropna(inplace=True)\n",
    "            \n",
    "    elif \"drop\" in MISSING_ACTION[:4]:\n",
    "        messageOut.append('Dropping missing values in selected columns.')\n",
    "        colsToDrop = ast.literal_eval(MISSING_ACTION.replace(\"drop\", \"\"))\n",
    "        data.dropna(subset=colsToDrop, inplace=True)\n",
    "        messageOut.append(colsToDrop)\n",
    "    \n",
    "    if len(messageOut) == 0:\n",
    "        messageOut.append('[INFO] There is nothing to do for selected action.')\n",
    "    print(messageOut)\n",
    "    return data\n",
    "\n",
    "# Apply the chosen action for handling missing values\n",
    "missing_action_value = MISSING_ACTION.value\n",
    "columns_action_value = list(COLUMNS_ACTION.value)\n",
    "if 'ALL COLUMNS' in columns_action_value:\n",
    "    missing_action_concat = missing_action_value + 'All'\n",
    "else:\n",
    "    missing_action_concat = missing_action_value + str(columns_action_value)\n",
    "\n",
    "data = solveMissing(data, missing_action_concat)\n"
   ]
  },
  {
   "cell_type": "code",
   "execution_count": 45,
   "metadata": {
    "tags": []
   },
   "outputs": [
    {
     "data": {
      "text/html": [
       "<div>\n",
       "<style scoped>\n",
       "    .dataframe tbody tr th:only-of-type {\n",
       "        vertical-align: middle;\n",
       "    }\n",
       "\n",
       "    .dataframe tbody tr th {\n",
       "        vertical-align: top;\n",
       "    }\n",
       "\n",
       "    .dataframe thead th {\n",
       "        text-align: right;\n",
       "    }\n",
       "</style>\n",
       "<table border=\"1\" class=\"dataframe\">\n",
       "  <thead>\n",
       "    <tr style=\"text-align: right;\">\n",
       "      <th></th>\n",
       "      <th>Survived</th>\n",
       "      <th>Pclass</th>\n",
       "      <th>Age</th>\n",
       "      <th>SibSp</th>\n",
       "      <th>Parch</th>\n",
       "      <th>Fare</th>\n",
       "      <th>Sex_female</th>\n",
       "      <th>Sex_male</th>\n",
       "      <th>Name_code</th>\n",
       "      <th>Ticket_code</th>\n",
       "      <th>Cabin_code</th>\n",
       "      <th>Embarked_code</th>\n",
       "    </tr>\n",
       "  </thead>\n",
       "  <tbody>\n",
       "    <tr>\n",
       "      <th>0</th>\n",
       "      <td>0</td>\n",
       "      <td>3</td>\n",
       "      <td>22.0</td>\n",
       "      <td>1</td>\n",
       "      <td>0</td>\n",
       "      <td>7.2500</td>\n",
       "      <td>0</td>\n",
       "      <td>1</td>\n",
       "      <td>108</td>\n",
       "      <td>523</td>\n",
       "      <td>147</td>\n",
       "      <td>2</td>\n",
       "    </tr>\n",
       "    <tr>\n",
       "      <th>1</th>\n",
       "      <td>1</td>\n",
       "      <td>1</td>\n",
       "      <td>38.0</td>\n",
       "      <td>1</td>\n",
       "      <td>0</td>\n",
       "      <td>71.2833</td>\n",
       "      <td>1</td>\n",
       "      <td>0</td>\n",
       "      <td>190</td>\n",
       "      <td>596</td>\n",
       "      <td>81</td>\n",
       "      <td>0</td>\n",
       "    </tr>\n",
       "    <tr>\n",
       "      <th>2</th>\n",
       "      <td>1</td>\n",
       "      <td>3</td>\n",
       "      <td>26.0</td>\n",
       "      <td>0</td>\n",
       "      <td>0</td>\n",
       "      <td>7.9250</td>\n",
       "      <td>1</td>\n",
       "      <td>0</td>\n",
       "      <td>353</td>\n",
       "      <td>669</td>\n",
       "      <td>147</td>\n",
       "      <td>2</td>\n",
       "    </tr>\n",
       "    <tr>\n",
       "      <th>3</th>\n",
       "      <td>1</td>\n",
       "      <td>1</td>\n",
       "      <td>35.0</td>\n",
       "      <td>1</td>\n",
       "      <td>0</td>\n",
       "      <td>53.1000</td>\n",
       "      <td>1</td>\n",
       "      <td>0</td>\n",
       "      <td>272</td>\n",
       "      <td>49</td>\n",
       "      <td>55</td>\n",
       "      <td>2</td>\n",
       "    </tr>\n",
       "    <tr>\n",
       "      <th>4</th>\n",
       "      <td>0</td>\n",
       "      <td>3</td>\n",
       "      <td>35.0</td>\n",
       "      <td>0</td>\n",
       "      <td>0</td>\n",
       "      <td>8.0500</td>\n",
       "      <td>0</td>\n",
       "      <td>1</td>\n",
       "      <td>15</td>\n",
       "      <td>472</td>\n",
       "      <td>147</td>\n",
       "      <td>2</td>\n",
       "    </tr>\n",
       "  </tbody>\n",
       "</table>\n",
       "</div>"
      ],
      "text/plain": [
       "   Survived  Pclass   Age  SibSp  Parch     Fare  Sex_female  Sex_male  \\\n",
       "0         0       3  22.0      1      0   7.2500           0         1   \n",
       "1         1       1  38.0      1      0  71.2833           1         0   \n",
       "2         1       3  26.0      0      0   7.9250           1         0   \n",
       "3         1       1  35.0      1      0  53.1000           1         0   \n",
       "4         0       3  35.0      0      0   8.0500           0         1   \n",
       "\n",
       "   Name_code  Ticket_code  Cabin_code  Embarked_code  \n",
       "0        108          523         147              2  \n",
       "1        190          596          81              0  \n",
       "2        353          669         147              2  \n",
       "3        272           49          55              2  \n",
       "4         15          472         147              2  "
      ]
     },
     "metadata": {},
     "output_type": "display_data"
    }
   ],
   "source": [
    "display(data.head())"
   ]
  },
  {
   "cell_type": "markdown",
   "metadata": {
    "jp-MarkdownHeadingCollapsed": true,
    "tags": []
   },
   "source": [
    "---\n",
    "## Check the basic details of dataset"
   ]
  },
  {
   "cell_type": "code",
   "execution_count": 48,
   "metadata": {},
   "outputs": [
    {
     "data": {
      "text/html": [
       "<div>\n",
       "<style scoped>\n",
       "    .dataframe tbody tr th:only-of-type {\n",
       "        vertical-align: middle;\n",
       "    }\n",
       "\n",
       "    .dataframe tbody tr th {\n",
       "        vertical-align: top;\n",
       "    }\n",
       "\n",
       "    .dataframe thead th {\n",
       "        text-align: right;\n",
       "    }\n",
       "</style>\n",
       "<table border=\"1\" class=\"dataframe\">\n",
       "  <thead>\n",
       "    <tr style=\"text-align: right;\">\n",
       "      <th></th>\n",
       "      <th>count</th>\n",
       "      <th>mean</th>\n",
       "      <th>std</th>\n",
       "      <th>min</th>\n",
       "      <th>25%</th>\n",
       "      <th>50%</th>\n",
       "      <th>75%</th>\n",
       "      <th>max</th>\n",
       "      <th>ColumnName</th>\n",
       "    </tr>\n",
       "  </thead>\n",
       "  <tbody>\n",
       "    <tr>\n",
       "      <th>Survived</th>\n",
       "      <td>891.0</td>\n",
       "      <td>0.383838</td>\n",
       "      <td>0.486592</td>\n",
       "      <td>0.00</td>\n",
       "      <td>0.0000</td>\n",
       "      <td>0.000000</td>\n",
       "      <td>1.0</td>\n",
       "      <td>1.0000</td>\n",
       "      <td>Survived</td>\n",
       "    </tr>\n",
       "    <tr>\n",
       "      <th>Pclass</th>\n",
       "      <td>891.0</td>\n",
       "      <td>2.308642</td>\n",
       "      <td>0.836071</td>\n",
       "      <td>1.00</td>\n",
       "      <td>2.0000</td>\n",
       "      <td>3.000000</td>\n",
       "      <td>3.0</td>\n",
       "      <td>3.0000</td>\n",
       "      <td>Pclass</td>\n",
       "    </tr>\n",
       "    <tr>\n",
       "      <th>Age</th>\n",
       "      <td>891.0</td>\n",
       "      <td>29.699118</td>\n",
       "      <td>13.002015</td>\n",
       "      <td>0.42</td>\n",
       "      <td>22.0000</td>\n",
       "      <td>29.699118</td>\n",
       "      <td>35.0</td>\n",
       "      <td>80.0000</td>\n",
       "      <td>Age</td>\n",
       "    </tr>\n",
       "    <tr>\n",
       "      <th>SibSp</th>\n",
       "      <td>891.0</td>\n",
       "      <td>0.523008</td>\n",
       "      <td>1.102743</td>\n",
       "      <td>0.00</td>\n",
       "      <td>0.0000</td>\n",
       "      <td>0.000000</td>\n",
       "      <td>1.0</td>\n",
       "      <td>8.0000</td>\n",
       "      <td>SibSp</td>\n",
       "    </tr>\n",
       "    <tr>\n",
       "      <th>Parch</th>\n",
       "      <td>891.0</td>\n",
       "      <td>0.381594</td>\n",
       "      <td>0.806057</td>\n",
       "      <td>0.00</td>\n",
       "      <td>0.0000</td>\n",
       "      <td>0.000000</td>\n",
       "      <td>0.0</td>\n",
       "      <td>6.0000</td>\n",
       "      <td>Parch</td>\n",
       "    </tr>\n",
       "    <tr>\n",
       "      <th>Fare</th>\n",
       "      <td>891.0</td>\n",
       "      <td>32.204208</td>\n",
       "      <td>49.693429</td>\n",
       "      <td>0.00</td>\n",
       "      <td>7.9104</td>\n",
       "      <td>14.454200</td>\n",
       "      <td>31.0</td>\n",
       "      <td>512.3292</td>\n",
       "      <td>Fare</td>\n",
       "    </tr>\n",
       "    <tr>\n",
       "      <th>Sex_female</th>\n",
       "      <td>891.0</td>\n",
       "      <td>0.352413</td>\n",
       "      <td>0.477990</td>\n",
       "      <td>0.00</td>\n",
       "      <td>0.0000</td>\n",
       "      <td>0.000000</td>\n",
       "      <td>1.0</td>\n",
       "      <td>1.0000</td>\n",
       "      <td>Sex_female</td>\n",
       "    </tr>\n",
       "    <tr>\n",
       "      <th>Sex_male</th>\n",
       "      <td>891.0</td>\n",
       "      <td>0.647587</td>\n",
       "      <td>0.477990</td>\n",
       "      <td>0.00</td>\n",
       "      <td>0.0000</td>\n",
       "      <td>1.000000</td>\n",
       "      <td>1.0</td>\n",
       "      <td>1.0000</td>\n",
       "      <td>Sex_male</td>\n",
       "    </tr>\n",
       "    <tr>\n",
       "      <th>Name_code</th>\n",
       "      <td>891.0</td>\n",
       "      <td>445.000000</td>\n",
       "      <td>257.353842</td>\n",
       "      <td>0.00</td>\n",
       "      <td>222.5000</td>\n",
       "      <td>445.000000</td>\n",
       "      <td>667.5</td>\n",
       "      <td>890.0000</td>\n",
       "      <td>Name_code</td>\n",
       "    </tr>\n",
       "    <tr>\n",
       "      <th>Ticket_code</th>\n",
       "      <td>891.0</td>\n",
       "      <td>338.528620</td>\n",
       "      <td>200.850657</td>\n",
       "      <td>0.00</td>\n",
       "      <td>158.5000</td>\n",
       "      <td>337.000000</td>\n",
       "      <td>519.5</td>\n",
       "      <td>680.0000</td>\n",
       "      <td>Ticket_code</td>\n",
       "    </tr>\n",
       "    <tr>\n",
       "      <th>Cabin_code</th>\n",
       "      <td>891.0</td>\n",
       "      <td>130.744108</td>\n",
       "      <td>36.024237</td>\n",
       "      <td>0.00</td>\n",
       "      <td>147.0000</td>\n",
       "      <td>147.000000</td>\n",
       "      <td>147.0</td>\n",
       "      <td>147.0000</td>\n",
       "      <td>Cabin_code</td>\n",
       "    </tr>\n",
       "    <tr>\n",
       "      <th>Embarked_code</th>\n",
       "      <td>891.0</td>\n",
       "      <td>1.538721</td>\n",
       "      <td>0.794231</td>\n",
       "      <td>0.00</td>\n",
       "      <td>1.0000</td>\n",
       "      <td>2.000000</td>\n",
       "      <td>2.0</td>\n",
       "      <td>3.0000</td>\n",
       "      <td>Embarked_code</td>\n",
       "    </tr>\n",
       "  </tbody>\n",
       "</table>\n",
       "</div>"
      ],
      "text/plain": [
       "               count        mean         std   min       25%         50%  \\\n",
       "Survived       891.0    0.383838    0.486592  0.00    0.0000    0.000000   \n",
       "Pclass         891.0    2.308642    0.836071  1.00    2.0000    3.000000   \n",
       "Age            891.0   29.699118   13.002015  0.42   22.0000   29.699118   \n",
       "SibSp          891.0    0.523008    1.102743  0.00    0.0000    0.000000   \n",
       "Parch          891.0    0.381594    0.806057  0.00    0.0000    0.000000   \n",
       "Fare           891.0   32.204208   49.693429  0.00    7.9104   14.454200   \n",
       "Sex_female     891.0    0.352413    0.477990  0.00    0.0000    0.000000   \n",
       "Sex_male       891.0    0.647587    0.477990  0.00    0.0000    1.000000   \n",
       "Name_code      891.0  445.000000  257.353842  0.00  222.5000  445.000000   \n",
       "Ticket_code    891.0  338.528620  200.850657  0.00  158.5000  337.000000   \n",
       "Cabin_code     891.0  130.744108   36.024237  0.00  147.0000  147.000000   \n",
       "Embarked_code  891.0    1.538721    0.794231  0.00    1.0000    2.000000   \n",
       "\n",
       "                 75%       max     ColumnName  \n",
       "Survived         1.0    1.0000       Survived  \n",
       "Pclass           3.0    3.0000         Pclass  \n",
       "Age             35.0   80.0000            Age  \n",
       "SibSp            1.0    8.0000          SibSp  \n",
       "Parch            0.0    6.0000          Parch  \n",
       "Fare            31.0  512.3292           Fare  \n",
       "Sex_female       1.0    1.0000     Sex_female  \n",
       "Sex_male         1.0    1.0000       Sex_male  \n",
       "Name_code      667.5  890.0000      Name_code  \n",
       "Ticket_code    519.5  680.0000    Ticket_code  \n",
       "Cabin_code     147.0  147.0000     Cabin_code  \n",
       "Embarked_code    2.0    3.0000  Embarked_code  "
      ]
     },
     "metadata": {},
     "output_type": "display_data"
    }
   ],
   "source": [
    "dataDescribe = data.describe(include='all').transpose()\n",
    "dataDescribe['ColumnName'] = dataDescribe.index\n",
    "\n",
    "display(dataDescribe)"
   ]
  },
  {
   "cell_type": "markdown",
   "metadata": {
    "jp-MarkdownHeadingCollapsed": true,
    "tags": []
   },
   "source": [
    "---\n",
    "## Anomaly Detection\n",
    "\n",
    "### Skewness and Kurtosis Analysis (of Numeric Variables)\n",
    "\n",
    "**Skewness** is a measure of symmetry, or more precisely, the lack of symmetry. A distribution, or data set, is symmetric if it looks the same to the left and right of the center point.\n",
    "\n",
    "**Kurtosis** is a measure of whether the data are heavy-tailed or light-tailed relative to a normal distribution. Data sets with high kurtosis tend to have heavy tails, or outliers. Data sets with low kurtosis tend to have light tails, or lack of outliers.\n",
    "\n",
    "In this section, we will:\n",
    "1. Calculate skewness and kurtosis for numeric variables.\n",
    "2. Identify columns that are highly skewed or peaked.\n",
    "\n",
    "Execute the cell below to perform the skewness and kurtosis analysis.\n"
   ]
  },
  {
   "cell_type": "code",
   "execution_count": 49,
   "metadata": {},
   "outputs": [
    {
     "name": "stdout",
     "output_type": "stream",
     "text": [
      "[WARNING] The SibSp column is highly skewed. This can affect the performance of binary classification. Check the dataset if the share of outliers is acceptable.\n",
      "\n",
      "[WARNING] The SibSp column is highly peaked. This can affect the performance of binary classification. Check the dataset if the share of outliers is acceptable.\n",
      "\n",
      "[WARNING] The Parch column is highly skewed. This can affect the performance of binary classification. Check the dataset if the share of outliers is acceptable.\n",
      "\n",
      "[WARNING] The Parch column is highly peaked. This can affect the performance of binary classification. Check the dataset if the share of outliers is acceptable.\n",
      "\n",
      "[WARNING] The Fare column is highly skewed. This can affect the performance of binary classification. Check the dataset if the share of outliers is acceptable.\n",
      "\n",
      "[WARNING] The Fare column is highly peaked. This can affect the performance of binary classification. Check the dataset if the share of outliers is acceptable.\n",
      "\n",
      "[WARNING] The Cabin_code column is highly skewed. This can affect the performance of binary classification. Check the dataset if the share of outliers is acceptable.\n",
      "\n",
      "[WARNING] The Cabin_code column is highly peaked. This can affect the performance of binary classification. Check the dataset if the share of outliers is acceptable.\n",
      "\n"
     ]
    },
    {
     "data": {
      "application/vnd.jupyter.widget-view+json": {
       "model_id": "6f17c6ce22ec4a328af66d32633b4fe3",
       "version_major": 2,
       "version_minor": 0
      },
      "text/plain": [
       "Button(description='View Skewness and Kurtosis values for all columns', layout=Layout(width='50%'), style=Butt…"
      ]
     },
     "metadata": {},
     "output_type": "display_data"
    },
    {
     "data": {
      "application/vnd.jupyter.widget-view+json": {
       "model_id": "f63c4c6b858d46788d85ed3725d46583",
       "version_major": 2,
       "version_minor": 0
      },
      "text/plain": [
       "Output()"
      ]
     },
     "metadata": {},
     "output_type": "display_data"
    }
   ],
   "source": [
    "# Function to calculate skewness and kurtosis\n",
    "def getSkewKurt(data):\n",
    "    dataSkewKurt = pd.DataFrame({\"ColumnName\": [], \"Skewness\": [], \"Kurtosis\": []})\n",
    "    for col in data.columns:\n",
    "        colSkew = data[col].skew()\n",
    "        colKurt = data[col].kurt()\n",
    "        dataSkewKurtTemp = pd.DataFrame({\"ColumnName\": [col], \"Skewness\": [colSkew], \"Kurtosis\": [colKurt]})\n",
    "        dataSkewKurt = dataSkewKurt.append(dataSkewKurtTemp, ignore_index=True)\n",
    "        if colSkew < -2 or colSkew > 2:\n",
    "            print(f'[WARNING] The {col} column is highly skewed. This can affect the performance of binary classification. Check the dataset if the share of outliers is acceptable.\\n')\n",
    "        if colKurt < -3 or colKurt > 3:\n",
    "            print(f'[WARNING] The {col} column is highly peaked. This can affect the performance of binary classification. Check the dataset if the share of outliers is acceptable.\\n')\n",
    "    return dataSkewKurt\n",
    "\n",
    "# Calculate skewness and kurtosis for numeric variables\n",
    "dataSkewKurt = getSkewKurt(data[numericPreds])\n",
    "\n",
    "# Button to view skewness and kurtosis values\n",
    "button = widgets.Button(description=\"View Skewness and Kurtosis values for all columns\",\n",
    "                        layout=Layout(width='50%'))\n",
    "output = widgets.Output()\n",
    "display(button, output)\n",
    "\n",
    "def on_button_clicked(b):\n",
    "    with output:\n",
    "        display(dataSkewKurt)\n",
    "\n",
    "button.on_click(on_button_clicked)"
   ]
  },
  {
   "cell_type": "markdown",
   "metadata": {},
   "source": [
    "### Identify Multivariate Outliers for Numeric Columns\n",
    "\n",
    "Outliers in the dataset can significantly affect the performance of any binary classification algorithm.\n",
    "\n",
    "**There is no rule of thumb for what share of outliers is acceptable. What is crucial is to be aware of the outliers present in the dataset.**\n",
    "\n",
    "**Method 1 - Standard Deviation (STD)**:\n",
    "For every column, calculate the mean and standard deviation (StD). Each data point is then compared with the mean as follows:\n",
    "`IF ABS(DATA_POINT - MEAN) > 2*StD THEN OUTLIER ELSE NOT_OUTLIER`\n",
    "\n",
    "**Method 2 - K-Nearest Neighbor (KNN)**:\n",
    "The KNN method uses the distance to its k-th nearest neighbor as the outlying score. PyOD supports three KNN detectors: largest, mean, and median, which use the distance of the k-th neighbor, the average of all the k neighbors, and the median distance to k neighbors as the outlying score, respectively.\n",
    "\n",
    "Execute the cell below to identify outliers using both methods.\n"
   ]
  },
  {
   "cell_type": "code",
   "execution_count": 52,
   "metadata": {},
   "outputs": [
    {
     "name": "stdout",
     "output_type": "stream",
     "text": [
      "[INFO] Calculating outliers based on standard deviation\n",
      "[INFO] Done. Count of outliers based on Std: 76\n",
      "Share of outlier rows: 8.53%\n",
      "[INFO] Calculating outliers with KNN model\n",
      "[INFO] Done. Count of outliers based on KNN: 67\n",
      "Share of outlier rows: 7.52%\n",
      "Columns [StdOutlier, KnnOutlier] were added to the dataset.\n"
     ]
    }
   ],
   "source": [
    "from pyod.models.knn import KNN\n",
    "\n",
    "# Function to calculate outliers based on standard deviation\n",
    "def getNumericOutliers(data):\n",
    "    print('[INFO] Calculating outliers based on standard deviation')\n",
    "    dataOutlier = data.copy()\n",
    "    for col in dataOutlier:\n",
    "        dataOutlier[col + '_mean'] = dataOutlier[col].mean()\n",
    "        dataOutlier[col + '_std'] = dataOutlier[col].std()\n",
    "        dataOutlier[col + '_outlier'] = dataOutlier[[col, col + '_mean', col + '_std']].apply(\n",
    "            lambda x: 1 if abs(x[col] - x[col + '_mean']) > (x[col + '_std'] * 2) else 0, axis=1)\n",
    "\n",
    "    outlierCols = [col for col in dataOutlier.columns if '_outlier' in col]\n",
    "    dataOutlier['StdOutlier'] = dataOutlier[outlierCols].apply(lambda x: 1 if x.sum() > 1 else 0, axis=1)\n",
    "    dataOutlier.drop(columns=[col for col in dataOutlier.columns if '_mean' in col or '_std' in col or '_outlier' in col], inplace=True)\n",
    "    \n",
    "    outlier_fraction = dataOutlier['StdOutlier'].mean()\n",
    "    print(f'[INFO] Done. Count of outliers based on Std: {dataOutlier[\"StdOutlier\"].sum()}')\n",
    "    print(f'Share of outlier rows: {outlier_fraction:.2%}')\n",
    "    \n",
    "    return dataOutlier, outlier_fraction\n",
    "\n",
    "# Function to calculate outliers based on KNN\n",
    "def getKnnOutliers(X, fraction):\n",
    "    print('[INFO] Calculating outliers with KNN model')\n",
    "    clf = KNN(contamination=fraction)\n",
    "    clf.fit(X)\n",
    "    \n",
    "    # Predict raw anomaly score\n",
    "    scores_pred = clf.decision_function(X) * -1\n",
    "\n",
    "    # Prediction of a datapoint category outlier or inlier\n",
    "    y_pred = clf.predict(X).tolist()\n",
    "    \n",
    "    print('[INFO] Done. Count of outliers based on KNN:', sum(y_pred))\n",
    "    print('Share of outlier rows:', f'{sum(y_pred) / len(y_pred):.2%}')\n",
    "    \n",
    "    return y_pred\n",
    "\n",
    "# Calculate outliers based on standard deviation\n",
    "dataNumericOutlier, fraction = getNumericOutliers(data[numericPreds])\n",
    "\n",
    "# Prepare data for KNN outlier detection\n",
    "dataKnn = data[numericPreds].astype('float64')\n",
    "X = dataKnn.values\n",
    "\n",
    "# Calculate outliers based on KNN\n",
    "dataKnnOutlier = getKnnOutliers(X, fraction)\n",
    "dataKnn['KnnOutlier'] = dataKnnOutlier\n",
    "\n",
    "# Combine outlier results with the main dataset\n",
    "data['StdOutlier'] = dataNumericOutlier['StdOutlier']\n",
    "data['KnnOutlier'] = dataKnn['KnnOutlier']\n",
    "print('Columns [StdOutlier, KnnOutlier] were added to the dataset.')\n"
   ]
  },
  {
   "cell_type": "markdown",
   "metadata": {},
   "source": [
    "### Explore Outliers\n",
    "\n",
    "Explore the columns with standard deviation outliers.\n",
    "\n",
    "Execute the cell below to view the rows identified as outliers by standard deviation.\n"
   ]
  },
  {
   "cell_type": "code",
   "execution_count": 53,
   "metadata": {},
   "outputs": [
    {
     "data": {
      "text/html": [
       "<div>\n",
       "<style scoped>\n",
       "    .dataframe tbody tr th:only-of-type {\n",
       "        vertical-align: middle;\n",
       "    }\n",
       "\n",
       "    .dataframe tbody tr th {\n",
       "        vertical-align: top;\n",
       "    }\n",
       "\n",
       "    .dataframe thead th {\n",
       "        text-align: right;\n",
       "    }\n",
       "</style>\n",
       "<table border=\"1\" class=\"dataframe\">\n",
       "  <thead>\n",
       "    <tr style=\"text-align: right;\">\n",
       "      <th></th>\n",
       "      <th>Survived</th>\n",
       "      <th>Pclass</th>\n",
       "      <th>Age</th>\n",
       "      <th>SibSp</th>\n",
       "      <th>Parch</th>\n",
       "      <th>Fare</th>\n",
       "      <th>Sex_female</th>\n",
       "      <th>Sex_male</th>\n",
       "      <th>Name_code</th>\n",
       "      <th>Ticket_code</th>\n",
       "      <th>Cabin_code</th>\n",
       "      <th>Embarked_code</th>\n",
       "      <th>StdOutlier</th>\n",
       "    </tr>\n",
       "  </thead>\n",
       "  <tbody>\n",
       "    <tr>\n",
       "      <th>7</th>\n",
       "      <td>0</td>\n",
       "      <td>3</td>\n",
       "      <td>2.000000</td>\n",
       "      <td>3</td>\n",
       "      <td>1</td>\n",
       "      <td>21.0750</td>\n",
       "      <td>0</td>\n",
       "      <td>1</td>\n",
       "      <td>624</td>\n",
       "      <td>395</td>\n",
       "      <td>147</td>\n",
       "      <td>2</td>\n",
       "      <td>1</td>\n",
       "    </tr>\n",
       "    <tr>\n",
       "      <th>11</th>\n",
       "      <td>1</td>\n",
       "      <td>1</td>\n",
       "      <td>58.000000</td>\n",
       "      <td>0</td>\n",
       "      <td>0</td>\n",
       "      <td>26.5500</td>\n",
       "      <td>1</td>\n",
       "      <td>0</td>\n",
       "      <td>95</td>\n",
       "      <td>38</td>\n",
       "      <td>49</td>\n",
       "      <td>2</td>\n",
       "      <td>1</td>\n",
       "    </tr>\n",
       "    <tr>\n",
       "      <th>16</th>\n",
       "      <td>0</td>\n",
       "      <td>3</td>\n",
       "      <td>2.000000</td>\n",
       "      <td>4</td>\n",
       "      <td>1</td>\n",
       "      <td>29.1250</td>\n",
       "      <td>0</td>\n",
       "      <td>1</td>\n",
       "      <td>682</td>\n",
       "      <td>480</td>\n",
       "      <td>147</td>\n",
       "      <td>1</td>\n",
       "      <td>1</td>\n",
       "    </tr>\n",
       "    <tr>\n",
       "      <th>27</th>\n",
       "      <td>0</td>\n",
       "      <td>1</td>\n",
       "      <td>19.000000</td>\n",
       "      <td>3</td>\n",
       "      <td>2</td>\n",
       "      <td>263.0000</td>\n",
       "      <td>0</td>\n",
       "      <td>1</td>\n",
       "      <td>260</td>\n",
       "      <td>95</td>\n",
       "      <td>63</td>\n",
       "      <td>2</td>\n",
       "      <td>1</td>\n",
       "    </tr>\n",
       "    <tr>\n",
       "      <th>31</th>\n",
       "      <td>1</td>\n",
       "      <td>1</td>\n",
       "      <td>29.699118</td>\n",
       "      <td>1</td>\n",
       "      <td>0</td>\n",
       "      <td>146.5208</td>\n",
       "      <td>1</td>\n",
       "      <td>0</td>\n",
       "      <td>776</td>\n",
       "      <td>586</td>\n",
       "      <td>41</td>\n",
       "      <td>0</td>\n",
       "      <td>1</td>\n",
       "    </tr>\n",
       "    <tr>\n",
       "      <th>...</th>\n",
       "      <td>...</td>\n",
       "      <td>...</td>\n",
       "      <td>...</td>\n",
       "      <td>...</td>\n",
       "      <td>...</td>\n",
       "      <td>...</td>\n",
       "      <td>...</td>\n",
       "      <td>...</td>\n",
       "      <td>...</td>\n",
       "      <td>...</td>\n",
       "      <td>...</td>\n",
       "      <td>...</td>\n",
       "      <td>...</td>\n",
       "    </tr>\n",
       "    <tr>\n",
       "      <th>827</th>\n",
       "      <td>1</td>\n",
       "      <td>2</td>\n",
       "      <td>1.000000</td>\n",
       "      <td>0</td>\n",
       "      <td>2</td>\n",
       "      <td>37.0042</td>\n",
       "      <td>0</td>\n",
       "      <td>1</td>\n",
       "      <td>503</td>\n",
       "      <td>618</td>\n",
       "      <td>147</td>\n",
       "      <td>0</td>\n",
       "      <td>1</td>\n",
       "    </tr>\n",
       "    <tr>\n",
       "      <th>829</th>\n",
       "      <td>1</td>\n",
       "      <td>1</td>\n",
       "      <td>62.000000</td>\n",
       "      <td>0</td>\n",
       "      <td>0</td>\n",
       "      <td>80.0000</td>\n",
       "      <td>1</td>\n",
       "      <td>0</td>\n",
       "      <td>785</td>\n",
       "      <td>32</td>\n",
       "      <td>21</td>\n",
       "      <td>3</td>\n",
       "      <td>1</td>\n",
       "    </tr>\n",
       "    <tr>\n",
       "      <th>846</th>\n",
       "      <td>0</td>\n",
       "      <td>3</td>\n",
       "      <td>29.699118</td>\n",
       "      <td>8</td>\n",
       "      <td>2</td>\n",
       "      <td>69.5500</td>\n",
       "      <td>0</td>\n",
       "      <td>1</td>\n",
       "      <td>720</td>\n",
       "      <td>568</td>\n",
       "      <td>147</td>\n",
       "      <td>2</td>\n",
       "      <td>1</td>\n",
       "    </tr>\n",
       "    <tr>\n",
       "      <th>850</th>\n",
       "      <td>0</td>\n",
       "      <td>3</td>\n",
       "      <td>4.000000</td>\n",
       "      <td>4</td>\n",
       "      <td>2</td>\n",
       "      <td>31.2750</td>\n",
       "      <td>0</td>\n",
       "      <td>1</td>\n",
       "      <td>22</td>\n",
       "      <td>333</td>\n",
       "      <td>147</td>\n",
       "      <td>2</td>\n",
       "      <td>1</td>\n",
       "    </tr>\n",
       "    <tr>\n",
       "      <th>863</th>\n",
       "      <td>0</td>\n",
       "      <td>3</td>\n",
       "      <td>29.699118</td>\n",
       "      <td>8</td>\n",
       "      <td>2</td>\n",
       "      <td>69.5500</td>\n",
       "      <td>1</td>\n",
       "      <td>0</td>\n",
       "      <td>718</td>\n",
       "      <td>568</td>\n",
       "      <td>147</td>\n",
       "      <td>2</td>\n",
       "      <td>1</td>\n",
       "    </tr>\n",
       "  </tbody>\n",
       "</table>\n",
       "<p>76 rows × 13 columns</p>\n",
       "</div>"
      ],
      "text/plain": [
       "     Survived  Pclass        Age  SibSp  Parch      Fare  Sex_female  \\\n",
       "7           0       3   2.000000      3      1   21.0750           0   \n",
       "11          1       1  58.000000      0      0   26.5500           1   \n",
       "16          0       3   2.000000      4      1   29.1250           0   \n",
       "27          0       1  19.000000      3      2  263.0000           0   \n",
       "31          1       1  29.699118      1      0  146.5208           1   \n",
       "..        ...     ...        ...    ...    ...       ...         ...   \n",
       "827         1       2   1.000000      0      2   37.0042           0   \n",
       "829         1       1  62.000000      0      0   80.0000           1   \n",
       "846         0       3  29.699118      8      2   69.5500           0   \n",
       "850         0       3   4.000000      4      2   31.2750           0   \n",
       "863         0       3  29.699118      8      2   69.5500           1   \n",
       "\n",
       "     Sex_male  Name_code  Ticket_code  Cabin_code  Embarked_code  StdOutlier  \n",
       "7           1        624          395         147              2           1  \n",
       "11          0         95           38          49              2           1  \n",
       "16          1        682          480         147              1           1  \n",
       "27          1        260           95          63              2           1  \n",
       "31          0        776          586          41              0           1  \n",
       "..        ...        ...          ...         ...            ...         ...  \n",
       "827         1        503          618         147              0           1  \n",
       "829         0        785           32          21              3           1  \n",
       "846         1        720          568         147              2           1  \n",
       "850         1         22          333         147              2           1  \n",
       "863         0        718          568         147              2           1  \n",
       "\n",
       "[76 rows x 13 columns]"
      ]
     },
     "execution_count": 53,
     "metadata": {},
     "output_type": "execute_result"
    }
   ],
   "source": [
    "# Display rows with standard deviation outliers\n",
    "dataNumericOutlier[dataNumericOutlier['StdOutlier'] == 1]\n"
   ]
  },
  {
   "cell_type": "markdown",
   "metadata": {},
   "source": [
    "### Explore Description of KNN Outliers\n",
    "\n",
    "Execute the cell below to view the descriptive statistics of the rows identified as KNN outliers.\n"
   ]
  },
  {
   "cell_type": "code",
   "execution_count": 54,
   "metadata": {
    "scrolled": true
   },
   "outputs": [
    {
     "data": {
      "text/html": [
       "<div>\n",
       "<style scoped>\n",
       "    .dataframe tbody tr th:only-of-type {\n",
       "        vertical-align: middle;\n",
       "    }\n",
       "\n",
       "    .dataframe tbody tr th {\n",
       "        vertical-align: top;\n",
       "    }\n",
       "\n",
       "    .dataframe thead th {\n",
       "        text-align: right;\n",
       "    }\n",
       "</style>\n",
       "<table border=\"1\" class=\"dataframe\">\n",
       "  <thead>\n",
       "    <tr style=\"text-align: right;\">\n",
       "      <th></th>\n",
       "      <th>count</th>\n",
       "      <th>mean</th>\n",
       "      <th>std</th>\n",
       "      <th>min</th>\n",
       "      <th>25%</th>\n",
       "      <th>50%</th>\n",
       "      <th>75%</th>\n",
       "      <th>max</th>\n",
       "    </tr>\n",
       "  </thead>\n",
       "  <tbody>\n",
       "    <tr>\n",
       "      <th>Survived</th>\n",
       "      <td>67.0</td>\n",
       "      <td>0.656716</td>\n",
       "      <td>0.478389</td>\n",
       "      <td>0.00</td>\n",
       "      <td>0.0000</td>\n",
       "      <td>1.0</td>\n",
       "      <td>1.00000</td>\n",
       "      <td>1.0000</td>\n",
       "    </tr>\n",
       "    <tr>\n",
       "      <th>Pclass</th>\n",
       "      <td>67.0</td>\n",
       "      <td>1.000000</td>\n",
       "      <td>0.000000</td>\n",
       "      <td>1.00</td>\n",
       "      <td>1.0000</td>\n",
       "      <td>1.0</td>\n",
       "      <td>1.00000</td>\n",
       "      <td>1.0000</td>\n",
       "    </tr>\n",
       "    <tr>\n",
       "      <th>Age</th>\n",
       "      <td>67.0</td>\n",
       "      <td>34.037507</td>\n",
       "      <td>15.939361</td>\n",
       "      <td>0.92</td>\n",
       "      <td>23.5000</td>\n",
       "      <td>31.0</td>\n",
       "      <td>42.50000</td>\n",
       "      <td>80.0000</td>\n",
       "    </tr>\n",
       "    <tr>\n",
       "      <th>SibSp</th>\n",
       "      <td>67.0</td>\n",
       "      <td>0.522388</td>\n",
       "      <td>0.785440</td>\n",
       "      <td>0.00</td>\n",
       "      <td>0.0000</td>\n",
       "      <td>0.0</td>\n",
       "      <td>1.00000</td>\n",
       "      <td>3.0000</td>\n",
       "    </tr>\n",
       "    <tr>\n",
       "      <th>Parch</th>\n",
       "      <td>67.0</td>\n",
       "      <td>0.656716</td>\n",
       "      <td>0.913738</td>\n",
       "      <td>0.00</td>\n",
       "      <td>0.0000</td>\n",
       "      <td>0.0</td>\n",
       "      <td>1.00000</td>\n",
       "      <td>4.0000</td>\n",
       "    </tr>\n",
       "    <tr>\n",
       "      <th>Fare</th>\n",
       "      <td>67.0</td>\n",
       "      <td>150.954415</td>\n",
       "      <td>107.660277</td>\n",
       "      <td>0.00</td>\n",
       "      <td>77.7771</td>\n",
       "      <td>134.5</td>\n",
       "      <td>211.41875</td>\n",
       "      <td>512.3292</td>\n",
       "    </tr>\n",
       "    <tr>\n",
       "      <th>Sex_female</th>\n",
       "      <td>67.0</td>\n",
       "      <td>0.582090</td>\n",
       "      <td>0.496938</td>\n",
       "      <td>0.00</td>\n",
       "      <td>0.0000</td>\n",
       "      <td>1.0</td>\n",
       "      <td>1.00000</td>\n",
       "      <td>1.0000</td>\n",
       "    </tr>\n",
       "    <tr>\n",
       "      <th>Sex_male</th>\n",
       "      <td>67.0</td>\n",
       "      <td>0.417910</td>\n",
       "      <td>0.496938</td>\n",
       "      <td>0.00</td>\n",
       "      <td>0.0000</td>\n",
       "      <td>0.0</td>\n",
       "      <td>1.00000</td>\n",
       "      <td>1.0000</td>\n",
       "    </tr>\n",
       "    <tr>\n",
       "      <th>Name_code</th>\n",
       "      <td>67.0</td>\n",
       "      <td>419.611940</td>\n",
       "      <td>290.486737</td>\n",
       "      <td>14.00</td>\n",
       "      <td>175.5000</td>\n",
       "      <td>305.0</td>\n",
       "      <td>695.00000</td>\n",
       "      <td>877.0000</td>\n",
       "    </tr>\n",
       "    <tr>\n",
       "      <th>Ticket_code</th>\n",
       "      <td>67.0</td>\n",
       "      <td>402.955224</td>\n",
       "      <td>238.814904</td>\n",
       "      <td>0.00</td>\n",
       "      <td>118.0000</td>\n",
       "      <td>502.0</td>\n",
       "      <td>604.50000</td>\n",
       "      <td>680.0000</td>\n",
       "    </tr>\n",
       "    <tr>\n",
       "      <th>Cabin_code</th>\n",
       "      <td>67.0</td>\n",
       "      <td>70.089552</td>\n",
       "      <td>44.849152</td>\n",
       "      <td>1.00</td>\n",
       "      <td>34.5000</td>\n",
       "      <td>63.0</td>\n",
       "      <td>98.00000</td>\n",
       "      <td>147.0000</td>\n",
       "    </tr>\n",
       "    <tr>\n",
       "      <th>Embarked_code</th>\n",
       "      <td>67.0</td>\n",
       "      <td>1.044776</td>\n",
       "      <td>1.006537</td>\n",
       "      <td>0.00</td>\n",
       "      <td>0.0000</td>\n",
       "      <td>2.0</td>\n",
       "      <td>2.00000</td>\n",
       "      <td>2.0000</td>\n",
       "    </tr>\n",
       "    <tr>\n",
       "      <th>KnnOutlier</th>\n",
       "      <td>67.0</td>\n",
       "      <td>1.000000</td>\n",
       "      <td>0.000000</td>\n",
       "      <td>1.00</td>\n",
       "      <td>1.0000</td>\n",
       "      <td>1.0</td>\n",
       "      <td>1.00000</td>\n",
       "      <td>1.0000</td>\n",
       "    </tr>\n",
       "  </tbody>\n",
       "</table>\n",
       "</div>"
      ],
      "text/plain": [
       "               count        mean         std    min       25%    50%  \\\n",
       "Survived        67.0    0.656716    0.478389   0.00    0.0000    1.0   \n",
       "Pclass          67.0    1.000000    0.000000   1.00    1.0000    1.0   \n",
       "Age             67.0   34.037507   15.939361   0.92   23.5000   31.0   \n",
       "SibSp           67.0    0.522388    0.785440   0.00    0.0000    0.0   \n",
       "Parch           67.0    0.656716    0.913738   0.00    0.0000    0.0   \n",
       "Fare            67.0  150.954415  107.660277   0.00   77.7771  134.5   \n",
       "Sex_female      67.0    0.582090    0.496938   0.00    0.0000    1.0   \n",
       "Sex_male        67.0    0.417910    0.496938   0.00    0.0000    0.0   \n",
       "Name_code       67.0  419.611940  290.486737  14.00  175.5000  305.0   \n",
       "Ticket_code     67.0  402.955224  238.814904   0.00  118.0000  502.0   \n",
       "Cabin_code      67.0   70.089552   44.849152   1.00   34.5000   63.0   \n",
       "Embarked_code   67.0    1.044776    1.006537   0.00    0.0000    2.0   \n",
       "KnnOutlier      67.0    1.000000    0.000000   1.00    1.0000    1.0   \n",
       "\n",
       "                     75%       max  \n",
       "Survived         1.00000    1.0000  \n",
       "Pclass           1.00000    1.0000  \n",
       "Age             42.50000   80.0000  \n",
       "SibSp            1.00000    3.0000  \n",
       "Parch            1.00000    4.0000  \n",
       "Fare           211.41875  512.3292  \n",
       "Sex_female       1.00000    1.0000  \n",
       "Sex_male         1.00000    1.0000  \n",
       "Name_code      695.00000  877.0000  \n",
       "Ticket_code    604.50000  680.0000  \n",
       "Cabin_code      98.00000  147.0000  \n",
       "Embarked_code    2.00000    2.0000  \n",
       "KnnOutlier       1.00000    1.0000  "
      ]
     },
     "execution_count": 54,
     "metadata": {},
     "output_type": "execute_result"
    }
   ],
   "source": [
    "# Display description of KNN outliers\n",
    "dataKnn[dataKnn['KnnOutlier'] == 1].describe().transpose()\n"
   ]
  },
  {
   "cell_type": "markdown",
   "metadata": {},
   "source": [
    "### Drop/Replace/Keep Outliers\n",
    "\n",
    "If you have identified outliers in your dataset, you can choose to drop, replace, or keep them.\n",
    "\n",
    "<h3><font color=\"red\">↓↓↓ Execute the cell below and choose how to handle outliers ↓↓↓</font></h3>\n"
   ]
  },
  {
   "cell_type": "code",
   "execution_count": 55,
   "metadata": {},
   "outputs": [
    {
     "data": {
      "application/vnd.jupyter.widget-view+json": {
       "model_id": "962df4dce73d4ed8b6d56c7fdb63c6ea",
       "version_major": 2,
       "version_minor": 0
      },
      "text/plain": [
       "ToggleButtons(button_style='info', description='Action:', options=('Keep', 'Drop'), value='Keep')"
      ]
     },
     "metadata": {},
     "output_type": "display_data"
    },
    {
     "data": {
      "application/vnd.jupyter.widget-view+json": {
       "model_id": "cd71733338a348719ecd0e99544004a6",
       "version_major": 2,
       "version_minor": 0
      },
      "text/plain": [
       "ToggleButtons(button_style='success', description='For:', options=('All', 'Knn', 'Std'), value='All')"
      ]
     },
     "metadata": {},
     "output_type": "display_data"
    }
   ],
   "source": [
    "# Display widgets to choose how to handle outliers\n",
    "if len(data[data['StdOutlier'] == 1]) > 0 or len(data[data['KnnOutlier'] == 1]) > 0:\n",
    "    OUTLIER_ACTION = widgets.ToggleButtons(\n",
    "        options=['Keep', 'Drop'],\n",
    "        description='Action:',\n",
    "        disabled=False,\n",
    "        button_style='info',  # 'success', 'info', 'warning', 'danger' or ''\n",
    "        value='Keep'\n",
    "    )\n",
    "\n",
    "    DETAIL_ACTION = widgets.ToggleButtons(\n",
    "        options=['All', 'Knn', 'Std'],\n",
    "        description='For:',\n",
    "        disabled=False,\n",
    "        button_style='success',  # 'success', 'info', 'warning', 'danger' or ''\n",
    "        value='All'\n",
    "    )\n",
    "    display(OUTLIER_ACTION)\n",
    "    display(DETAIL_ACTION)\n",
    "else:\n",
    "    print('[INFO] There are no outliers in your dataset.')\n"
   ]
  },
  {
   "cell_type": "markdown",
   "metadata": {},
   "source": [
    "### Apply Outlier Handling Action\n",
    "\n",
    "Execute the cell below to apply the chosen action for handling outliers.\n"
   ]
  },
  {
   "cell_type": "code",
   "execution_count": 56,
   "metadata": {
    "tags": []
   },
   "outputs": [
    {
     "name": "stdout",
     "output_type": "stream",
     "text": [
      "['KNN outliers were dropped.']\n"
     ]
    }
   ],
   "source": [
    "# Function to handle outliers based on selected action\n",
    "def solveOutliers(data, outlier_action_value, outlier_action_type):\n",
    "    messageOut = []\n",
    "    \n",
    "    if outlier_action_value == 'Keep':\n",
    "        messageOut.append('All outliers were kept in the dataset.')\n",
    "\n",
    "    elif outlier_action_value == 'Drop':\n",
    "        if outlier_action_type == 'All':\n",
    "            data = data[(data['StdOutlier'] == 0) & (data['KnnOutlier'] == 0)]\n",
    "            messageOut.append('All outliers were dropped.')\n",
    "            \n",
    "        elif outlier_action_type == 'Knn':\n",
    "            data = data[data['KnnOutlier'] == 0]\n",
    "            messageOut.append('KNN outliers were dropped.')\n",
    "            \n",
    "        elif outlier_action_type == 'Std':\n",
    "            data = data[data['StdOutlier'] == 0]\n",
    "            messageOut.append('STD outliers were dropped.')   \n",
    "    \n",
    "    print(messageOut)\n",
    "    return data\n",
    "\n",
    "# Apply the chosen action for handling outliers\n",
    "if len(data[data['StdOutlier'] == 1]) > 0 or len(data[data['KnnOutlier'] == 1]) > 0:\n",
    "    outlier_action_value = OUTLIER_ACTION.value\n",
    "    outlier_action_type = DETAIL_ACTION.value\n",
    "    data = solveOutliers(data, outlier_action_value, outlier_action_type)\n"
   ]
  },
  {
   "cell_type": "code",
   "execution_count": 58,
   "metadata": {
    "tags": []
   },
   "outputs": [
    {
     "data": {
      "text/html": [
       "<div>\n",
       "<style scoped>\n",
       "    .dataframe tbody tr th:only-of-type {\n",
       "        vertical-align: middle;\n",
       "    }\n",
       "\n",
       "    .dataframe tbody tr th {\n",
       "        vertical-align: top;\n",
       "    }\n",
       "\n",
       "    .dataframe thead th {\n",
       "        text-align: right;\n",
       "    }\n",
       "</style>\n",
       "<table border=\"1\" class=\"dataframe\">\n",
       "  <thead>\n",
       "    <tr style=\"text-align: right;\">\n",
       "      <th></th>\n",
       "      <th>Survived</th>\n",
       "      <th>Pclass</th>\n",
       "      <th>Age</th>\n",
       "      <th>SibSp</th>\n",
       "      <th>Parch</th>\n",
       "      <th>Fare</th>\n",
       "      <th>Sex_female</th>\n",
       "      <th>Sex_male</th>\n",
       "      <th>Name_code</th>\n",
       "      <th>Ticket_code</th>\n",
       "      <th>Cabin_code</th>\n",
       "      <th>Embarked_code</th>\n",
       "      <th>StdOutlier</th>\n",
       "      <th>KnnOutlier</th>\n",
       "    </tr>\n",
       "  </thead>\n",
       "  <tbody>\n",
       "    <tr>\n",
       "      <th>0</th>\n",
       "      <td>0</td>\n",
       "      <td>3</td>\n",
       "      <td>22.0</td>\n",
       "      <td>1</td>\n",
       "      <td>0</td>\n",
       "      <td>7.2500</td>\n",
       "      <td>0</td>\n",
       "      <td>1</td>\n",
       "      <td>108</td>\n",
       "      <td>523</td>\n",
       "      <td>147</td>\n",
       "      <td>2</td>\n",
       "      <td>0</td>\n",
       "      <td>0</td>\n",
       "    </tr>\n",
       "    <tr>\n",
       "      <th>1</th>\n",
       "      <td>1</td>\n",
       "      <td>1</td>\n",
       "      <td>38.0</td>\n",
       "      <td>1</td>\n",
       "      <td>0</td>\n",
       "      <td>71.2833</td>\n",
       "      <td>1</td>\n",
       "      <td>0</td>\n",
       "      <td>190</td>\n",
       "      <td>596</td>\n",
       "      <td>81</td>\n",
       "      <td>0</td>\n",
       "      <td>0</td>\n",
       "      <td>0</td>\n",
       "    </tr>\n",
       "    <tr>\n",
       "      <th>2</th>\n",
       "      <td>1</td>\n",
       "      <td>3</td>\n",
       "      <td>26.0</td>\n",
       "      <td>0</td>\n",
       "      <td>0</td>\n",
       "      <td>7.9250</td>\n",
       "      <td>1</td>\n",
       "      <td>0</td>\n",
       "      <td>353</td>\n",
       "      <td>669</td>\n",
       "      <td>147</td>\n",
       "      <td>2</td>\n",
       "      <td>0</td>\n",
       "      <td>0</td>\n",
       "    </tr>\n",
       "    <tr>\n",
       "      <th>3</th>\n",
       "      <td>1</td>\n",
       "      <td>1</td>\n",
       "      <td>35.0</td>\n",
       "      <td>1</td>\n",
       "      <td>0</td>\n",
       "      <td>53.1000</td>\n",
       "      <td>1</td>\n",
       "      <td>0</td>\n",
       "      <td>272</td>\n",
       "      <td>49</td>\n",
       "      <td>55</td>\n",
       "      <td>2</td>\n",
       "      <td>0</td>\n",
       "      <td>0</td>\n",
       "    </tr>\n",
       "    <tr>\n",
       "      <th>4</th>\n",
       "      <td>0</td>\n",
       "      <td>3</td>\n",
       "      <td>35.0</td>\n",
       "      <td>0</td>\n",
       "      <td>0</td>\n",
       "      <td>8.0500</td>\n",
       "      <td>0</td>\n",
       "      <td>1</td>\n",
       "      <td>15</td>\n",
       "      <td>472</td>\n",
       "      <td>147</td>\n",
       "      <td>2</td>\n",
       "      <td>0</td>\n",
       "      <td>0</td>\n",
       "    </tr>\n",
       "  </tbody>\n",
       "</table>\n",
       "</div>"
      ],
      "text/plain": [
       "   Survived  Pclass   Age  SibSp  Parch     Fare  Sex_female  Sex_male  \\\n",
       "0         0       3  22.0      1      0   7.2500           0         1   \n",
       "1         1       1  38.0      1      0  71.2833           1         0   \n",
       "2         1       3  26.0      0      0   7.9250           1         0   \n",
       "3         1       1  35.0      1      0  53.1000           1         0   \n",
       "4         0       3  35.0      0      0   8.0500           0         1   \n",
       "\n",
       "   Name_code  Ticket_code  Cabin_code  Embarked_code  StdOutlier  KnnOutlier  \n",
       "0        108          523         147              2           0           0  \n",
       "1        190          596          81              0           0           0  \n",
       "2        353          669         147              2           0           0  \n",
       "3        272           49          55              2           0           0  \n",
       "4         15          472         147              2           0           0  "
      ]
     },
     "metadata": {},
     "output_type": "display_data"
    }
   ],
   "source": [
    "display(data.head())"
   ]
  },
  {
   "cell_type": "markdown",
   "metadata": {
    "jp-MarkdownHeadingCollapsed": true,
    "tags": []
   },
   "source": [
    "---\n",
    "## Export transformed data-set"
   ]
  },
  {
   "cell_type": "code",
   "execution_count": 59,
   "metadata": {},
   "outputs": [
    {
     "name": "stdout",
     "output_type": "stream",
     "text": [
      "Transformed dataset was loaded to the root folder of this workspace...\n",
      "Transformed dataset was loaded to the root folder of this workspace...\n"
     ]
    }
   ],
   "source": [
    "try:\n",
    "    data.drop('StdOutlier', axis=1, inplace=True)\n",
    "except:\n",
    "    pass\n",
    "try:\n",
    "    data.drop('KnnOutlier', axis=1, inplace=True)\n",
    "except:\n",
    "    pass\n",
    "\n",
    "data.to_csv('/data/data_transformed.csv', index=False)\n",
    "logging.info('Transformed dataset was loaded to the root folder of this workspace...')"
   ]
  }
 ],
 "metadata": {
  "kernelspec": {
   "display_name": "Python3",
   "language": "python",
   "name": "python3"
  },
  "language_info": {
   "codemirror_mode": {
    "name": "ipython",
    "version": 3
   },
   "file_extension": ".py",
   "mimetype": "text/x-python",
   "name": "python",
   "nbconvert_exporter": "python",
   "pygments_lexer": "ipython3",
   "version": "3.10.10"
  }
 },
 "nbformat": 4,
 "nbformat_minor": 4
}
