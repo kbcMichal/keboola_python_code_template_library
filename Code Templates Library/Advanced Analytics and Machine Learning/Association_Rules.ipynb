{
 "cells": [
  {
   "cell_type": "markdown",
   "id": "6173e0a1-daef-4fbc-b7be-f6c8638f742e",
   "metadata": {},
   "source": [
    "# Association Rule Mining with mlxtend\n",
    "\n",
    "## Introduction\n",
    "\n",
    "Association rule mining is a powerful technique for discovering interesting relationships, patterns, and associations among a set of items in large datasets. It is widely used in market basket analysis, recommendation systems, and various fields where understanding the co-occurrence of items is valuable.\n",
    "\n",
    "### What is mlxtend?\n",
    "\n",
    "`mlxtend` (Machine Learning Extensions) is a Python library that provides a range of tools and extensions for data science and machine learning. Among its many features, `mlxtend` includes robust implementations for frequent itemset generation and association rule mining.\n",
    "\n",
    "### Key Concepts in Association Rule Mining:\n",
    "\n",
    "- **Frequent Itemsets**: Sets of items that appear together in a dataset with a frequency above a specified threshold.\n",
    "- **Support**: The proportion of transactions in the dataset that contain a particular itemset.\n",
    "- **Confidence**: The likelihood that a rule's consequent is present in transactions that contain the rule's antecedent.\n",
    "- **Lift**: The ratio of the observed support to the expected support if the items were independent.\n",
    "\n",
    "### Why Use Association Rule Mining?\n",
    "\n",
    "- **Market Basket Analysis**: Understand which products are often bought together to optimize product placement, promotions, and inventory management.\n",
    "- **Recommendation Systems**: Suggest items to users based on their past behaviors and the behaviors of similar users.\n",
    "- **Anomaly Detection**: Identify unusual patterns or associations that could indicate errors, fraud, or other significant events.\n"
   ]
  },
  {
   "cell_type": "markdown",
   "id": "fbd2d1d0-5698-4d29-a3f3-ee989c519bcd",
   "metadata": {
    "jp-MarkdownHeadingCollapsed": true,
    "tags": []
   },
   "source": [
    "---\n",
    "\n",
    "# 1. Setup and Installation\n",
    "First, ensure you have the necessary libraries installed. You'll need `dowhy`, and `causalnex`.\n"
   ]
  },
  {
   "cell_type": "code",
   "execution_count": 12,
   "id": "fee5f43b-94d2-4ad7-9ef2-6862a2606342",
   "metadata": {
    "tags": []
   },
   "outputs": [
    {
     "name": "stdout",
     "output_type": "stream",
     "text": [
      "Defaulting to user installation because normal site-packages is not writeable\n",
      "Requirement already satisfied: mlxtend in /home/jupyter/.local/lib/python3.10/site-packages (0.23.1)\n",
      "Requirement already satisfied: scikit-learn>=1.0.2 in /home/jupyter/.local/lib/python3.10/site-packages (from mlxtend) (1.5.0)\n",
      "Requirement already satisfied: pandas>=0.24.2 in /usr/local/lib/python3.10/site-packages (from mlxtend) (2.1.4)\n",
      "Requirement already satisfied: matplotlib>=3.0.0 in /usr/local/lib/python3.10/site-packages (from mlxtend) (3.8.2)\n",
      "Requirement already satisfied: numpy>=1.16.2 in /usr/local/lib/python3.10/site-packages (from mlxtend) (1.26.3)\n",
      "Requirement already satisfied: joblib>=0.13.2 in /home/jupyter/.local/lib/python3.10/site-packages (from mlxtend) (1.4.2)\n",
      "Requirement already satisfied: scipy>=1.2.1 in /home/jupyter/.local/lib/python3.10/site-packages (from mlxtend) (1.13.1)\n",
      "Requirement already satisfied: kiwisolver>=1.3.1 in /usr/local/lib/python3.10/site-packages (from matplotlib>=3.0.0->mlxtend) (1.4.5)\n",
      "Requirement already satisfied: packaging>=20.0 in /usr/local/lib/python3.10/site-packages (from matplotlib>=3.0.0->mlxtend) (23.2)\n",
      "Requirement already satisfied: contourpy>=1.0.1 in /usr/local/lib/python3.10/site-packages (from matplotlib>=3.0.0->mlxtend) (1.2.0)\n",
      "Requirement already satisfied: cycler>=0.10 in /usr/local/lib/python3.10/site-packages (from matplotlib>=3.0.0->mlxtend) (0.12.1)\n",
      "Requirement already satisfied: fonttools>=4.22.0 in /usr/local/lib/python3.10/site-packages (from matplotlib>=3.0.0->mlxtend) (4.47.0)\n",
      "Requirement already satisfied: pyparsing>=2.3.1 in /usr/local/lib/python3.10/site-packages (from matplotlib>=3.0.0->mlxtend) (3.1.1)\n",
      "Requirement already satisfied: python-dateutil>=2.7 in /usr/local/lib/python3.10/site-packages (from matplotlib>=3.0.0->mlxtend) (2.8.2)\n",
      "Requirement already satisfied: pillow>=8 in /usr/local/lib/python3.10/site-packages (from matplotlib>=3.0.0->mlxtend) (10.2.0)\n",
      "Requirement already satisfied: pytz>=2020.1 in /usr/local/lib/python3.10/site-packages (from pandas>=0.24.2->mlxtend) (2023.3.post1)\n",
      "Requirement already satisfied: tzdata>=2022.1 in /usr/local/lib/python3.10/site-packages (from pandas>=0.24.2->mlxtend) (2023.4)\n",
      "Requirement already satisfied: threadpoolctl>=3.1.0 in /home/jupyter/.local/lib/python3.10/site-packages (from scikit-learn>=1.0.2->mlxtend) (3.5.0)\n",
      "Requirement already satisfied: six>=1.5 in /usr/local/lib/python3.10/site-packages (from python-dateutil>=2.7->matplotlib>=3.0.0->mlxtend) (1.16.0)\n",
      "\n",
      "\u001b[1m[\u001b[0m\u001b[34;49mnotice\u001b[0m\u001b[1;39;49m]\u001b[0m\u001b[39;49m A new release of pip available: \u001b[0m\u001b[31;49m22.3.1\u001b[0m\u001b[39;49m -> \u001b[0m\u001b[32;49m24.0\u001b[0m\n",
      "\u001b[1m[\u001b[0m\u001b[34;49mnotice\u001b[0m\u001b[1;39;49m]\u001b[0m\u001b[39;49m To update, run: \u001b[0m\u001b[32;49mpip install --upgrade pip\u001b[0m\n",
      "Defaulting to user installation because normal site-packages is not writeable\n",
      "Collecting openpyxl\n",
      "  Downloading openpyxl-3.1.3-py2.py3-none-any.whl (251 kB)\n",
      "\u001b[2K     \u001b[90m━━━━━━━━━━━━━━━━━━━━━━━━━━━━━━━━━━━━━━━\u001b[0m \u001b[32m251.3/251.3 kB\u001b[0m \u001b[31m6.7 MB/s\u001b[0m eta \u001b[36m0:00:00\u001b[0m00:01\u001b[0m\n",
      "\u001b[?25hCollecting et-xmlfile\n",
      "  Downloading et_xmlfile-1.1.0-py3-none-any.whl (4.7 kB)\n",
      "Installing collected packages: et-xmlfile, openpyxl\n",
      "Successfully installed et-xmlfile-1.1.0 openpyxl-3.1.3\n",
      "\n",
      "\u001b[1m[\u001b[0m\u001b[34;49mnotice\u001b[0m\u001b[1;39;49m]\u001b[0m\u001b[39;49m A new release of pip available: \u001b[0m\u001b[31;49m22.3.1\u001b[0m\u001b[39;49m -> \u001b[0m\u001b[32;49m24.0\u001b[0m\n",
      "\u001b[1m[\u001b[0m\u001b[34;49mnotice\u001b[0m\u001b[1;39;49m]\u001b[0m\u001b[39;49m To update, run: \u001b[0m\u001b[32;49mpip install --upgrade pip\u001b[0m\n"
     ]
    }
   ],
   "source": [
    "!pip install mlxtend\n",
    "!pip install openpyxl"
   ]
  },
  {
   "cell_type": "markdown",
   "id": "799fbaf3-b7c0-4069-a769-3f707d318ead",
   "metadata": {},
   "source": [
    "## Import libraries"
   ]
  },
  {
   "cell_type": "code",
   "execution_count": 37,
   "id": "e2ce2b4d-618e-422a-9877-427da6cbd59e",
   "metadata": {
    "tags": []
   },
   "outputs": [],
   "source": [
    "import os\n",
    "import pandas as pd\n",
    "import json\n",
    "import warnings\n",
    "import sys\n",
    "import site\n",
    "import warnings\n",
    "import requests\n",
    "import zipfile\n",
    "import random\n",
    "sys.path.append(site.getusersitepackages())\n",
    "\n",
    "import ipywidgets as widgets\n",
    "from IPython.display import display, clear_output, Markdown\n",
    "from mlxtend.frequent_patterns import apriori, fpgrowth, association_rules\n",
    "from mlxtend.preprocessing import TransactionEncoder\n",
    "from io import BytesIO\n",
    "\n",
    "warnings.filterwarnings(\"ignore\", category=DeprecationWarning)\n"
   ]
  },
  {
   "cell_type": "markdown",
   "id": "f741c262-fd80-4509-9cd2-976ba5e11d2e",
   "metadata": {},
   "source": [
    "---\n",
    "# Load dataset\n",
    "\n",
    "Generate a small dataset:\n",
    "1. Creates 20 unique order IDs.\n",
    "2. Defines a list of 10 items.\n",
    "3. Defines a list of counts (quantities).\n",
    "4. Randomly selects an order ID, item, and count 100 times to create the dataset.\n",
    "\n",
    "Create a DataFrame: Converts the generated data into a pandas DataFrame and displays the first few rows."
   ]
  },
  {
   "cell_type": "code",
   "execution_count": 38,
   "id": "f7ff6e91-900b-4758-b881-b7c1cb8f029c",
   "metadata": {
    "tags": []
   },
   "outputs": [
    {
     "data": {
      "text/html": [
       "<div>\n",
       "<style scoped>\n",
       "    .dataframe tbody tr th:only-of-type {\n",
       "        vertical-align: middle;\n",
       "    }\n",
       "\n",
       "    .dataframe tbody tr th {\n",
       "        vertical-align: top;\n",
       "    }\n",
       "\n",
       "    .dataframe thead th {\n",
       "        text-align: right;\n",
       "    }\n",
       "</style>\n",
       "<table border=\"1\" class=\"dataframe\">\n",
       "  <thead>\n",
       "    <tr style=\"text-align: right;\">\n",
       "      <th></th>\n",
       "      <th>OrderID</th>\n",
       "      <th>Item</th>\n",
       "      <th>Count</th>\n",
       "    </tr>\n",
       "  </thead>\n",
       "  <tbody>\n",
       "    <tr>\n",
       "      <th>0</th>\n",
       "      <td>Order008</td>\n",
       "      <td>Apples</td>\n",
       "      <td>4</td>\n",
       "    </tr>\n",
       "    <tr>\n",
       "      <th>1</th>\n",
       "      <td>Order003</td>\n",
       "      <td>Milk</td>\n",
       "      <td>3</td>\n",
       "    </tr>\n",
       "    <tr>\n",
       "      <th>2</th>\n",
       "      <td>Order010</td>\n",
       "      <td>Bananas</td>\n",
       "      <td>5</td>\n",
       "    </tr>\n",
       "    <tr>\n",
       "      <th>3</th>\n",
       "      <td>Order007</td>\n",
       "      <td>Eggs</td>\n",
       "      <td>4</td>\n",
       "    </tr>\n",
       "    <tr>\n",
       "      <th>4</th>\n",
       "      <td>Order008</td>\n",
       "      <td>Milk</td>\n",
       "      <td>2</td>\n",
       "    </tr>\n",
       "  </tbody>\n",
       "</table>\n",
       "</div>"
      ],
      "text/plain": [
       "    OrderID     Item  Count\n",
       "0  Order008   Apples      4\n",
       "1  Order003     Milk      3\n",
       "2  Order010  Bananas      5\n",
       "3  Order007     Eggs      4\n",
       "4  Order008     Milk      2"
      ]
     },
     "execution_count": 38,
     "metadata": {},
     "output_type": "execute_result"
    }
   ],
   "source": [
    "# Generate a small dataset with 100 rows\n",
    "order_ids = [f'Order{str(i).zfill(3)}' for i in range(1, 21)]  # 20 unique orders\n",
    "items = ['Milk', 'Bread', 'Butter', 'Eggs', 'Cheese', 'Jam', 'Juice', 'Apples', 'Bananas', 'Chicken']\n",
    "counts = [1, 2, 3, 4, 5]\n",
    "\n",
    "data = []\n",
    "\n",
    "for _ in range(100):\n",
    "    order_id = random.choice(order_ids)\n",
    "    item = random.choice(items)\n",
    "    count = random.choice(counts)\n",
    "    data.append([order_id, item, count])\n",
    "\n",
    "# Create a DataFrame\n",
    "df = pd.DataFrame(data, columns=['OrderID', 'Item', 'Count'])\n",
    "\n",
    "# Display the first few rows of the dataset\n",
    "df.head()\n"
   ]
  },
  {
   "cell_type": "markdown",
   "id": "86dc1249-fc2f-4dfb-aa61-ef54a99628a2",
   "metadata": {
    "tags": []
   },
   "source": [
    "---\n",
    "# Association rules using Apriori and FP-Growth algorithms\n",
    "\n",
    "**Steps to Calculate and Display Results**:\n",
    "1. **Transform the Dataset**: The dataset is transformed into a format suitable for association rules mining.\n",
    "2. **Run Apriori Algorithm**: The algorithm identifies frequent itemsets and generates association rules based on the specified minimum support.\n",
    "3. **Run FP-Growth Algorithm**: Similar to Apriori, this algorithm also identifies frequent itemsets and generates association rules.\n",
    "4. **Display Results**:\n",
    "   - **Frequent Itemsets**: A table showing the itemsets and their support values.\n",
    "   - **Association Rules**: A table showing the antecedents, consequents, and various metrics such as support, confidence, and lift.\n",
    "\n",
    "After clicking the \"Calculate\" button, the notebook will:\n",
    "- Transform the dataset.\n",
    "- Run both Apriori and FP-Growth algorithms.\n",
    "- Display the frequent itemsets and association rules along with their metrics.\n",
    "- Provide a summary of the total frequent itemsets and association rules"
   ]
  },
  {
   "cell_type": "code",
   "execution_count": 39,
   "id": "3b7a26e6-9b93-45c0-a6f4-ab8952cf50e7",
   "metadata": {
    "tags": []
   },
   "outputs": [
    {
     "data": {
      "text/markdown": [
       "\n",
       "### Step 1: Select Columns for Grouping and Item Generation\n",
       "\n",
       "- **Transaction Column**: This is typically a unique identifier for each transaction or entity. It could be an order ID, transaction ID, or customer ID.\n",
       "- **Item Column**: The feature you want to analyze for association rules. It could be the product name, item code, etc.\n",
       "\n",
       "Please select the appropriate columns from the dropdowns below:\n"
      ],
      "text/plain": [
       "<IPython.core.display.Markdown object>"
      ]
     },
     "metadata": {},
     "output_type": "display_data"
    },
    {
     "data": {
      "application/vnd.jupyter.widget-view+json": {
       "model_id": "3416a0b2f0894f4c966aa6f7b79e3aa2",
       "version_major": 2,
       "version_minor": 0
      },
      "text/plain": [
       "Dropdown(description='Transaction:', options=('OrderID', 'Item', 'Count'), value=None)"
      ]
     },
     "metadata": {},
     "output_type": "display_data"
    },
    {
     "data": {
      "application/vnd.jupyter.widget-view+json": {
       "model_id": "fe6cf30fa7454363aaf41466fd57b3da",
       "version_major": 2,
       "version_minor": 0
      },
      "text/plain": [
       "Dropdown(description='Item:', options=('OrderID', 'Item', 'Count'), value=None)"
      ]
     },
     "metadata": {},
     "output_type": "display_data"
    },
    {
     "data": {
      "text/markdown": [
       "\n",
       "### Step 2: Enter Minimum Support Value\n",
       "\n",
       "- **Minimum Support**: This value determines the threshold for an itemset to be considered frequent. It is the proportion of transactions that contain the itemset.\n",
       "- Standard values range from 0.1 (10%) to 0.5 (50%) depending on the dataset and the desired granularity of the rules.\n",
       "\n",
       "Please enter the minimum support value:\n"
      ],
      "text/plain": [
       "<IPython.core.display.Markdown object>"
      ]
     },
     "metadata": {},
     "output_type": "display_data"
    },
    {
     "data": {
      "application/vnd.jupyter.widget-view+json": {
       "model_id": "26be7f83bc1b409ab061789e23f61c4c",
       "version_major": 2,
       "version_minor": 0
      },
      "text/plain": [
       "FloatText(value=0.1, description='Min Support:')"
      ]
     },
     "metadata": {},
     "output_type": "display_data"
    },
    {
     "data": {
      "application/vnd.jupyter.widget-view+json": {
       "model_id": "bf394b40e39f417bac875d8e1068f357",
       "version_major": 2,
       "version_minor": 0
      },
      "text/plain": [
       "Button(button_style='info', description='Calculate', style=ButtonStyle())"
      ]
     },
     "metadata": {},
     "output_type": "display_data"
    },
    {
     "data": {
      "application/vnd.jupyter.widget-view+json": {
       "model_id": "851729e72bb34ca0a7400c95f2f13948",
       "version_major": 2,
       "version_minor": 0
      },
      "text/plain": [
       "Output()"
      ]
     },
     "metadata": {},
     "output_type": "display_data"
    },
    {
     "data": {
      "application/vnd.jupyter.widget-view+json": {
       "model_id": "042ded87987c4c26aa3978affa04b3f3",
       "version_major": 2,
       "version_minor": 0
      },
      "text/plain": [
       "Output()"
      ]
     },
     "metadata": {},
     "output_type": "display_data"
    },
    {
     "data": {
      "application/vnd.jupyter.widget-view+json": {
       "model_id": "e79023559181454687e5e798f5f320de",
       "version_major": 2,
       "version_minor": 0
      },
      "text/plain": [
       "Output()"
      ]
     },
     "metadata": {},
     "output_type": "display_data"
    },
    {
     "data": {
      "application/vnd.jupyter.widget-view+json": {
       "model_id": "35b1dd8599ab41b38615fcda435e45ad",
       "version_major": 2,
       "version_minor": 0
      },
      "text/plain": [
       "Output()"
      ]
     },
     "metadata": {},
     "output_type": "display_data"
    }
   ],
   "source": [
    "# Explanation markdowns\n",
    "display(Markdown(\"\"\"\n",
    "### Step 1: Select Columns for Grouping and Item Generation\n",
    "\n",
    "- **Transaction Column**: This is typically a unique identifier for each transaction or entity. It could be an order ID, transaction ID, or customer ID.\n",
    "- **Item Column**: The feature you want to analyze for association rules. It could be the product name, item code, etc.\n",
    "\n",
    "Please select the appropriate columns from the dropdowns below:\n",
    "\"\"\"))\n",
    "\n",
    "# User selects columns for grouping and item generation\n",
    "transaction_col = widgets.Dropdown(\n",
    "    options=df.columns,\n",
    "    description='Transaction:',\n",
    "    value=None\n",
    ")\n",
    "item_col = widgets.Dropdown(\n",
    "    options=df.columns,\n",
    "    description='Item:',\n",
    "    value=None\n",
    ")\n",
    "display(transaction_col, item_col)\n",
    "\n",
    "# Explanation markdowns for minimum support\n",
    "display(Markdown(\"\"\"\n",
    "### Step 2: Enter Minimum Support Value\n",
    "\n",
    "- **Minimum Support**: This value determines the threshold for an itemset to be considered frequent. It is the proportion of transactions that contain the itemset.\n",
    "- Standard values range from 0.1 (10%) to 0.5 (50%) depending on the dataset and the desired granularity of the rules.\n",
    "\n",
    "Please enter the minimum support value:\n",
    "\"\"\"))\n",
    "\n",
    "min_support = widgets.FloatText(\n",
    "    value=0.1,\n",
    "    description='Min Support:'\n",
    ")\n",
    "display(min_support)\n",
    "\n",
    "# Button to trigger the transformation and calculation\n",
    "calculate_button = widgets.Button(description=\"Calculate\", button_style='info')\n",
    "busy_indicator = widgets.Output()\n",
    "\n",
    "# Placeholder for transformed dataset and results\n",
    "transformed_output = widgets.Output()\n",
    "apriori_output = widgets.Output()\n",
    "fpgrowth_output = widgets.Output()\n",
    "\n",
    "def transform_dataset(df, transaction_col, item_col):\n",
    "    df_copy = df[[transaction_col, item_col]].dropna().copy()\n",
    "    df_copy.columns = ['Transaction', 'Item']\n",
    "    df_trans = df_copy.groupby(['Transaction', 'Item']).size().unstack(fill_value=0)\n",
    "    df_trans = df_trans.applymap(lambda x: 1 if x > 0 else 0).astype(bool)\n",
    "    return df_trans\n",
    "\n",
    "def on_calculate_button_clicked(b):\n",
    "    with busy_indicator:\n",
    "        busy_indicator.clear_output()\n",
    "        with busy_indicator:\n",
    "            print(\"Calculating...\")\n",
    "\n",
    "        transformed_output.clear_output()\n",
    "        apriori_output.clear_output()\n",
    "        fpgrowth_output.clear_output()\n",
    "\n",
    "        with transformed_output:\n",
    "            df_transformed = transform_dataset(df, transaction_col.value, item_col.value)\n",
    "            display(Markdown(\"### Transformed Dataset Preview\"))\n",
    "            display(df_transformed.head())\n",
    "            display(Markdown(\"### Step 3: Run Algorithms and Display Results\"))\n",
    "\n",
    "            # Run Apriori Algorithm\n",
    "            try:\n",
    "                frequent_itemsets_apriori, rules_apriori = apriori_algorithm(df_transformed, min_support.value)\n",
    "                with apriori_output:\n",
    "                    apriori_output.clear_output()\n",
    "                    display(Markdown(\"#### Frequent Itemsets using Apriori Algorithm\"))\n",
    "                    display(frequent_itemsets_apriori)\n",
    "                    display(Markdown(\"#### Association Rules using Apriori Algorithm\"))\n",
    "                    display(rules_apriori)\n",
    "            except ValueError as e:\n",
    "                with apriori_output:\n",
    "                    apriori_output.clear_output()\n",
    "                    display(Markdown(f\"**Error running Apriori algorithm: {str(e)}**\"))\n",
    "\n",
    "            # Run FP-Growth Algorithm\n",
    "            try:\n",
    "                frequent_itemsets_fpgrowth, rules_fpgrowth = fpgrowth_algorithm(df_transformed, min_support.value)\n",
    "                with fpgrowth_output:\n",
    "                    fpgrowth_output.clear_output()\n",
    "                    display(Markdown(\"#### Frequent Itemsets using FP-Growth Algorithm\"))\n",
    "                    display(frequent_itemsets_fpgrowth)\n",
    "                    display(Markdown(\"#### Association Rules using FP-Growth Algorithm\"))\n",
    "                    display(rules_fpgrowth)\n",
    "            except ValueError as e:\n",
    "                with fpgrowth_output:\n",
    "                    fpgrowth_output.clear_output()\n",
    "                    display(Markdown(f\"**Error running FP-Growth algorithm: {str(e)}**\"))\n",
    "\n",
    "            # Summary\n",
    "            with transformed_output:\n",
    "                display(Markdown(\"### Summary of the Association Rules Mining\"))\n",
    "                summary = f\"\"\"\n",
    "                - Total frequent itemsets found using Apriori: {len(frequent_itemsets_apriori) if 'frequent_itemsets_apriori' in locals() else 0}\n",
    "                - Total association rules found using Apriori: {len(rules_apriori) if 'rules_apriori' in locals() else 0}\n",
    "                - Total frequent itemsets found using FP-Growth: {len(frequent_itemsets_fpgrowth) if 'frequent_itemsets_fpgrowth' in locals() else 0}\n",
    "                - Total association rules found using FP-Growth: {len(rules_fpgrowth) if 'rules_fpgrowth' in locals() else 0}\n",
    "                \"\"\"\n",
    "                display(Markdown(summary))\n",
    "        \n",
    "        busy_indicator.clear_output()\n",
    "\n",
    "calculate_button.on_click(on_calculate_button_clicked)\n",
    "display(calculate_button, busy_indicator)\n",
    "\n",
    "display(transformed_output)\n",
    "display(apriori_output)\n",
    "display(fpgrowth_output)\n",
    "\n",
    "# Function to perform Apriori algorithm\n",
    "def apriori_algorithm(dataframe, min_support=0.1):\n",
    "    frequent_itemsets = apriori(dataframe, min_support=min_support, use_colnames=True)\n",
    "    if frequent_itemsets.empty:\n",
    "        raise ValueError(\"No frequent itemsets found for the given minimum support.\")\n",
    "    rules = association_rules(frequent_itemsets, metric=\"lift\", min_threshold=1)\n",
    "    return frequent_itemsets, rules\n",
    "\n",
    "# Function to perform FP-Growth algorithm\n",
    "def fpgrowth_algorithm(dataframe, min_support=0.1):\n",
    "    frequent_itemsets = fpgrowth(dataframe, min_support=min_support, use_colnames=True)\n",
    "    if frequent_itemsets.empty:\n",
    "        raise ValueError(\"No frequent itemsets found for the given minimum support.\")\n",
    "    rules = association_rules(frequent_itemsets, metric=\"lift\", min_threshold=1)\n",
    "    return frequent_itemsets, rules"
   ]
  },
  {
   "cell_type": "markdown",
   "id": "79f63f40-49cb-4b61-ba4c-a0f3864d649c",
   "metadata": {
    "tags": []
   },
   "source": [
    "---\n",
    "## Understanding Association Rules\n",
    "\n",
    "__Please note that your results will be different because we used a randomizer to build your input dataset. Below is a general explanation.__\n",
    "\n",
    "**Frequent Itemsets**:\n",
    "- **Support**: Indicates how frequently the itemset appears in the dataset. Higher support means the itemset is more common.\n",
    "- **Itemsets**: Combination of items being considered.\n",
    "\n",
    "For example:\n",
    "- `support: 0.4, itemsets: (Apples)` means that item 'Apples' appears in 40% of all transactions.\n",
    "- `support: 0.1, itemsets: (Chicken, Eggs, Milk)` means that items 'Chicken' and 'Eggs' and 'Milk' appear together in 10% of all transactions.\n",
    "\n",
    "**Association Rules**:\n",
    "- **Antecedents**: Items on the left-hand side of the rule.\n",
    "- **Consequents**: Items on the right-hand side of the rule.\n",
    "- **Support**: Proportion of transactions that contain the rule.\n",
    "- **Confidence**: Accuracy of the rule. Higher confidence means the rule is more reliable.\n",
    "- **Lift**: Ratio of observed support to that expected if the antecedents and consequents were independent. Lift > 1 indicates a positive association.\n",
    "- **Leverage**: Difference between observed support and expected support.\n",
    "- **Conviction**: Measure of how frequently the rule makes an incorrect prediction.\n",
    "\n",
    "**Example**:\n",
    "- A rule `(Apples) -> (Bananas, Juice, Cheese, Jam, Bread)` with confidence 25% and lift 2.5 means:\n",
    "  - 25% of transactions containing item `Apples` also contain items `Bananas, Juice, Cheese, Jam, Bread`.\n",
    "  - Items `Apples` and `Bananas, Juice, Cheese, Jam, Bread` are significantly more likely to appear together, `lift` number higher than 1 (in our case 2.5) would indicate that the items are more than twice as likely to be bought together compared to being bought independently.\n"
   ]
  },
  {
   "cell_type": "code",
   "execution_count": null,
   "id": "7dc4de50-9891-49a2-99c4-a3af59f784f9",
   "metadata": {},
   "outputs": [],
   "source": []
  }
 ],
 "metadata": {
  "kernelspec": {
   "display_name": "Python3",
   "language": "python",
   "name": "python3"
  },
  "language_info": {
   "codemirror_mode": {
    "name": "ipython",
    "version": 3
   },
   "file_extension": ".py",
   "mimetype": "text/x-python",
   "name": "python",
   "nbconvert_exporter": "python",
   "pygments_lexer": "ipython3",
   "version": "3.10.10"
  }
 },
 "nbformat": 4,
 "nbformat_minor": 5
}
