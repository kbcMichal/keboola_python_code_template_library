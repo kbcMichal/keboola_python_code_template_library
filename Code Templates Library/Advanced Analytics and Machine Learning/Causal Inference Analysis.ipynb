{
 "cells": [
  {
   "cell_type": "markdown",
   "id": "779ed375-694a-4aac-bf91-c66ab13e5c0b",
   "metadata": {},
   "source": [
    "# Causal Inference Analysis\n",
    "\n",
    "## Introduction\n",
    "\n",
    "Causal inference is a crucial aspect of data analysis that goes beyond correlation to understand the cause-and-effect relationships between variables. Unlike traditional statistical methods, causal inference aims to answer questions about what happens to one variable when another variable is manipulated.\n",
    "\n",
    "### What is DoWhy?\n",
    "\n",
    "`DoWhy` is a Python library that provides a principled approach to causal inference. It leverages a combination of state-of-the-art algorithms and established causal inference techniques to allow users to estimate causal effects from observational data.\n",
    "\n",
    "### Key Features of DoWhy:\n",
    "\n",
    "- **Modeling Assumptions**: Explicitly state assumptions about the causal model using a graphical representation (causal graph).\n",
    "- **Identification**: Automatically identify if the causal effect can be estimated from the given data and assumptions.\n",
    "- **Estimation**: Use a variety of methods to estimate the causal effect, including regression, matching, instrumental variables, and more.\n",
    "- **Refutation**: Perform robustness checks to test the validity of the estimated causal effect.\n",
    "\n",
    "### Why Causal Inference?\n",
    "\n",
    "Causal inference is essential for:\n",
    "- Understanding the true impact of interventions or treatments.\n",
    "- Making informed decisions based on the likely outcomes of different actions.\n",
    "- Going beyond simple associations to uncover the mechanisms behind observed data patterns.\n",
    "\n",
    "### Objectives of This Notebook\n",
    "1. Setup and Installation\n",
    "\n",
    "2. Connecting to Snowflake using Snowpark\n",
    "\n",
    "3. Fetching Data and Loading it into a Pandas DataFrame\n",
    "\n",
    "4. Performing Causal Inference with DoWhy\n"
   ]
  },
  {
   "cell_type": "markdown",
   "id": "30d25c6e-0593-4850-8112-2b28e4305fd9",
   "metadata": {
    "jp-MarkdownHeadingCollapsed": true,
    "tags": []
   },
   "source": [
    "---\n",
    "\n",
    "# Setup and Installation\n",
    "First, ensure you have the necessary libraries installed. You'll need `dowhy`, and `causalnex`.\n"
   ]
  },
  {
   "cell_type": "code",
   "execution_count": 1,
   "id": "451b1849-013c-4cde-8e80-fe3512a27baf",
   "metadata": {
    "tags": []
   },
   "outputs": [
    {
     "name": "stdout",
     "output_type": "stream",
     "text": [
      "Defaulting to user installation because normal site-packages is not writeable\n",
      "Collecting dowhy\n",
      "  Downloading dowhy-0.11.1-py3-none-any.whl (383 kB)\n",
      "\u001b[2K     \u001b[90m━━━━━━━━━━━━━━━━━━━━━━━━━━━━━━━━━━━━━━━\u001b[0m \u001b[32m383.4/383.4 kB\u001b[0m \u001b[31m8.7 MB/s\u001b[0m eta \u001b[36m0:00:00\u001b[0m00:01\u001b[0m\n",
      "\u001b[?25hRequirement already satisfied: numpy>=1.20 in /usr/local/lib/python3.10/site-packages (from dowhy) (1.26.3)\n",
      "Requirement already satisfied: scikit-learn>1.0 in /home/jupyter/.local/lib/python3.10/site-packages (from dowhy) (1.5.0)\n",
      "Requirement already satisfied: scipy>=1.4.1 in /home/jupyter/.local/lib/python3.10/site-packages (from dowhy) (1.13.1)\n",
      "Collecting sympy>=1.10.1\n",
      "  Downloading sympy-1.12.1-py3-none-any.whl (5.7 MB)\n",
      "\u001b[2K     \u001b[90m━━━━━━━━━━━━━━━━━━━━━━━━━━━━━━━━━━━━━━━━\u001b[0m \u001b[32m5.7/5.7 MB\u001b[0m \u001b[31m79.4 MB/s\u001b[0m eta \u001b[36m0:00:00\u001b[0m:00:01\u001b[0m00:01\u001b[0m\n",
      "\u001b[?25hCollecting causal-learn>=0.1.3.0\n",
      "  Downloading causal_learn-0.1.3.8-py3-none-any.whl (174 kB)\n",
      "\u001b[2K     \u001b[90m━━━━━━━━━━━━━━━━━━━━━━━━━━━━━━━━━━━━━━\u001b[0m \u001b[32m174.5/174.5 kB\u001b[0m \u001b[31m23.0 MB/s\u001b[0m eta \u001b[36m0:00:00\u001b[0m\n",
      "\u001b[?25hRequirement already satisfied: pandas>=1.4.3 in /usr/local/lib/python3.10/site-packages (from dowhy) (2.1.4)\n",
      "Requirement already satisfied: statsmodels>=0.13.5 in /home/jupyter/.local/lib/python3.10/site-packages (from dowhy) (0.14.2)\n",
      "Collecting cvxpy<2.0.0,>=1.2.2\n",
      "  Downloading cvxpy-1.5.1-cp310-cp310-manylinux_2_17_x86_64.manylinux2014_x86_64.whl (1.2 MB)\n",
      "\u001b[2K     \u001b[90m━━━━━━━━━━━━━━━━━━━━━━━━━━━━━━━━━━━━━━━━\u001b[0m \u001b[32m1.2/1.2 MB\u001b[0m \u001b[31m71.3 MB/s\u001b[0m eta \u001b[36m0:00:00\u001b[0m\n",
      "\u001b[?25hCollecting cython>=0.29.32\n",
      "  Downloading Cython-3.0.10-cp310-cp310-manylinux_2_17_x86_64.manylinux2014_x86_64.whl (3.6 MB)\n",
      "\u001b[2K     \u001b[90m━━━━━━━━━━━━━━━━━━━━━━━━━━━━━━━━━━━━━━━━\u001b[0m \u001b[32m3.6/3.6 MB\u001b[0m \u001b[31m69.1 MB/s\u001b[0m eta \u001b[36m0:00:00\u001b[0m:00:01\u001b[0m\n",
      "\u001b[?25hRequirement already satisfied: tqdm>=4.64.0 in /home/jupyter/.local/lib/python3.10/site-packages (from dowhy) (4.66.4)\n",
      "Requirement already satisfied: joblib>=1.1.0 in /home/jupyter/.local/lib/python3.10/site-packages (from dowhy) (1.4.2)\n",
      "Requirement already satisfied: networkx>=2.8.5 in /home/jupyter/.local/lib/python3.10/site-packages (from dowhy) (3.3)\n",
      "Requirement already satisfied: matplotlib in /usr/local/lib/python3.10/site-packages (from causal-learn>=0.1.3.0->dowhy) (3.8.2)\n",
      "Collecting graphviz\n",
      "  Downloading graphviz-0.20.3-py3-none-any.whl (47 kB)\n",
      "\u001b[2K     \u001b[90m━━━━━━━━━━━━━━━━━━━━━━━━━━━━━━━━━━━━━━━━\u001b[0m \u001b[32m47.1/47.1 kB\u001b[0m \u001b[31m6.2 MB/s\u001b[0m eta \u001b[36m0:00:00\u001b[0m\n",
      "\u001b[?25hCollecting pydot\n",
      "  Downloading pydot-2.0.0-py3-none-any.whl (22 kB)\n",
      "Collecting osqp>=0.6.2\n",
      "  Downloading osqp-0.6.7-cp310-cp310-manylinux_2_5_x86_64.manylinux1_x86_64.manylinux_2_17_x86_64.manylinux2014_x86_64.whl (298 kB)\n",
      "\u001b[2K     \u001b[90m━━━━━━━━━━━━━━━━━━━━━━━━━━━━━━━━━━━━━━\u001b[0m \u001b[32m299.0/299.0 kB\u001b[0m \u001b[31m30.1 MB/s\u001b[0m eta \u001b[36m0:00:00\u001b[0m\n",
      "\u001b[?25hCollecting ecos>=2\n",
      "  Downloading ecos-2.0.13-cp310-cp310-manylinux_2_17_x86_64.manylinux2014_x86_64.whl (220 kB)\n",
      "\u001b[2K     \u001b[90m━━━━━━━━━━━━━━━━━━━━━━━━━━━━━━━━━━━━━━\u001b[0m \u001b[32m220.3/220.3 kB\u001b[0m \u001b[31m28.1 MB/s\u001b[0m eta \u001b[36m0:00:00\u001b[0m\n",
      "\u001b[?25hCollecting scs>=3.2.4.post1\n",
      "  Downloading scs-3.2.4.post2-cp310-cp310-manylinux_2_17_x86_64.manylinux2014_x86_64.whl (10.4 MB)\n",
      "\u001b[2K     \u001b[90m━━━━━━━━━━━━━━━━━━━━━━━━━━━━━━━━━━━━━━━━\u001b[0m \u001b[32m10.4/10.4 MB\u001b[0m \u001b[31m92.9 MB/s\u001b[0m eta \u001b[36m0:00:00\u001b[0m00:01\u001b[0m00:01\u001b[0m\n",
      "\u001b[?25hCollecting clarabel>=0.5.0\n",
      "  Downloading clarabel-0.8.1-cp37-abi3-manylinux_2_17_x86_64.manylinux2014_x86_64.whl (1.4 MB)\n",
      "\u001b[2K     \u001b[90m━━━━━━━━━━━━━━━━━━━━━━━━━━━━━━━━━━━━━━━━\u001b[0m \u001b[32m1.4/1.4 MB\u001b[0m \u001b[31m70.1 MB/s\u001b[0m eta \u001b[36m0:00:00\u001b[0m\n",
      "\u001b[?25hRequirement already satisfied: tzdata>=2022.1 in /usr/local/lib/python3.10/site-packages (from pandas>=1.4.3->dowhy) (2023.4)\n",
      "Requirement already satisfied: pytz>=2020.1 in /usr/local/lib/python3.10/site-packages (from pandas>=1.4.3->dowhy) (2023.3.post1)\n",
      "Requirement already satisfied: python-dateutil>=2.8.2 in /usr/local/lib/python3.10/site-packages (from pandas>=1.4.3->dowhy) (2.8.2)\n",
      "Requirement already satisfied: threadpoolctl>=3.1.0 in /home/jupyter/.local/lib/python3.10/site-packages (from scikit-learn>1.0->dowhy) (3.5.0)\n",
      "Requirement already satisfied: patsy>=0.5.6 in /home/jupyter/.local/lib/python3.10/site-packages (from statsmodels>=0.13.5->dowhy) (0.5.6)\n",
      "Requirement already satisfied: packaging>=21.3 in /usr/local/lib/python3.10/site-packages (from statsmodels>=0.13.5->dowhy) (23.2)\n",
      "Collecting mpmath<1.4.0,>=1.1.0\n",
      "  Downloading mpmath-1.3.0-py3-none-any.whl (536 kB)\n",
      "\u001b[2K     \u001b[90m━━━━━━━━━━━━━━━━━━━━━━━━━━━━━━━━━━━━━━\u001b[0m \u001b[32m536.2/536.2 kB\u001b[0m \u001b[31m42.6 MB/s\u001b[0m eta \u001b[36m0:00:00\u001b[0m\n",
      "\u001b[?25hCollecting qdldl\n",
      "  Downloading qdldl-0.1.7.post2-cp310-cp310-manylinux_2_17_x86_64.manylinux2014_x86_64.whl (1.1 MB)\n",
      "\u001b[2K     \u001b[90m━━━━━━━━━━━━━━━━━━━━━━━━━━━━━━━━━━━━━━━━\u001b[0m \u001b[32m1.1/1.1 MB\u001b[0m \u001b[31m69.0 MB/s\u001b[0m eta \u001b[36m0:00:00\u001b[0m\n",
      "\u001b[?25hRequirement already satisfied: six in /usr/local/lib/python3.10/site-packages (from patsy>=0.5.6->statsmodels>=0.13.5->dowhy) (1.16.0)\n",
      "Requirement already satisfied: contourpy>=1.0.1 in /usr/local/lib/python3.10/site-packages (from matplotlib->causal-learn>=0.1.3.0->dowhy) (1.2.0)\n",
      "Requirement already satisfied: cycler>=0.10 in /usr/local/lib/python3.10/site-packages (from matplotlib->causal-learn>=0.1.3.0->dowhy) (0.12.1)\n",
      "Requirement already satisfied: pillow>=8 in /usr/local/lib/python3.10/site-packages (from matplotlib->causal-learn>=0.1.3.0->dowhy) (10.2.0)\n",
      "Requirement already satisfied: kiwisolver>=1.3.1 in /usr/local/lib/python3.10/site-packages (from matplotlib->causal-learn>=0.1.3.0->dowhy) (1.4.5)\n",
      "Requirement already satisfied: pyparsing>=2.3.1 in /usr/local/lib/python3.10/site-packages (from matplotlib->causal-learn>=0.1.3.0->dowhy) (3.1.1)\n",
      "Requirement already satisfied: fonttools>=4.22.0 in /usr/local/lib/python3.10/site-packages (from matplotlib->causal-learn>=0.1.3.0->dowhy) (4.47.0)\n",
      "Installing collected packages: mpmath, sympy, pydot, graphviz, cython, scs, qdldl, ecos, clarabel, osqp, cvxpy, causal-learn, dowhy\n",
      "Successfully installed causal-learn-0.1.3.8 clarabel-0.8.1 cvxpy-1.5.1 cython-3.0.10 dowhy-0.11.1 ecos-2.0.13 graphviz-0.20.3 mpmath-1.3.0 osqp-0.6.7 pydot-2.0.0 qdldl-0.1.7.post2 scs-3.2.4.post2 sympy-1.12.1\n",
      "\n",
      "\u001b[1m[\u001b[0m\u001b[34;49mnotice\u001b[0m\u001b[1;39;49m]\u001b[0m\u001b[39;49m A new release of pip available: \u001b[0m\u001b[31;49m22.3.1\u001b[0m\u001b[39;49m -> \u001b[0m\u001b[32;49m24.0\u001b[0m\n",
      "\u001b[1m[\u001b[0m\u001b[34;49mnotice\u001b[0m\u001b[1;39;49m]\u001b[0m\u001b[39;49m To update, run: \u001b[0m\u001b[32;49mpip install --upgrade pip\u001b[0m\n"
     ]
    }
   ],
   "source": [
    "!pip install dowhy"
   ]
  },
  {
   "cell_type": "markdown",
   "id": "79dd118f-f0fe-46bf-a6a2-e5845ffb7583",
   "metadata": {
    "tags": []
   },
   "source": [
    "## Importing libraries"
   ]
  },
  {
   "cell_type": "code",
   "execution_count": 8,
   "id": "c60c0c54-fd38-4945-a99d-3ce61f1e4a81",
   "metadata": {
    "tags": []
   },
   "outputs": [],
   "source": [
    "import os\n",
    "import pandas as pd\n",
    "import json\n",
    "import logging\n",
    "import sys\n",
    "import site\n",
    "import warnings\n",
    "sys.path.append(site.getusersitepackages())\n",
    "\n",
    "from keboola.component import CommonInterface\n",
    "import ipywidgets as widgets\n",
    "from IPython.display import display, clear_output\n",
    "\n",
    "warnings.filterwarnings('ignore')"
   ]
  },
  {
   "cell_type": "markdown",
   "id": "b8385bd7-a0b1-415e-98a6-8f79878b0e3d",
   "metadata": {
    "jp-MarkdownHeadingCollapsed": true,
    "tags": []
   },
   "source": [
    "---\n",
    "# Load dataset\n",
    "To demonstrate the steps of Causal Inference Analysis, we will work with the Titanic dataset.\n",
    "\n",
    "Execute the cell below to download the dataset and load it as a dataframe."
   ]
  },
  {
   "cell_type": "code",
   "execution_count": 29,
   "id": "681a7fba-0175-4caa-8124-9e238ec91a53",
   "metadata": {
    "tags": []
   },
   "outputs": [
    {
     "data": {
      "text/html": [
       "<div>\n",
       "<style scoped>\n",
       "    .dataframe tbody tr th:only-of-type {\n",
       "        vertical-align: middle;\n",
       "    }\n",
       "\n",
       "    .dataframe tbody tr th {\n",
       "        vertical-align: top;\n",
       "    }\n",
       "\n",
       "    .dataframe thead th {\n",
       "        text-align: right;\n",
       "    }\n",
       "</style>\n",
       "<table border=\"1\" class=\"dataframe\">\n",
       "  <thead>\n",
       "    <tr style=\"text-align: right;\">\n",
       "      <th></th>\n",
       "      <th>PassengerId</th>\n",
       "      <th>Survived</th>\n",
       "      <th>Pclass</th>\n",
       "      <th>Name</th>\n",
       "      <th>Sex</th>\n",
       "      <th>Age</th>\n",
       "      <th>SibSp</th>\n",
       "      <th>Parch</th>\n",
       "      <th>Ticket</th>\n",
       "      <th>Fare</th>\n",
       "      <th>Cabin</th>\n",
       "      <th>Embarked</th>\n",
       "    </tr>\n",
       "  </thead>\n",
       "  <tbody>\n",
       "    <tr>\n",
       "      <th>0</th>\n",
       "      <td>1</td>\n",
       "      <td>0</td>\n",
       "      <td>3</td>\n",
       "      <td>Braund, Mr. Owen Harris</td>\n",
       "      <td>male</td>\n",
       "      <td>22.0</td>\n",
       "      <td>1</td>\n",
       "      <td>0</td>\n",
       "      <td>A/5 21171</td>\n",
       "      <td>7.2500</td>\n",
       "      <td>NaN</td>\n",
       "      <td>S</td>\n",
       "    </tr>\n",
       "    <tr>\n",
       "      <th>1</th>\n",
       "      <td>2</td>\n",
       "      <td>1</td>\n",
       "      <td>1</td>\n",
       "      <td>Cumings, Mrs. John Bradley (Florence Briggs Th...</td>\n",
       "      <td>female</td>\n",
       "      <td>38.0</td>\n",
       "      <td>1</td>\n",
       "      <td>0</td>\n",
       "      <td>PC 17599</td>\n",
       "      <td>71.2833</td>\n",
       "      <td>C85</td>\n",
       "      <td>C</td>\n",
       "    </tr>\n",
       "    <tr>\n",
       "      <th>2</th>\n",
       "      <td>3</td>\n",
       "      <td>1</td>\n",
       "      <td>3</td>\n",
       "      <td>Heikkinen, Miss. Laina</td>\n",
       "      <td>female</td>\n",
       "      <td>26.0</td>\n",
       "      <td>0</td>\n",
       "      <td>0</td>\n",
       "      <td>STON/O2. 3101282</td>\n",
       "      <td>7.9250</td>\n",
       "      <td>NaN</td>\n",
       "      <td>S</td>\n",
       "    </tr>\n",
       "    <tr>\n",
       "      <th>3</th>\n",
       "      <td>4</td>\n",
       "      <td>1</td>\n",
       "      <td>1</td>\n",
       "      <td>Futrelle, Mrs. Jacques Heath (Lily May Peel)</td>\n",
       "      <td>female</td>\n",
       "      <td>35.0</td>\n",
       "      <td>1</td>\n",
       "      <td>0</td>\n",
       "      <td>113803</td>\n",
       "      <td>53.1000</td>\n",
       "      <td>C123</td>\n",
       "      <td>S</td>\n",
       "    </tr>\n",
       "    <tr>\n",
       "      <th>4</th>\n",
       "      <td>5</td>\n",
       "      <td>0</td>\n",
       "      <td>3</td>\n",
       "      <td>Allen, Mr. William Henry</td>\n",
       "      <td>male</td>\n",
       "      <td>35.0</td>\n",
       "      <td>0</td>\n",
       "      <td>0</td>\n",
       "      <td>373450</td>\n",
       "      <td>8.0500</td>\n",
       "      <td>NaN</td>\n",
       "      <td>S</td>\n",
       "    </tr>\n",
       "  </tbody>\n",
       "</table>\n",
       "</div>"
      ],
      "text/plain": [
       "   PassengerId  Survived  Pclass  \\\n",
       "0            1         0       3   \n",
       "1            2         1       1   \n",
       "2            3         1       3   \n",
       "3            4         1       1   \n",
       "4            5         0       3   \n",
       "\n",
       "                                                Name     Sex   Age  SibSp  \\\n",
       "0                            Braund, Mr. Owen Harris    male  22.0      1   \n",
       "1  Cumings, Mrs. John Bradley (Florence Briggs Th...  female  38.0      1   \n",
       "2                             Heikkinen, Miss. Laina  female  26.0      0   \n",
       "3       Futrelle, Mrs. Jacques Heath (Lily May Peel)  female  35.0      1   \n",
       "4                           Allen, Mr. William Henry    male  35.0      0   \n",
       "\n",
       "   Parch            Ticket     Fare Cabin Embarked  \n",
       "0      0         A/5 21171   7.2500   NaN        S  \n",
       "1      0          PC 17599  71.2833   C85        C  \n",
       "2      0  STON/O2. 3101282   7.9250   NaN        S  \n",
       "3      0            113803  53.1000  C123        S  \n",
       "4      0            373450   8.0500   NaN        S  "
      ]
     },
     "execution_count": 29,
     "metadata": {},
     "output_type": "execute_result"
    }
   ],
   "source": [
    "import pandas as pd\n",
    "\n",
    "# URL of the Titanic dataset\n",
    "titanic_url = 'https://raw.githubusercontent.com/datasciencedojo/datasets/master/titanic.csv'\n",
    "\n",
    "# Load the Titanic dataset into a pandas DataFrame\n",
    "data = pd.read_csv(titanic_url)\n",
    "\n",
    "# Display the first few rows of the DataFrame to confirm loading\n",
    "data.head()"
   ]
  },
  {
   "cell_type": "markdown",
   "id": "722e67f6-2f21-4a35-a7f7-e2ab922ab319",
   "metadata": {},
   "source": [
    "## Solve Missing Values\n",
    "\n",
    "### Identify Missing Values\n",
    "\n",
    "In this section, we will identify the missing values in the dataset. This will help us understand the extent of missing data and decide on an appropriate action to handle it.\n"
   ]
  },
  {
   "cell_type": "code",
   "execution_count": 30,
   "id": "b862344c-fee8-41f2-8650-737eda2d3dcd",
   "metadata": {
    "tags": []
   },
   "outputs": [
    {
     "name": "stdout",
     "output_type": "stream",
     "text": [
      "=====================================\n",
      "Total missing cells: [866]\n",
      "Percentage of missing cells: [8.10%]\n",
      "=====================================\n",
      "Count of missing cells per column:\n",
      "PassengerId      0\n",
      "Survived         0\n",
      "Pclass           0\n",
      "Name             0\n",
      "Sex              0\n",
      "Age            177\n",
      "SibSp            0\n",
      "Parch            0\n",
      "Ticket           0\n",
      "Fare             0\n",
      "Cabin          687\n",
      "Embarked         2\n",
      "dtype: int64\n",
      "=====================================\n",
      "-------------------------------------\n"
     ]
    }
   ],
   "source": [
    "# Function to identify missing values\n",
    "def getMissing(data):\n",
    "    missing_cnt = data.isna().sum().sum()\n",
    "    missing_pct = missing_cnt / (len(data.columns) * len(data))     \n",
    "    missing_out = data.isna().sum()\n",
    "    \n",
    "    print('=====================================')\n",
    "    print(f'Total missing cells: [{missing_cnt}]')\n",
    "    print(f'Percentage of missing cells: [{missing_pct:.2%}]')\n",
    "    print('=====================================')\n",
    "    print('Count of missing cells per column:')\n",
    "    print(missing_out)\n",
    "    print('=====================================')\n",
    "    print('-------------------------------------')\n",
    "\n",
    "# Identify missing values in the dataset\n",
    "getMissing(data)\n"
   ]
  },
  {
   "cell_type": "markdown",
   "id": "b5dd7c00-11e7-4750-85b4-294ef066dc63",
   "metadata": {},
   "source": [
    "### Decide How to Handle Missing Values\n",
    "\n",
    "Choose a missing action from the following options:\n",
    "- **\"drop\"**: Drop rows with missing values in the selected column(s).\n",
    "- **\"replace\"**: Replace missing numeric values with the MEAN and missing categorical values with a new category named \"Undefined\" for the selected columns.\n",
    "- **\"replaceNumeric\"**: Replace missing numeric values with the MEAN value for the selected columns.\n",
    "- **\"replaceCategorical\"**: Replace missing categorical values with a new category named \"Undefined\" for the selected columns.\n",
    "- **\"None\"**: Ignore missing values.\n",
    "\n",
    "<h3><font color=\"red\">↓↓↓ Execute the cell below and choose how to solve missing values ↓↓↓</font></h3>\n"
   ]
  },
  {
   "cell_type": "code",
   "execution_count": 31,
   "id": "060c7b63-e6a8-4e13-9627-d633aadea271",
   "metadata": {
    "tags": []
   },
   "outputs": [
    {
     "data": {
      "application/vnd.jupyter.widget-view+json": {
       "model_id": "8ed1678bdb5946ada17eac2444276167",
       "version_major": 2,
       "version_minor": 0
      },
      "text/plain": [
       "ToggleButtons(button_style='info', description='Action:', options=('None', 'drop', 'replace', 'replaceNumeric'…"
      ]
     },
     "metadata": {},
     "output_type": "display_data"
    },
    {
     "data": {
      "application/vnd.jupyter.widget-view+json": {
       "model_id": "2a3b9e85c6974e9b8d9c0b1be86917a1",
       "version_major": 2,
       "version_minor": 0
      },
      "text/plain": [
       "SelectMultiple(description='Columns:', options=('ALL COLUMNS', 'PassengerId', 'Survived', 'Pclass', 'Name', 'S…"
      ]
     },
     "metadata": {},
     "output_type": "display_data"
    }
   ],
   "source": [
    "# Display widgets to choose how to handle missing values\n",
    "if data.isna().sum().sum() > 0:\n",
    "    MISSING_ACTION = widgets.ToggleButtons(\n",
    "        options=['None', 'drop', 'replace', 'replaceNumeric', 'replaceCategorical'],\n",
    "        description='Action:',\n",
    "        disabled=False,\n",
    "        button_style='info',  # 'success', 'info', 'warning', 'danger' or ''\n",
    "        value='None'\n",
    "    )\n",
    "    COLUMNS_ACTION = widgets.SelectMultiple(\n",
    "        options=['ALL COLUMNS'] + list(data.columns),\n",
    "        description='Columns:',\n",
    "        ensure_option=True,\n",
    "        disabled=False,\n",
    "        rows=15\n",
    "    )\n",
    "\n",
    "    display(MISSING_ACTION)\n",
    "    display(COLUMNS_ACTION)\n",
    "else:\n",
    "    logging.info('[INFO] There are no missing values in your dataset.')"
   ]
  },
  {
   "cell_type": "markdown",
   "id": "2d16e429-3a14-4bfb-82b9-5cf471f444b3",
   "metadata": {},
   "source": [
    "### Apply Missing Values Action\n",
    "\n",
    "Execute the cell below to apply the chosen action for handling missing values.\n",
    "\n",
    "<i><b>NOTE:</b> You can select and execute the missing action multiple times.</i><br>\n",
    "<i>For example, you can first select 'drop' for a specific column and then 'replaceNumeric' for numeric columns you prefer not to drop.</i>\n"
   ]
  },
  {
   "cell_type": "code",
   "execution_count": 33,
   "id": "50ff7039-d3b4-47a5-a7ca-979be7f20b53",
   "metadata": {
    "tags": []
   },
   "outputs": [
    {
     "name": "stdout",
     "output_type": "stream",
     "text": [
      "['Replacing missing values in NUMERIC columns:', 'Age']\n"
     ]
    },
    {
     "data": {
      "text/html": [
       "<div>\n",
       "<style scoped>\n",
       "    .dataframe tbody tr th:only-of-type {\n",
       "        vertical-align: middle;\n",
       "    }\n",
       "\n",
       "    .dataframe tbody tr th {\n",
       "        vertical-align: top;\n",
       "    }\n",
       "\n",
       "    .dataframe thead th {\n",
       "        text-align: right;\n",
       "    }\n",
       "</style>\n",
       "<table border=\"1\" class=\"dataframe\">\n",
       "  <thead>\n",
       "    <tr style=\"text-align: right;\">\n",
       "      <th></th>\n",
       "      <th>PassengerId</th>\n",
       "      <th>Survived</th>\n",
       "      <th>Pclass</th>\n",
       "      <th>Name</th>\n",
       "      <th>Sex</th>\n",
       "      <th>Age</th>\n",
       "      <th>SibSp</th>\n",
       "      <th>Parch</th>\n",
       "      <th>Ticket</th>\n",
       "      <th>Fare</th>\n",
       "      <th>Cabin</th>\n",
       "      <th>Embarked</th>\n",
       "    </tr>\n",
       "  </thead>\n",
       "  <tbody>\n",
       "    <tr>\n",
       "      <th>1</th>\n",
       "      <td>2</td>\n",
       "      <td>1</td>\n",
       "      <td>1</td>\n",
       "      <td>Cumings, Mrs. John Bradley (Florence Briggs Th...</td>\n",
       "      <td>female</td>\n",
       "      <td>38.0</td>\n",
       "      <td>1</td>\n",
       "      <td>0</td>\n",
       "      <td>PC 17599</td>\n",
       "      <td>71.2833</td>\n",
       "      <td>C85</td>\n",
       "      <td>C</td>\n",
       "    </tr>\n",
       "    <tr>\n",
       "      <th>3</th>\n",
       "      <td>4</td>\n",
       "      <td>1</td>\n",
       "      <td>1</td>\n",
       "      <td>Futrelle, Mrs. Jacques Heath (Lily May Peel)</td>\n",
       "      <td>female</td>\n",
       "      <td>35.0</td>\n",
       "      <td>1</td>\n",
       "      <td>0</td>\n",
       "      <td>113803</td>\n",
       "      <td>53.1000</td>\n",
       "      <td>C123</td>\n",
       "      <td>S</td>\n",
       "    </tr>\n",
       "    <tr>\n",
       "      <th>6</th>\n",
       "      <td>7</td>\n",
       "      <td>0</td>\n",
       "      <td>1</td>\n",
       "      <td>McCarthy, Mr. Timothy J</td>\n",
       "      <td>male</td>\n",
       "      <td>54.0</td>\n",
       "      <td>0</td>\n",
       "      <td>0</td>\n",
       "      <td>17463</td>\n",
       "      <td>51.8625</td>\n",
       "      <td>E46</td>\n",
       "      <td>S</td>\n",
       "    </tr>\n",
       "    <tr>\n",
       "      <th>10</th>\n",
       "      <td>11</td>\n",
       "      <td>1</td>\n",
       "      <td>3</td>\n",
       "      <td>Sandstrom, Miss. Marguerite Rut</td>\n",
       "      <td>female</td>\n",
       "      <td>4.0</td>\n",
       "      <td>1</td>\n",
       "      <td>1</td>\n",
       "      <td>PP 9549</td>\n",
       "      <td>16.7000</td>\n",
       "      <td>G6</td>\n",
       "      <td>S</td>\n",
       "    </tr>\n",
       "    <tr>\n",
       "      <th>11</th>\n",
       "      <td>12</td>\n",
       "      <td>1</td>\n",
       "      <td>1</td>\n",
       "      <td>Bonnell, Miss. Elizabeth</td>\n",
       "      <td>female</td>\n",
       "      <td>58.0</td>\n",
       "      <td>0</td>\n",
       "      <td>0</td>\n",
       "      <td>113783</td>\n",
       "      <td>26.5500</td>\n",
       "      <td>C103</td>\n",
       "      <td>S</td>\n",
       "    </tr>\n",
       "  </tbody>\n",
       "</table>\n",
       "</div>"
      ],
      "text/plain": [
       "    PassengerId  Survived  Pclass  \\\n",
       "1             2         1       1   \n",
       "3             4         1       1   \n",
       "6             7         0       1   \n",
       "10           11         1       3   \n",
       "11           12         1       1   \n",
       "\n",
       "                                                 Name     Sex   Age  SibSp  \\\n",
       "1   Cumings, Mrs. John Bradley (Florence Briggs Th...  female  38.0      1   \n",
       "3        Futrelle, Mrs. Jacques Heath (Lily May Peel)  female  35.0      1   \n",
       "6                             McCarthy, Mr. Timothy J    male  54.0      0   \n",
       "10                    Sandstrom, Miss. Marguerite Rut  female   4.0      1   \n",
       "11                           Bonnell, Miss. Elizabeth  female  58.0      0   \n",
       "\n",
       "    Parch    Ticket     Fare Cabin Embarked  \n",
       "1       0  PC 17599  71.2833   C85        C  \n",
       "3       0    113803  53.1000  C123        S  \n",
       "6       0     17463  51.8625   E46        S  \n",
       "10      1   PP 9549  16.7000    G6        S  \n",
       "11      0    113783  26.5500  C103        S  "
      ]
     },
     "metadata": {},
     "output_type": "display_data"
    }
   ],
   "source": [
    "import ast\n",
    "\n",
    "# Function to handle missing values based on selected action\n",
    "def solveMissing(data, MISSING_ACTION):\n",
    "    messageOut = []\n",
    "    allColumns = list(data.columns)\n",
    "    datePreds = []\n",
    "    categoricalPreds = []\n",
    "    numericPreds = []\n",
    "    \n",
    "    for predictor in allColumns:\n",
    "        if data[predictor].dtype == 'object':\n",
    "            try:\n",
    "                pd.to_datetime(data[predictor])\n",
    "                datePreds.append(predictor)\n",
    "            except:\n",
    "                categoricalPreds.append(predictor) \n",
    "        elif 'datetime' in str(data[predictor].dtype):\n",
    "            datePreds.append(predictor)\n",
    "        else:\n",
    "            numericPreds.append(predictor)\n",
    "    \n",
    "    if 'None' in MISSING_ACTION[:4]:\n",
    "        messageOut.append('Not solving any columns.')\n",
    "        \n",
    "    if MISSING_ACTION == \"replaceAll\":\n",
    "        messageOut.append('Replacing missing values in all columns:')\n",
    "        for col in allColumns:\n",
    "            if data[col].isna().sum() > 0:\n",
    "                if col in numericPreds:\n",
    "                    data[col].fillna(data[col].mean(), inplace=True)\n",
    "                else:\n",
    "                    data[col].fillna('REPLACED-Undefined', inplace=True)\n",
    "                messageOut.append(col)\n",
    "            \n",
    "    elif \"replaceNumeric\" in MISSING_ACTION:\n",
    "        messageOut.append('Replacing missing values in NUMERIC columns:')\n",
    "        for col in numericPreds:\n",
    "            if data[col].isna().sum() > 0:\n",
    "                data[col].fillna(data[col].mean(), inplace=True)            \n",
    "                messageOut.append(col)\n",
    "            \n",
    "    elif \"replaceCategorical\" in MISSING_ACTION:\n",
    "        messageOut.append('Replacing missing values in CATEGORICAL columns:')\n",
    "        for col in categoricalPreds:\n",
    "            if data[col].isna().sum() > 0:\n",
    "                data[col].fillna('REPLACED-Undefined', inplace=True)\n",
    "                messageOut.append(col)\n",
    "    \n",
    "    elif \"replace\" in MISSING_ACTION:\n",
    "        messageOut.append('Replacing missing values in selected columns.')\n",
    "        colsToReplace = ast.literal_eval(MISSING_ACTION.replace(\"replace\", \"\"))\n",
    "        for col in colsToReplace:\n",
    "            if col in categoricalPreds:\n",
    "                if data[col].isna().sum() > 0:\n",
    "                    data[col].fillna('REPLACED-Undefined', inplace=True)\n",
    "                    messageOut.append(col)\n",
    "            else:\n",
    "                if data[col].isna().sum() > 0:\n",
    "                    data[col].fillna(data[col].mean(), inplace=True)            \n",
    "                    messageOut.append(col)\n",
    "                        \n",
    "    if MISSING_ACTION == 'dropAll':\n",
    "        messageOut.append('Dropping missing values in all columns.')\n",
    "        data.dropna(inplace=True)\n",
    "            \n",
    "    elif \"drop\" in MISSING_ACTION[:4]:\n",
    "        messageOut.append('Dropping missing values in selected columns.')\n",
    "        colsToDrop = ast.literal_eval(MISSING_ACTION.replace(\"drop\", \"\"))\n",
    "        data.dropna(subset=colsToDrop, inplace=True)\n",
    "        messageOut.append(colsToDrop)\n",
    "    \n",
    "    if len(messageOut) == 0:\n",
    "        messageOut.append('[INFO] There is nothing to do for selected action.')\n",
    "    print(messageOut)\n",
    "    return data\n",
    "\n",
    "# Apply the chosen action for handling missing values\n",
    "missing_action_value = MISSING_ACTION.value\n",
    "columns_action_value = list(COLUMNS_ACTION.value)\n",
    "if 'ALL COLUMNS' in columns_action_value:\n",
    "    missing_action_concat = missing_action_value + 'All'\n",
    "else:\n",
    "    missing_action_concat = missing_action_value + str(columns_action_value)\n",
    "\n",
    "data = solveMissing(data, missing_action_concat)\n",
    "\n",
    "display(data.head())"
   ]
  },
  {
   "cell_type": "markdown",
   "id": "4d3a073c-e812-4042-a9f3-06e9ac525175",
   "metadata": {},
   "source": [
    "## Categorical Variable Encoding\n",
    "The Causal Inference models require numeric variables. We'll use Label Encoding to transform our categorical variables to numeric.\n",
    "\n",
    "__Execute the code below to identify CATEGORICAL variables__"
   ]
  },
  {
   "cell_type": "code",
   "execution_count": 34,
   "id": "e92f67e0-7f6e-46be-98c1-0fafc53aa8c7",
   "metadata": {
    "tags": []
   },
   "outputs": [
    {
     "name": "stdout",
     "output_type": "stream",
     "text": [
      "=====================================\n",
      "Dataset contains following data types\n",
      "Date variables: [ 0 ]\n",
      "[]\n",
      "-------------------------------------\n",
      "Categorical variables: [ 5 ]\n",
      "['Name', 'Sex', 'Ticket', 'Cabin', 'Embarked']\n",
      "-------------------------------------\n",
      "Numeric variables: [ 7 ]\n",
      "['PassengerId', 'Survived', 'Pclass', 'Age', 'SibSp', 'Parch', 'Fare']\n",
      "=====================================\n"
     ]
    },
    {
     "data": {
      "application/vnd.jupyter.widget-view+json": {
       "model_id": "f5a049df881b466684e0469aaf640a97",
       "version_major": 2,
       "version_minor": 0
      },
      "text/plain": [
       "SelectMultiple(description='Convert to Numeric', layout=Layout(height='150px', width='70%'), options=('Passeng…"
      ]
     },
     "metadata": {},
     "output_type": "display_data"
    },
    {
     "data": {
      "application/vnd.jupyter.widget-view+json": {
       "model_id": "355635a301e74cea84140770478ccb80",
       "version_major": 2,
       "version_minor": 0
      },
      "text/plain": [
       "SelectMultiple(description='Variables to Encode', layout=Layout(height='150px', width='70%'), options=('Passen…"
      ]
     },
     "metadata": {},
     "output_type": "display_data"
    },
    {
     "data": {
      "application/vnd.jupyter.widget-view+json": {
       "model_id": "d60af1db47bb4dbbb4602161af7eee1c",
       "version_major": 2,
       "version_minor": 0
      },
      "text/plain": [
       "SelectMultiple(description='Variables to Ignore (drop)', layout=Layout(height='150px', width='70%'), options=(…"
      ]
     },
     "metadata": {},
     "output_type": "display_data"
    },
    {
     "data": {
      "application/vnd.jupyter.widget-view+json": {
       "model_id": "734b86a7055f4e98b81073ee18758622",
       "version_major": 2,
       "version_minor": 0
      },
      "text/plain": [
       "Button(button_style='info', description='Apply', style=ButtonStyle(), tooltip='Apply selections')"
      ]
     },
     "metadata": {},
     "output_type": "display_data"
    },
    {
     "data": {
      "application/vnd.jupyter.widget-view+json": {
       "model_id": "149326877f5d4a989579d9805ded5360",
       "version_major": 2,
       "version_minor": 0
      },
      "text/plain": [
       "Output()"
      ]
     },
     "metadata": {},
     "output_type": "display_data"
    }
   ],
   "source": [
    "from IPython.display import display, clear_output\n",
    "from ipywidgets import Layout\n",
    "from sklearn.preprocessing import LabelEncoder\n",
    "\n",
    "\n",
    "def getDataTypes(data):\n",
    "    allColumns = list(data.columns)\n",
    "    datePreds = []\n",
    "    categoricalPreds = []\n",
    "    numericPreds = []\n",
    "    \n",
    "    for predictor in allColumns:\n",
    "        if data[predictor].dtype == 'object':\n",
    "            try:\n",
    "                pd.to_datetime(data[predictor])\n",
    "                datePreds.append(predictor)\n",
    "            except:\n",
    "                categoricalPreds.append(predictor) \n",
    "        elif 'datetime' in str(data[predictor].dtype):\n",
    "            datePreds.append(predictor)\n",
    "        else:\n",
    "            numericPreds.append(predictor)\n",
    "    \n",
    "    print('=====================================')\n",
    "    print('Dataset contains following data types')\n",
    "    print('Date variables:', '[', len(datePreds), ']')\n",
    "    print(datePreds)\n",
    "    print('-------------------------------------')\n",
    "    print('Categorical variables:', '[', len(categoricalPreds), ']')\n",
    "    print(categoricalPreds)\n",
    "    print('-------------------------------------')\n",
    "    print('Numeric variables:', '[', len(numericPreds), ']')\n",
    "    print(numericPreds)\n",
    "    print('=====================================')\n",
    "\n",
    "    return datePreds, categoricalPreds, numericPreds\n",
    "\n",
    "\n",
    "# Assume df_global is the DataFrame loaded from previous code block\n",
    "if data is None:\n",
    "    raise ValueError(\"DataFrame is not loaded. Please load the DataFrame first.\")\n",
    "\n",
    "# Identify initial data types\n",
    "datePreds, categoricalPreds, numericPreds = getDataTypes(data)\n",
    "\n",
    "# Create widgets for user selection with adjusted layout and style for better visibility\n",
    "numeric_cols_widget = widgets.SelectMultiple(\n",
    "    options=data.columns,\n",
    "    description='Convert to Numeric',\n",
    "    disabled=False,\n",
    "    layout=Layout(width='70%', height='150px'),\n",
    "    style={'description_width': 'initial'}\n",
    ")\n",
    "\n",
    "categorical_cols_widget = widgets.SelectMultiple(\n",
    "    options=data.columns,\n",
    "    description='Variables to Encode',\n",
    "    disabled=False,\n",
    "    layout=Layout(width='70%', height='150px'),\n",
    "    style={'description_width': 'initial'}\n",
    ")\n",
    "\n",
    "ignore_cols_widget = widgets.SelectMultiple(\n",
    "    options=data.columns,\n",
    "    description='Variables to Ignore (drop)',\n",
    "    disabled=False,\n",
    "    layout=Layout(width='70%', height='150px'),\n",
    "    style={'description_width': 'initial'}\n",
    ")\n",
    "\n",
    "apply_button = widgets.Button(\n",
    "    description='Apply',\n",
    "    disabled=False,\n",
    "    button_style='info',  # 'success', 'info', 'warning', 'danger' or ''\n",
    "    tooltip='Apply selections'\n",
    ")\n",
    "\n",
    "output = widgets.Output()\n",
    "\n",
    "def apply_selections(_):\n",
    "    global data  # Ensure we're modifying the global data\n",
    "    with output:\n",
    "        clear_output()\n",
    "        to_numeric = list(numeric_cols_widget.value)\n",
    "        to_encode = list(categorical_cols_widget.value)\n",
    "        to_ignore = list(ignore_cols_widget.value)\n",
    "        \n",
    "        # Drop ignored columns\n",
    "        data.drop(columns=to_ignore, inplace=True, errors='ignore')\n",
    "        \n",
    "        # Convert selected columns to numeric\n",
    "        for var in to_numeric:\n",
    "            if var in data.columns:  # Ensure the column is not dropped\n",
    "                data[var] = pd.to_numeric(data[var], errors='coerce')\n",
    "        \n",
    "        # Update data types after conversion\n",
    "        datePreds, categoricalPreds, numericPreds = getDataTypes(data)\n",
    "        \n",
    "        # Encode selected columns\n",
    "        for col in to_encode:\n",
    "            if col in data.columns:  # Ensure the column is not dropped\n",
    "                lb_make = LabelEncoder()\n",
    "                data[col + '_code'] = lb_make.fit_transform(data[col])\n",
    "                data.drop(col, axis=1, inplace=True)\n",
    "        \n",
    "        # Display the updated DataFrame\n",
    "        display(data.head())\n",
    "\n",
    "# Attach the apply function to the button\n",
    "apply_button.on_click(apply_selections)\n",
    "\n",
    "# Display widgets\n",
    "display(numeric_cols_widget, categorical_cols_widget, ignore_cols_widget, apply_button, output)\n"
   ]
  },
  {
   "cell_type": "markdown",
   "id": "86e301dc-84d0-4cd8-a04a-c5e6f8a322dd",
   "metadata": {
    "jp-MarkdownHeadingCollapsed": true,
    "tags": []
   },
   "source": [
    "---\n",
    "# Causal Inference Analysis with DoWhy\n",
    "\n",
    "We will perform a causal inference analysis using the DoWhy library. Causal inference helps us understand the effect of one variable on another, going beyond simple correlations to understand causation.\n",
    "\n"
   ]
  },
  {
   "cell_type": "markdown",
   "id": "9465341b-fec8-458a-bf8f-9f63c8966c71",
   "metadata": {},
   "source": [
    "## Step-by-Step Explanation\n",
    "\n",
    "### 1. Import Necessary Libraries\n",
    "\n",
    "First, we import the required libraries. We use `pandas` to handle our data and `dowhy` for causal inference.\n"
   ]
  },
  {
   "cell_type": "code",
   "execution_count": 16,
   "id": "aa27ef35-e344-4a22-a588-40d3ffa35024",
   "metadata": {
    "tags": []
   },
   "outputs": [],
   "source": [
    "from dowhy import CausalModel\n"
   ]
  },
  {
   "cell_type": "markdown",
   "id": "ad89c8c5-ed18-4b66-a5d5-88095e4e26ef",
   "metadata": {},
   "source": [
    "---\n",
    "### Define the Causal Model\n",
    "\n",
    "Next, we define our causal model. This involves specifying the treatment variable, the outcome variable, and any common causes (confounders).\n",
    "\n",
    "- **Treatment Variable (`Fare`)**: This is the variable you suspect affects the outcome. \n",
    "- **Outcome Variable (`Survived`)**: This is the variable you want to understand the impact on. \n",
    "- **Common Causes**: These are variables that might affect both the treatment and the outcome, such as `Age`, `Gender` or others\n"
   ]
  },
  {
   "cell_type": "code",
   "execution_count": 35,
   "id": "8f9a7fea-9595-4b7d-8b7e-a4a285eb2367",
   "metadata": {
    "tags": []
   },
   "outputs": [
    {
     "data": {
      "application/vnd.jupyter.widget-view+json": {
       "model_id": "0bc964c738874532a6c90e2c85ba8745",
       "version_major": 2,
       "version_minor": 0
      },
      "text/plain": [
       "Dropdown(description='Treatment:', options=('Survived', 'Pclass', 'Name', 'Age', 'SibSp', 'Parch', 'Ticket', '…"
      ]
     },
     "metadata": {},
     "output_type": "display_data"
    },
    {
     "data": {
      "application/vnd.jupyter.widget-view+json": {
       "model_id": "fc2f4fe2e78347a88e569f52e25f5f68",
       "version_major": 2,
       "version_minor": 0
      },
      "text/plain": [
       "Dropdown(description='Outcome:', options=('Survived', 'Pclass', 'Name', 'Age', 'SibSp', 'Parch', 'Ticket', 'Fa…"
      ]
     },
     "metadata": {},
     "output_type": "display_data"
    },
    {
     "data": {
      "application/vnd.jupyter.widget-view+json": {
       "model_id": "714f7afaec834ac1a156f7f16c04329c",
       "version_major": 2,
       "version_minor": 0
      },
      "text/plain": [
       "SelectMultiple(description='Common Causes:', options=('Survived', 'Pclass', 'Name', 'Age', 'SibSp', 'Parch', '…"
      ]
     },
     "metadata": {},
     "output_type": "display_data"
    },
    {
     "data": {
      "application/vnd.jupyter.widget-view+json": {
       "model_id": "ce3ca7613eb6438ca32d40b03d181863",
       "version_major": 2,
       "version_minor": 0
      },
      "text/plain": [
       "Button(description='Define Model', style=ButtonStyle(), tooltip='Define causal model')"
      ]
     },
     "metadata": {},
     "output_type": "display_data"
    },
    {
     "data": {
      "application/vnd.jupyter.widget-view+json": {
       "model_id": "8a02503145ed4193a8ea1d805c0c29e7",
       "version_major": 2,
       "version_minor": 0
      },
      "text/plain": [
       "Output()"
      ]
     },
     "metadata": {},
     "output_type": "display_data"
    }
   ],
   "source": [
    "# Widgets for causal model selection\n",
    "treatment_widget = widgets.Dropdown(\n",
    "    options=data.columns,\n",
    "    description='Treatment:',\n",
    "    disabled=False\n",
    ")\n",
    "\n",
    "outcome_widget = widgets.Dropdown(\n",
    "    options=data.columns,\n",
    "    description='Outcome:',\n",
    "    disabled=False\n",
    ")\n",
    "\n",
    "common_causes_widget = widgets.SelectMultiple(\n",
    "    options=data.columns,\n",
    "    description='Common Causes:',\n",
    "    disabled=False\n",
    ")\n",
    "\n",
    "define_model_button = widgets.Button(\n",
    "    description='Define Model',\n",
    "    disabled=False,\n",
    "    button_style='', # 'success', 'info', 'warning', 'danger' or ''\n",
    "    tooltip='Define causal model'\n",
    ")\n",
    "\n",
    "causal_output = widgets.Output()\n",
    "\n",
    "# Global variable to store the causal model\n",
    "causal_model_global = None\n",
    "\n",
    "def define_causal_model(_):\n",
    "    global causal_model_global\n",
    "    with causal_output:\n",
    "        clear_output()\n",
    "        treatment = treatment_widget.value\n",
    "        outcome = outcome_widget.value\n",
    "        common_causes = list(common_causes_widget.value)\n",
    "        \n",
    "        # Define the causal model\n",
    "        causal_model_global = CausalModel(\n",
    "            data=data,\n",
    "            treatment=treatment,\n",
    "            outcome=outcome,\n",
    "            common_causes=common_causes\n",
    "        )\n",
    "        print(\"Causal model defined with treatment:\", treatment)\n",
    "        print(\"Outcome:\", outcome)\n",
    "        print(\"Common causes:\", common_causes)\n",
    "        # You can add further code to display the model or its properties\n",
    "\n",
    "# Attach the define model function to the button\n",
    "define_model_button.on_click(define_causal_model)\n",
    "\n",
    "# Display causal model widgets\n",
    "display(treatment_widget, outcome_widget, common_causes_widget, define_model_button, causal_output)\n",
    "\n"
   ]
  },
  {
   "cell_type": "markdown",
   "id": "d5ee146a-795b-433c-802a-ea57da5bb978",
   "metadata": {},
   "source": [
    "--- \n",
    "### View the Causal Graph\n",
    "We can visualize the causal graph to understand the relationships between the variables. This helps in ensuring the model is correctly specified.\n",
    "\n",
    "`Nodes` in the Causal Graph are individual variables used in the CausalModel\n",
    "\n",
    "`Edges` (arrows) represent the causal relationships between the variables.\n",
    "\n",
    "- An arrow from `variable 1` to `variable 2` means that `variable 1` is considered a causal factor affecting the `variable 2`.\n",
    "- Multiple arrows between nodes indicate potential confounding relationships.\n",
    "\n",
    "\n",
    "#### Explanation of the Relationships\n",
    "__Direct Effects:__\n",
    "Direct links between a variable and the outcome variable suggest that there is a direct impact between the two.\n",
    "\n",
    "__Indirect Effects:__\n",
    "A `variable 1` can be linked to a `variable 2` and only `variable 2` is linked to the `outcome variable`. In such case we say that `variable 1` has indirect effect on the `outcome variable`\n",
    "\n",
    "__Confounding Variables:__\n",
    "There might be variables that effect the `outcome variable` both directly and indirectly - we call this `potentil confounders`.\n",
    "These variables are potential confounders that need to be controlled for to accurately estimate the causal effect on `outcome variable`.\n",
    "\n",
    "#### Why This Matters\n",
    "Understanding the structure of the causal graph helps us:\n",
    "- Identify potential confounders that need to be controlled for in the analysis.\n",
    "- Ensure that the causal pathways are correctly specified, which is critical for accurate causal inference.\n",
    "- Visualize the assumptions about the causal relationships between variables."
   ]
  },
  {
   "cell_type": "code",
   "execution_count": 36,
   "id": "96caf249-a3e9-4e8b-8b68-477dc0fb276c",
   "metadata": {
    "tags": []
   },
   "outputs": [
    {
     "data": {
      "image/png": "[encoded data removed]",
      "text/plain": [
       "<Figure size 800x600 with 1 Axes>"
      ]
     },
     "metadata": {},
     "output_type": "display_data"
    }
   ],
   "source": [
    "# View the causal graph\n",
    "model = causal_model_global\n",
    "model.view_model()\n"
   ]
  },
  {
   "cell_type": "markdown",
   "id": "0e1091b0-d68e-418a-b32b-442f45e063b1",
   "metadata": {},
   "source": [
    "---\n",
    "### Identify the Causal Effect\n",
    "The next step is to identify the causal effect using the model.\n",
    "\n",
    "This step involves determining how we can estimate the causal effect from the data.\n",
    "\n",
    "`identify_effect()`: This method identifies the causal effect by using the causal graph to determine the appropriate method to estimate the effect. It checks if the causal effect can be identified given the specified model.\n"
   ]
  },
  {
   "cell_type": "code",
   "execution_count": 37,
   "id": "ec20c9b3-b6ed-46b5-854d-984a5684e9e2",
   "metadata": {
    "tags": []
   },
   "outputs": [
    {
     "name": "stdout",
     "output_type": "stream",
     "text": [
      "Estimand type: EstimandType.NONPARAMETRIC_ATE\n",
      "\n",
      "### Estimand : 1\n",
      "Estimand name: backdoor\n",
      "Estimand expression:\n",
      "   d                                                \n",
      "───────(E[Survived|SibSp,Parch,Age,Sex_code,Pclass])\n",
      "d[Fare]                                             \n",
      "Estimand assumption 1, Unconfoundedness: If U→{Fare} and U→Survived then P(Survived|Fare,SibSp,Parch,Age,Sex_code,Pclass,U) = P(Survived|Fare,SibSp,Parch,Age,Sex_code,Pclass)\n",
      "\n",
      "### Estimand : 2\n",
      "Estimand name: iv\n",
      "No such variable(s) found!\n",
      "\n",
      "### Estimand : 3\n",
      "Estimand name: frontdoor\n",
      "No such variable(s) found!\n",
      "\n"
     ]
    }
   ],
   "source": [
    "# Identify causal effect\n",
    "identified_estimand = model.identify_effect()\n",
    "print(identified_estimand)"
   ]
  },
  {
   "cell_type": "markdown",
   "id": "90ac6a95-b71c-4bc4-a077-05e7f9aa211c",
   "metadata": {},
   "source": [
    "## Interpretation of possible identified estimant (for sample TITANIC dataset)\n",
    "\n",
    "### Estimand Type\n",
    "Estimand Type: `EstimandType.NONPARAMETRIC_ATE`\n",
    "This indicates that the type of causal effect being estimated is the Average Treatment Effect (ATE) using a non-parametric approach. The ATE is the expected difference in the outcome if everyone in the population were given the treatment versus if no one were given the treatment.\n",
    "\n",
    "__Estimand : `backdoor`__\n",
    "\n",
    "The \"backdoor\" criterion is used to control for confounding variables. This method leverages the backdoor adjustment formula to estimate the causal effect by conditioning on a set of covariates that block all backdoor paths from the treatment to the outcome.\n",
    "\n",
    "- __Estimand Expression:__\n",
    "\n",
    "```css\n",
    "   d                                                                          \n",
    "───────(E[Survived|Sex_code,Age,Parch,Pclass,SibSp])\n",
    "d[Fare]    \n",
    "```\n",
    "\n",
    "  - This mathematical expression represents the derivative (or causal effect) of the expected value of Survived with respect to Fare, conditioned on the covariates Sex_code, Age, Parch (Parents_Children_Aboard), Pclass, and SibSp(Siblings_Spouses_Aboard).\n",
    "  \n",
    "__Estimand assumption 1__\n",
    " - This assumption states that there are no unobserved confounders (U) that affect both the treatment (Fare) and the outcome (Survived). In other words, after conditioning on the observed covariates (Sex_code, Age, Parch, Pclass, SibSp), the treatment assignment is independent of the outcome.\n",
    " \n",
    "__Estimand : iv (Instrumental Variables)__\n",
    "\n",
    "- This approach uses instrumental variables to estimate the causal effect. However, in this case, no instrumental variables were found in the data that satisfy the necessary conditions for a valid IV estimation.\n",
    "\n",
    "__Estimand : frontdoor (Frontdoor Adjustment)__\n",
    "\n",
    "- This approach uses the frontdoor criterion to estimate the causal effect. Similar to the IV approach, no variables were found that satisfy the conditions for a valid frontdoor adjustment in this model."
   ]
  },
  {
   "cell_type": "markdown",
   "id": "d972d265-2b49-4748-911f-7d8194a9ad91",
   "metadata": {},
   "source": [
    "---\n",
    "### Estimate the Causal Effect\n",
    "Now we estimate the causal effect using a specified method. \n",
    "Here, we use the \"backdoor.linear_regression\" method, which is suitable for continuous outcomes and treatments.\n",
    "\n",
    "In DoWhy, the estimate_effect method allows you to choose different estimation methods to estimate the causal effect. The method_name parameter specifies the estimation method you want to use. The choice of method depends on the characteristics of your data and the assumptions you are willing to make.\n",
    "\n",
    "Here are some common method names you can use with estimate_effect:\n",
    "\n",
    "1. Backdoor Methods\n",
    "These methods adjust for confounders by modeling the relationship between treatment, outcome, and confounders.\n",
    "\n",
    "`backdoor.linear_regression`: Uses linear regression to estimate the causal effect.\n",
    "`backdoor.propensity_score_matching`: Uses propensity score matching to estimate the causal effect by matching treated and control units with similar propensity scores.\n",
    "`backdoor.propensity_score_weighting`: Uses propensity score weighting to reweight the samples and estimate the causal effect.\n",
    "`backdoor.propensity_score_stratification`: Stratifies the data into bins based on propensity scores and estimates the causal effect within each stratum.\n",
    "\n",
    "\n",
    "2. Instrumental Variable (IV) Methods\n",
    "These methods use instrumental variables to estimate causal effects when there are unobserved confounders.\n",
    "\n",
    "`iv.two_stage_least_squares`: Uses two-stage least squares regression for instrumental variable estimation.\n",
    "\n",
    "\n",
    "3. Frontdoor Methods\n",
    "These methods adjust for confounders using the frontdoor criterion.\n",
    "\n",
    "`frontdoor.adjustment`: Uses the frontdoor adjustment formula to estimate the causal effect.\n",
    "\n",
    "\n",
    "#### Choosing a Method\n",
    "The choice of method depends on the specific characteristics of your data and the assumptions you are willing to make. \n",
    "\n",
    "__Here are some guidelines:__\n",
    "\n",
    "- `Linear Regression (backdoor.linear_regression)`: Use this if you believe the relationship between your treatment, outcome, and confounders can be modeled linearly.\n",
    "- `Propensity Score Methods`: Use these if you want to balance the covariates between treated and control groups.\n",
    "- `Matching (backdoor.propensity_score_matching)`: Use this if you prefer to match treated and control units with similar propensity scores.\n",
    "- `Weighting (backdoor.propensity_score_weighting)`: Use this if you want to reweight the samples based on propensity scores.\n",
    "- `Stratification (backdoor.propensity_score_stratification)`: Use this if you prefer to stratify the data into bins based on propensity scores.\n",
    "- `Instrumental Variable Methods (iv.two_stage_least_squares)`: Use this if you have a valid instrumental variable that affects the treatment but not the outcome directly.\n",
    "- `Frontdoor Methods (frontdoor.adjustment)`: Use this if you can identify a frontdoor variable that mediates the effect of the treatment on the outcome and blocks all backdoor paths."
   ]
  },
  {
   "cell_type": "code",
   "execution_count": 38,
   "id": "e484bfce-b94b-4216-90bc-10c706281ce3",
   "metadata": {
    "tags": []
   },
   "outputs": [
    {
     "name": "stdout",
     "output_type": "stream",
     "text": [
      "Realized estimand:\n",
      "b: Survived~Fare+SibSp+Parch+Age+Sex_code+Pclass\n",
      "\n",
      "Estimate value:\n",
      "0.00019838703492081056\n"
     ]
    }
   ],
   "source": [
    "# Estimate the causal effect\n",
    "causal_estimate = model.estimate_effect(identified_estimand, method_name=\"backdoor.linear_regression\")\n",
    "\n",
    "# Display the causal effect\n",
    "print('Realized estimand:')\n",
    "print(causal_estimate.realized_estimand_expr)\n",
    "print('')\n",
    "print('Estimate value:')\n",
    "print(causal_estimate.value)\n"
   ]
  },
  {
   "cell_type": "markdown",
   "id": "86c671be-011f-4ef8-8595-ad31fd642963",
   "metadata": {},
   "source": [
    "### Interpretation of model estimate effect for the sample TITANIC dataset\n",
    "__Realized Estimand:__\n",
    "\n",
    "- Regression Formula: `Survived ~ Fare + Sex_code + Age + Parch + Pclass + SibSp`\n",
    "- Target Units: The estimate is for the average treatment effect (ATE).\n",
    "\n",
    "__Estimate Value:__ 0.00019838703492081056\n",
    "- This mean value represents the estimated average causal effect of the treatment (`Fare`) on the outcome (`Survived`), after controlling for the specified confounders.\n",
    "\n",
    "#### Interpretation\n",
    "The small positive mean value (0.00019838703492081056) suggests that, on average, an increase in the fare has a very slight positive effect on the probability of survival, after adjusting for other variables like sex, age, family aboard, class, and siblings/spouses aboard.\n",
    "\n",
    "This estimate, while statistically small, might indicate that passengers who paid higher fares had a marginally higher chance of survival, possibly reflecting socioeconomic factors or access to better lifeboat accommodations during the Titanic disaster.\n"
   ]
  },
  {
   "cell_type": "markdown",
   "id": "fdfaee37-8f84-4cfa-8d4b-d385c1051f22",
   "metadata": {
    "jp-MarkdownHeadingCollapsed": true,
    "tags": []
   },
   "source": [
    "# What's next? Experiment, adjust, repeat..."
   ]
  },
  {
   "cell_type": "markdown",
   "id": "160eb20e-6a5f-4ab2-bba6-19e92b7d9f71",
   "metadata": {},
   "source": [
    "The example showed that the Fare variable doesn't have a big impact on Survival. Let's try another one..."
   ]
  },
  {
   "cell_type": "code",
   "execution_count": 39,
   "id": "8af379a9-ea73-4340-be53-f6c3813e931f",
   "metadata": {
    "tags": []
   },
   "outputs": [
    {
     "name": "stderr",
     "output_type": "stream",
     "text": [
      "Causal Graph not provided. DoWhy will construct a graph based on data inputs.\n",
      "Causal Graph not provided. DoWhy will construct a graph based on data inputs.\n",
      "There are an additional 3 variables in the dataset that are not in the graph. Variable names are: '['Embarked', 'Name', 'Ticket']'\n",
      "There are an additional 3 variables in the dataset that are not in the graph. Variable names are: '['Embarked', 'Name', 'Ticket']'\n"
     ]
    },
    {
     "data": {
      "image/png": "[encoded data removed]",
      "text/plain": [
       "<Figure size 800x600 with 1 Axes>"
      ]
     },
     "metadata": {},
     "output_type": "display_data"
    },
    {
     "name": "stdout",
     "output_type": "stream",
     "text": [
      "Realized estimand:\n",
      "b: Survived~Sex_code+SibSp+Parch+Age+Fare+Pclass\n",
      "\n",
      "Estimate value:\n",
      "-0.49322283890980323\n"
     ]
    }
   ],
   "source": [
    "# Define the causal model\n",
    "model = CausalModel(\n",
    "    data=data,\n",
    "    treatment=\"Sex_code\",\n",
    "    outcome=\"Survived\",\n",
    "    common_causes=[\"Pclass\", \"Age\", \"Fare\", \"SibSp\", \"Parch\"]\n",
    ")\n",
    "\n",
    "# View the causal graph\n",
    "model.view_model()\n",
    "\n",
    "# Identify causal effect\n",
    "identified_estimand = model.identify_effect()\n",
    "\n",
    "# Estimate the causal effect\n",
    "causal_estimate = model.estimate_effect(identified_estimand, method_name=\"backdoor.linear_regression\")\n",
    "\n",
    "# Display the causal effect\n",
    "print('Realized estimand:')\n",
    "print(causal_estimate.realized_estimand_expr)\n",
    "print('')\n",
    "print('Estimate value:')\n",
    "print(causal_estimate.value)"
   ]
  },
  {
   "cell_type": "markdown",
   "id": "57c5c8bd-83d8-4ad9-a120-41e00f5030c8",
   "metadata": {},
   "source": [
    "## --->\n",
    "A mean value of __-0.49322283890980323__ indicates that being male (if Sex_code=0) is associated with a __decrease in the probability of survival by approximately 0.493 (or 49.3 percentage points)__, compared to being female (if Sex_code=1), after controlling for the specified confounders."
   ]
  },
  {
   "cell_type": "code",
   "execution_count": null,
   "id": "8164c9a6-6438-4da1-b839-106d8f77412e",
   "metadata": {},
   "outputs": [],
   "source": []
  }
 ],
 "metadata": {
  "kernelspec": {
   "display_name": "Python3",
   "language": "python",
   "name": "python3"
  },
  "language_info": {
   "codemirror_mode": {
    "name": "ipython",
    "version": 3
   },
   "file_extension": ".py",
   "mimetype": "text/x-python",
   "name": "python",
   "nbconvert_exporter": "python",
   "pygments_lexer": "ipython3",
   "version": "3.10.10"
  }
 },
 "nbformat": 4,
 "nbformat_minor": 5
}
