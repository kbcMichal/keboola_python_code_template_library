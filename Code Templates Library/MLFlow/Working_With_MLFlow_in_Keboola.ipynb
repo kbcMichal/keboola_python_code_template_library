{
 "cells": [
  {
   "cell_type": "markdown",
   "id": "b809c585-4283-42dd-9200-7e7456b6561a",
   "metadata": {},
   "source": [
    "## Using MLFlow in Keboola Python Workspaces\n",
    "\n",
    "This notebook demonstrates how to use MLFlow within Keboola Python Workspaces. MLFlow is a platform for managing machine learning experiments, including tracking metrics, parameters, and model artifacts.\n",
    "\n",
    "### Prerequisites\n",
    "\n",
    "- Ensure that ML/AI Services are enabled in your Keboola project. If not, please contact the Keboola Support team to enable these services.\n",
    "- Basic understanding of Python and machine learning concepts.\n",
    "\n",
    "### Key Features of MLFlow:\n",
    "\n",
    "1. **Setting Up Experiments**: Organize and track your experiments.\n",
    "2. **Logging Parameters and Metrics**: Record parameters and metrics used in your experiments.\n",
    "3. **Saving and Registering Models**: Log and register models for deployment.\n",
    "\n",
    "In this notebook, we'll demonstrate these features using sample data from the Scikit-Learn library.\n"
   ]
  },
  {
   "cell_type": "code",
   "execution_count": null,
   "id": "81ed62bd-b8d5-45b8-871f-7434d682abbd",
   "metadata": {
    "tags": []
   },
   "outputs": [],
   "source": [
    "import mlflow\n",
    "import mlflow.sklearn\n",
    "from sklearn.datasets import load_iris\n",
    "from sklearn.model_selection import train_test_split\n",
    "from sklearn.ensemble import RandomForestClassifier\n",
    "import pandas as pd\n",
    "import logging\n",
    "\n",
    "# Set up logging\n",
    "logging.basicConfig(level=logging.INFO)\n",
    "\n",
    "# Load sample data\n",
    "iris = load_iris()\n",
    "X = pd.DataFrame(iris.data, columns=iris.feature_names)\n",
    "y = pd.Series(iris.target)\n",
    "\n",
    "# Split the data into training and test sets\n",
    "X_train, X_test, y_train, y_test = train_test_split(X, y, test_size=0.2, random_state=42)\n"
   ]
  },
  {
   "cell_type": "markdown",
   "id": "86e7fa85-03e1-4284-8f21-17c6d46622d8",
   "metadata": {},
   "source": [
    "---\n",
    "### Setting Up an Experiment\n",
    "\n",
    "We'll start by setting up an experiment in MLFlow. This helps in organizing and tracking different runs of your machine learning experiments.\n"
   ]
  },
  {
   "cell_type": "code",
   "execution_count": null,
   "id": "f805ff4d-bb3d-4fdf-9fae-36a5b5af570d",
   "metadata": {
    "tags": []
   },
   "outputs": [],
   "source": [
    "# Set up an experiment\n",
    "experiment_name = \"Iris_Classification_Experiment\"\n",
    "mlflow.set_experiment(experiment_name)\n",
    "\n",
    "logging.info(f\"Experiment '{experiment_name}' is set.\")\n"
   ]
  },
  {
   "cell_type": "markdown",
   "id": "35845325-b3b4-4af2-8abc-cb6bd9c09530",
   "metadata": {},
   "source": [
    "---\n",
    "### Starting and Ending a Run\n",
    "\n",
    "Within an experiment, you can start and end multiple runs. Each run will log its own set of parameters, metrics, and artifacts.\n"
   ]
  },
  {
   "cell_type": "code",
   "execution_count": null,
   "id": "2c4c3cd2-4a88-46bd-b1c0-0ffb04e5600f",
   "metadata": {
    "tags": []
   },
   "outputs": [],
   "source": [
    "# Start a new run\n",
    "with mlflow.start_run():\n",
    "    # Initialize the model\n",
    "    model = RandomForestClassifier(n_estimators=100, random_state=42)\n",
    "    \n",
    "    # Log parameters\n",
    "    mlflow.log_param(\"n_estimators\", 100)\n",
    "    mlflow.log_param(\"random_state\", 42)\n",
    "    \n",
    "    # Train the model\n",
    "    model.fit(X_train, y_train)\n",
    "    \n",
    "    # Log model\n",
    "    mlflow.sklearn.log_model(model, \"random_forest_model\")\n",
    "    \n",
    "    # Evaluate the model\n",
    "    accuracy = model.score(X_test, y_test)\n",
    "    \n",
    "    # Log metrics\n",
    "    mlflow.log_metric(\"accuracy\", accuracy)\n",
    "    \n",
    "    logging.info(f\"Model accuracy: {accuracy}\")\n",
    "\n",
    "    # End the run\n",
    "    logging.info(\"Run ended. Check the MLFlow UI for details.\")\n"
   ]
  },
  {
   "cell_type": "markdown",
   "id": "b9f7454a-e654-4268-88ce-0df927fa6451",
   "metadata": {},
   "source": [
    "---\n",
    "### Viewing Results in MLFlow UI\n",
    "\n",
    "In the MLFlow UI, you can see the logged parameters, metrics, and model artifacts. You can access the UI through the Keboola platform from your Workspace Configuration.\n"
   ]
  },
  {
   "cell_type": "markdown",
   "id": "72635049-5efb-46cf-9870-b8f557c15b77",
   "metadata": {},
   "source": [
    "---\n",
    "### Logging and Registering a Model\n",
    "\n",
    "We'll demonstrate how to log a model and register it for deployment. This allows you to manage and version your models. Additionally, we'll log an `input_example` to illustrate how the model can be used with sample inputs.\n"
   ]
  },
  {
   "cell_type": "code",
   "execution_count": null,
   "id": "1eb66237-91a2-42da-80b5-b133c4752a54",
   "metadata": {
    "tags": []
   },
   "outputs": [],
   "source": [
    "# Start a new run\n",
    "with mlflow.start_run():\n",
    "    # Initialize the model\n",
    "    model = RandomForestClassifier(n_estimators=150, random_state=42)\n",
    "    \n",
    "    # Log parameters\n",
    "    mlflow.log_param(\"n_estimators\", 150)\n",
    "    mlflow.log_param(\"random_state\", 42)\n",
    "    \n",
    "    # Train the model\n",
    "    model.fit(X_train, y_train)\n",
    "    \n",
    "    # Create an input example\n",
    "    input_example = X_train.head(1)\n",
    "    \n",
    "    # Log model with input example\n",
    "    mlflow.sklearn.log_model(model, \"random_forest_model_v2\", input_example=input_example)\n",
    "    \n",
    "    # Evaluate the model\n",
    "    accuracy = model.score(X_test, y_test)\n",
    "    \n",
    "    # Log metrics\n",
    "    mlflow.log_metric(\"accuracy\", accuracy)\n",
    "    \n",
    "    # Register the model\n",
    "    model_uri = f\"runs:/{mlflow.active_run().info.run_id}/random_forest_model_v2\"\n",
    "    mlflow.register_model(model_uri, \"RandomForestClassifierIris\")\n",
    "\n",
    "    logging.info(f\"Model accuracy: {accuracy}\")\n",
    "    logging.info(\"Model registered in MLFlow UI.\")\n"
   ]
  },
  {
   "cell_type": "markdown",
   "id": "9890c219-3c7f-4d38-8b29-d00b48c9f7fd",
   "metadata": {},
   "source": [
    "---\n",
    "### Deploying the registered models\n",
    "Registered models can be deployed (served) in Keboola Platform. In Keboola UI navigate to Transformations - ML/AI Services and click Deploy Model.\n",
    "\n",
    "The UI will list all models registered in Keboola MLFlow server. It will deploy it as a service and provide you with a URL that can be used to send requests to the model."
   ]
  },
  {
   "cell_type": "markdown",
   "id": "a61b298a-50a8-4e33-a041-2782edad4367",
   "metadata": {},
   "source": [
    "---\n",
    "### Summary\n",
    "\n",
    "In this notebook, we've demonstrated how to use MLFlow within Keboola Python Workspaces. We've covered setting up experiments, starting and ending runs, logging parameters and metrics, and registering models. You can view all the logged information in the MLFlow UI through the Keboola platform.\n",
    "\n",
    "For more information on MLFlow, visit the [MLFlow Documentation](https://www.mlflow.org/docs/latest/index.html).\n"
   ]
  }
 ],
 "metadata": {
  "kernelspec": {
   "display_name": "Python3",
   "language": "python",
   "name": "python3"
  },
  "language_info": {
   "codemirror_mode": {
    "name": "ipython",
    "version": 3
   },
   "file_extension": ".py",
   "mimetype": "text/x-python",
   "name": "python",
   "nbconvert_exporter": "python",
   "pygments_lexer": "ipython3",
   "version": "3.10.10"
  }
 },
 "nbformat": 4,
 "nbformat_minor": 5
}
